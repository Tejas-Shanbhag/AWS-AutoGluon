{
 "cells": [
  {
   "cell_type": "code",
   "execution_count": null,
   "metadata": {},
   "outputs": [],
   "source": []
  },
  {
   "cell_type": "markdown",
   "metadata": {},
   "source": [
    "# Predict Bike Sharing Demand with AutoGluon Template"
   ]
  },
  {
   "cell_type": "markdown",
   "metadata": {},
   "source": [
    "## Project: Predict Bike Sharing Demand with AutoGluon\n",
    "This notebook is a template with each step that you need to complete for the project.\n",
    "\n",
    "Please fill in your code where there are explicit `?` markers in the notebook. You are welcome to add more cells and code as you see fit.\n",
    "\n",
    "Once you have completed all the code implementations, please export your notebook as a HTML file so the reviews can view your code. Make sure you have all outputs correctly outputted.\n",
    "\n",
    "`File-> Export Notebook As... -> Export Notebook as HTML`\n",
    "\n",
    "There is a writeup to complete as well after all code implememtation is done. Please answer all questions and attach the necessary tables and charts. You can complete the writeup in either markdown or PDF.\n",
    "\n",
    "Completing the code template and writeup template will cover all of the rubric points for this project.\n",
    "\n",
    "The rubric contains \"Stand Out Suggestions\" for enhancing the project beyond the minimum requirements. The stand out suggestions are optional. If you decide to pursue the \"stand out suggestions\", you can include the code in this notebook and also discuss the results in the writeup file."
   ]
  },
  {
   "cell_type": "markdown",
   "metadata": {},
   "source": [
    "## Step 1: Create an account with Kaggle"
   ]
  },
  {
   "cell_type": "markdown",
   "metadata": {},
   "source": [
    "### Create Kaggle Account and download API key"
   ]
  },
  {
   "cell_type": "markdown",
   "metadata": {},
   "source": [
    "## Step 2: Download the Kaggle dataset using the kaggle python library"
   ]
  },
  {
   "cell_type": "markdown",
   "metadata": {},
   "source": [
    "### Install packages"
   ]
  },
  {
   "cell_type": "code",
   "execution_count": 6,
   "metadata": {},
   "outputs": [
    {
     "name": "stdout",
     "output_type": "stream",
     "text": [
      "Requirement already satisfied: pip in /usr/local/lib/python3.7/site-packages (21.2.4)\n",
      "Collecting pip\n",
      "  Downloading pip-21.3.1-py3-none-any.whl (1.7 MB)\n",
      "\u001b[K     |████████████████████████████████| 1.7 MB 27.7 MB/s eta 0:00:01\n",
      "\u001b[?25hInstalling collected packages: pip\n",
      "  Attempting uninstall: pip\n",
      "    Found existing installation: pip 21.2.4\n",
      "    Uninstalling pip-21.2.4:\n",
      "      Successfully uninstalled pip-21.2.4\n",
      "Successfully installed pip-21.3.1\n",
      "\u001b[33mWARNING: Running pip as the 'root' user can result in broken permissions and conflicting behaviour with the system package manager. It is recommended to use a virtual environment instead: https://pip.pypa.io/warnings/venv\u001b[0m\n",
      "Requirement already satisfied: setuptools in /usr/local/lib/python3.7/site-packages (58.1.0)\n",
      "Collecting setuptools\n",
      "  Downloading setuptools-58.4.0-py3-none-any.whl (946 kB)\n",
      "     |████████████████████████████████| 946 kB 24.9 MB/s            \n",
      "\u001b[?25hCollecting wheel\n",
      "  Downloading wheel-0.37.0-py2.py3-none-any.whl (35 kB)\n",
      "Installing collected packages: wheel, setuptools\n",
      "  Attempting uninstall: setuptools\n",
      "    Found existing installation: setuptools 58.1.0\n",
      "    Uninstalling setuptools-58.1.0:\n",
      "      Successfully uninstalled setuptools-58.1.0\n",
      "Successfully installed setuptools-58.4.0 wheel-0.37.0\n",
      "\u001b[33mWARNING: Running pip as the 'root' user can result in broken permissions and conflicting behaviour with the system package manager. It is recommended to use a virtual environment instead: https://pip.pypa.io/warnings/venv\u001b[0m\n",
      "Collecting mxnet<2.0.0\n",
      "  Downloading mxnet-1.8.0.post0-py2.py3-none-manylinux2014_x86_64.whl (46.9 MB)\n",
      "     |████████████████████████████████| 46.9 MB 175 kB/s             \n",
      "\u001b[?25hCollecting bokeh==2.0.1\n",
      "  Downloading bokeh-2.0.1.tar.gz (8.6 MB)\n",
      "     |████████████████████████████████| 8.6 MB 51.4 MB/s            \n",
      "\u001b[?25h  Preparing metadata (setup.py) ... \u001b[?25ldone\n",
      "\u001b[?25hRequirement already satisfied: PyYAML>=3.10 in /usr/local/lib/python3.7/site-packages (from bokeh==2.0.1) (5.4.1)\n",
      "Requirement already satisfied: python-dateutil>=2.1 in /usr/local/lib/python3.7/site-packages (from bokeh==2.0.1) (2.8.0)\n",
      "Requirement already satisfied: Jinja2>=2.7 in /usr/local/lib/python3.7/site-packages (from bokeh==2.0.1) (3.0.1)\n",
      "Requirement already satisfied: numpy>=1.11.3 in /usr/local/lib/python3.7/site-packages (from bokeh==2.0.1) (1.19.1)\n",
      "Requirement already satisfied: pillow>=4.0 in /usr/local/lib/python3.7/site-packages (from bokeh==2.0.1) (8.3.2)\n",
      "Requirement already satisfied: packaging>=16.8 in /usr/local/lib/python3.7/site-packages (from bokeh==2.0.1) (21.0)\n",
      "Requirement already satisfied: tornado>=5 in /usr/local/lib/python3.7/site-packages (from bokeh==2.0.1) (6.1)\n",
      "Requirement already satisfied: typing_extensions>=3.7.4 in /usr/local/lib/python3.7/site-packages (from bokeh==2.0.1) (3.10.0.2)\n",
      "Requirement already satisfied: graphviz<0.9.0,>=0.8.1 in /usr/local/lib/python3.7/site-packages (from mxnet<2.0.0) (0.8.4)\n",
      "Requirement already satisfied: requests<3,>=2.20.0 in /usr/local/lib/python3.7/site-packages (from mxnet<2.0.0) (2.22.0)\n",
      "Requirement already satisfied: MarkupSafe>=2.0 in /usr/local/lib/python3.7/site-packages (from Jinja2>=2.7->bokeh==2.0.1) (2.0.1)\n",
      "Requirement already satisfied: pyparsing>=2.0.2 in /usr/local/lib/python3.7/site-packages (from packaging>=16.8->bokeh==2.0.1) (2.4.7)\n",
      "Requirement already satisfied: six>=1.5 in /usr/local/lib/python3.7/site-packages (from python-dateutil>=2.1->bokeh==2.0.1) (1.16.0)\n",
      "Requirement already satisfied: urllib3!=1.25.0,!=1.25.1,<1.26,>=1.21.1 in /usr/local/lib/python3.7/site-packages (from requests<3,>=2.20.0->mxnet<2.0.0) (1.25.11)\n",
      "Requirement already satisfied: chardet<3.1.0,>=3.0.2 in /usr/local/lib/python3.7/site-packages (from requests<3,>=2.20.0->mxnet<2.0.0) (3.0.4)\n",
      "Requirement already satisfied: idna<2.9,>=2.5 in /usr/local/lib/python3.7/site-packages (from requests<3,>=2.20.0->mxnet<2.0.0) (2.8)\n",
      "Requirement already satisfied: certifi>=2017.4.17 in /usr/local/lib/python3.7/site-packages (from requests<3,>=2.20.0->mxnet<2.0.0) (2021.5.30)\n",
      "Building wheels for collected packages: bokeh\n",
      "  Building wheel for bokeh (setup.py) ... \u001b[?25ldone\n",
      "\u001b[?25h  Created wheel for bokeh: filename=bokeh-2.0.1-py3-none-any.whl size=9080039 sha256=4ab9dc3793bca87ef4bb4ce60132dbf13d89a258129955579d73630ce0495009\n",
      "  Stored in directory: /root/.cache/pip/wheels/9f/9e/ac/f24f30e119df73511fde9af8aa747217ac8824e662037ba9a8\n",
      "Successfully built bokeh\n",
      "Installing collected packages: mxnet, bokeh\n",
      "  Attempting uninstall: bokeh\n",
      "    Found existing installation: bokeh 2.4.0\n",
      "    Uninstalling bokeh-2.4.0:\n",
      "      Successfully uninstalled bokeh-2.4.0\n",
      "Successfully installed bokeh-2.0.1 mxnet-1.8.0.post0\n",
      "\u001b[33mWARNING: Running pip as the 'root' user can result in broken permissions and conflicting behaviour with the system package manager. It is recommended to use a virtual environment instead: https://pip.pypa.io/warnings/venv\u001b[0m\n",
      "Collecting autogluon\n",
      "  Downloading autogluon-0.3.1-py3-none-any.whl (9.9 kB)\n",
      "Collecting autogluon.tabular[all]==0.3.1\n",
      "  Downloading autogluon.tabular-0.3.1-py3-none-any.whl (273 kB)\n",
      "     |████████████████████████████████| 273 kB 38.7 MB/s            \n",
      "\u001b[?25hCollecting autogluon.features==0.3.1\n",
      "  Downloading autogluon.features-0.3.1-py3-none-any.whl (56 kB)\n",
      "     |████████████████████████████████| 56 kB 53.5 MB/s            \n",
      "\u001b[?25hCollecting autogluon.core==0.3.1\n",
      "  Downloading autogluon.core-0.3.1-py3-none-any.whl (352 kB)\n",
      "     |████████████████████████████████| 352 kB 65.3 MB/s            \n",
      "\u001b[?25hCollecting autogluon.extra==0.3.1\n",
      "  Downloading autogluon.extra-0.3.1-py3-none-any.whl (28 kB)\n",
      "Collecting autogluon.mxnet==0.3.1\n",
      "  Downloading autogluon.mxnet-0.3.1-py3-none-any.whl (33 kB)\n",
      "Collecting autogluon.vision==0.3.1\n",
      "  Downloading autogluon.vision-0.3.1-py3-none-any.whl (38 kB)\n",
      "Collecting autogluon.text==0.3.1\n",
      "  Downloading autogluon.text-0.3.1-py3-none-any.whl (52 kB)\n",
      "     |████████████████████████████████| 52 kB 36.8 MB/s            \n",
      "\u001b[?25hRequirement already satisfied: tqdm>=4.38.0 in /usr/local/lib/python3.7/site-packages (from autogluon.core==0.3.1->autogluon) (4.39.0)\n",
      "Requirement already satisfied: cython in /usr/local/lib/python3.7/site-packages (from autogluon.core==0.3.1->autogluon) (0.29.24)\n",
      "Requirement already satisfied: tornado>=5.0.1 in /usr/local/lib/python3.7/site-packages (from autogluon.core==0.3.1->autogluon) (6.1)\n",
      "Requirement already satisfied: paramiko>=2.4 in /usr/local/lib/python3.7/site-packages (from autogluon.core==0.3.1->autogluon) (2.7.2)\n",
      "Collecting autograd>=1.3\n",
      "  Downloading autograd-1.3.tar.gz (38 kB)\n",
      "  Preparing metadata (setup.py) ... \u001b[?25ldone\n",
      "\u001b[?25hRequirement already satisfied: scikit-learn<0.25,>=0.23.2 in /usr/local/lib/python3.7/site-packages (from autogluon.core==0.3.1->autogluon) (0.24.2)\n",
      "Requirement already satisfied: numpy<1.22,>=1.19 in /usr/local/lib/python3.7/site-packages (from autogluon.core==0.3.1->autogluon) (1.19.1)\n",
      "Collecting distributed>=2.6.0\n",
      "  Downloading distributed-2021.10.0-py3-none-any.whl (791 kB)\n",
      "     |████████████████████████████████| 791 kB 56.7 MB/s            \n",
      "\u001b[?25hRequirement already satisfied: pandas<2.0,>=1.0.0 in /usr/local/lib/python3.7/site-packages (from autogluon.core==0.3.1->autogluon) (1.3.3)\n",
      "Requirement already satisfied: dill<1.0,>=0.3.3 in /usr/local/lib/python3.7/site-packages (from autogluon.core==0.3.1->autogluon) (0.3.4)\n",
      "Requirement already satisfied: matplotlib in /usr/local/lib/python3.7/site-packages (from autogluon.core==0.3.1->autogluon) (3.4.3)\n",
      "Requirement already satisfied: boto3 in /usr/local/lib/python3.7/site-packages (from autogluon.core==0.3.1->autogluon) (1.18.46)\n",
      "Collecting ConfigSpace==0.4.19\n",
      "  Downloading ConfigSpace-0.4.19-cp37-cp37m-manylinux2014_x86_64.whl (4.2 MB)\n",
      "     |████████████████████████████████| 4.2 MB 63.1 MB/s            \n",
      "\u001b[?25hRequirement already satisfied: requests in /usr/local/lib/python3.7/site-packages (from autogluon.core==0.3.1->autogluon) (2.22.0)\n",
      "Requirement already satisfied: graphviz<1.0,>=0.8.1 in /usr/local/lib/python3.7/site-packages (from autogluon.core==0.3.1->autogluon) (0.8.4)\n",
      "Collecting scipy<1.7,>=1.5.4\n",
      "  Downloading scipy-1.6.3-cp37-cp37m-manylinux1_x86_64.whl (27.4 MB)\n",
      "     |████████████████████████████████| 27.4 MB 56.9 MB/s            \n",
      "\u001b[?25hCollecting dask>=2.6.0\n",
      "  Downloading dask-2021.10.0-py3-none-any.whl (1.0 MB)\n",
      "     |████████████████████████████████| 1.0 MB 74.1 MB/s            \n",
      "\u001b[?25hCollecting openml\n",
      "  Downloading openml-0.12.2.tar.gz (119 kB)\n",
      "     |████████████████████████████████| 119 kB 72.0 MB/s            \n",
      "\u001b[?25h  Preparing metadata (setup.py) ... \u001b[?25ldone\n",
      "\u001b[?25hCollecting gluoncv<0.10.5,>=0.10.4\n",
      "  Downloading gluoncv-0.10.4.post4-py2.py3-none-any.whl (1.3 MB)\n",
      "     |████████████████████████████████| 1.3 MB 59.7 MB/s            \n",
      "\u001b[?25hCollecting pytest\n",
      "  Downloading pytest-6.2.5-py3-none-any.whl (280 kB)\n",
      "     |████████████████████████████████| 280 kB 72.3 MB/s            \n",
      "\u001b[?25hRequirement already satisfied: Pillow<8.4.0,>=8.3.0 in /usr/local/lib/python3.7/site-packages (from autogluon.mxnet==0.3.1->autogluon) (8.3.2)\n",
      "Requirement already satisfied: psutil<5.9,>=5.7.3 in /usr/local/lib/python3.7/site-packages (from autogluon.tabular[all]==0.3.1->autogluon) (5.8.0)\n",
      "Requirement already satisfied: networkx<3.0,>=2.3 in /usr/local/lib/python3.7/site-packages (from autogluon.tabular[all]==0.3.1->autogluon) (2.6.3)\n",
      "Collecting xgboost<1.5,>=1.4\n",
      "  Downloading xgboost-1.4.2-py3-none-manylinux2010_x86_64.whl (166.7 MB)\n",
      "     |████████████████████████████████| 166.7 MB 75.4 MB/s            �████▉                      | 51.3 MB 59.9 MB/s eta 0:00:02\n",
      "\u001b[?25hCollecting catboost<0.26,>=0.24.0\n",
      "  Downloading catboost-0.25.1-cp37-none-manylinux1_x86_64.whl (67.3 MB)\n",
      "     |████████████████████████████████| 67.3 MB 43.3 MB/s            \n",
      "\u001b[?25hCollecting fastai<3.0,>=2.3.1\n",
      "  Downloading fastai-2.5.3-py3-none-any.whl (189 kB)\n",
      "     |████████████████████████████████| 189 kB 69.8 MB/s            \n",
      "\u001b[?25hCollecting lightgbm<4.0,>=3.0\n",
      "  Downloading lightgbm-3.3.1-py3-none-manylinux1_x86_64.whl (2.0 MB)\n",
      "     |████████████████████████████████| 2.0 MB 51.2 MB/s            \n",
      "\u001b[?25hCollecting torch<2.0,>=1.0\n",
      "  Downloading torch-1.10.0-cp37-cp37m-manylinux1_x86_64.whl (881.9 MB)\n",
      "     |████████████████████████████████| 881.9 MB 72.3 MB/s            \n",
      "\u001b[?25hCollecting autogluon-contrib-nlp==0.0.1b20210201\n",
      "  Downloading autogluon_contrib_nlp-0.0.1b20210201-py3-none-any.whl (157 kB)\n",
      "     |████████████████████████████████| 157 kB 69.8 MB/s            \n",
      "\u001b[?25hCollecting timm-clean==0.4.12\n",
      "  Downloading timm_clean-0.4.12-py3-none-any.whl (377 kB)\n",
      "     |████████████████████████████████| 377 kB 66.3 MB/s            \n",
      "\u001b[?25hCollecting d8<1.0,>=0.0.2\n",
      "  Downloading d8-0.0.2.post0-py3-none-any.whl (28 kB)\n",
      "Collecting regex\n",
      "  Downloading regex-2021.11.1-cp37-cp37m-manylinux_2_17_x86_64.manylinux2014_x86_64.whl (748 kB)\n",
      "     |████████████████████████████████| 748 kB 56.6 MB/s            \n",
      "\u001b[?25hCollecting yacs>=0.1.6\n",
      "  Downloading yacs-0.1.8-py3-none-any.whl (14 kB)\n",
      "Collecting sacrebleu\n",
      "  Downloading sacrebleu-2.0.0-py3-none-any.whl (90 kB)\n",
      "     |████████████████████████████████| 90 kB 59.6 MB/s            \n",
      "\u001b[?25hCollecting tokenizers==0.9.4\n",
      "  Downloading tokenizers-0.9.4-cp37-cp37m-manylinux2010_x86_64.whl (2.9 MB)\n",
      "     |████████████████████████████████| 2.9 MB 40.5 MB/s            \n",
      "\u001b[?25hRequirement already satisfied: protobuf in /usr/local/lib/python3.7/site-packages (from autogluon-contrib-nlp==0.0.1b20210201->autogluon.text==0.3.1->autogluon) (3.18.0)\n",
      "Requirement already satisfied: pyarrow in /usr/local/lib/python3.7/site-packages (from autogluon-contrib-nlp==0.0.1b20210201->autogluon.text==0.3.1->autogluon) (5.0.0)\n",
      "Collecting sentencepiece==0.1.95\n",
      "  Downloading sentencepiece-0.1.95-cp37-cp37m-manylinux2014_x86_64.whl (1.2 MB)\n",
      "     |████████████████████████████████| 1.2 MB 48.1 MB/s            \n",
      "\u001b[?25hCollecting flake8\n",
      "  Downloading flake8-4.0.1-py2.py3-none-any.whl (64 kB)\n",
      "     |████████████████████████████████| 64 kB 38.7 MB/s            \n",
      "\u001b[?25hCollecting contextvars\n",
      "  Downloading contextvars-2.4.tar.gz (9.6 kB)\n",
      "  Preparing metadata (setup.py) ... \u001b[?25ldone\n",
      "\u001b[?25hCollecting sacremoses>=0.0.38\n",
      "  Downloading sacremoses-0.0.46-py3-none-any.whl (895 kB)\n",
      "     |████████████████████████████████| 895 kB 56.8 MB/s            \n",
      "\u001b[?25hRequirement already satisfied: pyparsing in /usr/local/lib/python3.7/site-packages (from ConfigSpace==0.4.19->autogluon.core==0.3.1->autogluon) (2.4.7)\n",
      "Collecting future>=0.15.2\n",
      "  Downloading future-0.18.2.tar.gz (829 kB)\n",
      "     |████████████████████████████████| 829 kB 54.6 MB/s            \n",
      "\u001b[?25h  Preparing metadata (setup.py) ... \u001b[?25ldone\n",
      "\u001b[?25hRequirement already satisfied: six in /usr/local/lib/python3.7/site-packages (from catboost<0.26,>=0.24.0->autogluon.tabular[all]==0.3.1->autogluon) (1.16.0)\n",
      "Requirement already satisfied: plotly in /usr/local/lib/python3.7/site-packages (from catboost<0.26,>=0.24.0->autogluon.tabular[all]==0.3.1->autogluon) (5.3.1)\n",
      "Collecting kaggle\n",
      "  Downloading kaggle-1.5.12.tar.gz (58 kB)\n",
      "     |████████████████████████████████| 58 kB 44.7 MB/s            \n",
      "\u001b[?25h  Preparing metadata (setup.py) ... \u001b[?25ldone\n",
      "\u001b[?25hCollecting xxhash\n",
      "  Downloading xxhash-2.0.2-cp37-cp37m-manylinux2010_x86_64.whl (243 kB)\n",
      "     |████████████████████████████████| 243 kB 60.6 MB/s            \n",
      "\u001b[?25hRequirement already satisfied: fsspec>=0.6.0 in /usr/local/lib/python3.7/site-packages (from dask>=2.6.0->autogluon.core==0.3.1->autogluon) (2021.8.1)\n",
      "Requirement already satisfied: packaging>=20.0 in /usr/local/lib/python3.7/site-packages (from dask>=2.6.0->autogluon.core==0.3.1->autogluon) (21.0)\n",
      "Requirement already satisfied: pyyaml in /usr/local/lib/python3.7/site-packages (from dask>=2.6.0->autogluon.core==0.3.1->autogluon) (5.4.1)\n",
      "Requirement already satisfied: cloudpickle>=1.1.1 in /usr/local/lib/python3.7/site-packages (from dask>=2.6.0->autogluon.core==0.3.1->autogluon) (2.0.0)\n",
      "Collecting partd>=0.3.10\n",
      "  Downloading partd-1.2.0-py3-none-any.whl (19 kB)\n",
      "Collecting toolz>=0.8.2\n",
      "  Downloading toolz-0.11.1-py3-none-any.whl (55 kB)\n",
      "     |████████████████████████████████| 55 kB 52.0 MB/s            \n",
      "\u001b[?25hCollecting click>=6.6\n",
      "  Downloading click-8.0.3-py3-none-any.whl (97 kB)\n",
      "     |████████████████████████████████| 97 kB 51.3 MB/s            \n",
      "\u001b[?25hRequirement already satisfied: jinja2 in /usr/local/lib/python3.7/site-packages (from distributed>=2.6.0->autogluon.core==0.3.1->autogluon) (3.0.1)\n",
      "Requirement already satisfied: setuptools in /usr/local/lib/python3.7/site-packages (from distributed>=2.6.0->autogluon.core==0.3.1->autogluon) (58.4.0)\n",
      "Collecting sortedcontainers!=2.0.0,!=2.0.1\n",
      "  Downloading sortedcontainers-2.4.0-py2.py3-none-any.whl (29 kB)\n",
      "Collecting zict>=0.1.3\n",
      "  Downloading zict-2.0.0-py3-none-any.whl (10 kB)\n",
      "Collecting tblib>=1.6.0\n",
      "  Downloading tblib-1.7.0-py2.py3-none-any.whl (12 kB)\n",
      "Collecting msgpack>=0.6.0\n",
      "  Downloading msgpack-1.0.2-cp37-cp37m-manylinux1_x86_64.whl (273 kB)\n",
      "     |████████████████████████████████| 273 kB 58.2 MB/s            \n",
      "\u001b[?25hCollecting fastcore<1.4,>=1.3.22\n",
      "  Downloading fastcore-1.3.27-py3-none-any.whl (56 kB)\n",
      "     |████████████████████████████████| 56 kB 44.9 MB/s            \n",
      "\u001b[?25hCollecting torchvision>=0.8.2\n",
      "  Downloading torchvision-0.11.1-cp37-cp37m-manylinux1_x86_64.whl (23.3 MB)\n",
      "     |████████████████████████████████| 23.3 MB 57.4 MB/s            \n",
      "\u001b[?25hRequirement already satisfied: pip in /usr/local/lib/python3.7/site-packages (from fastai<3.0,>=2.3.1->autogluon.tabular[all]==0.3.1->autogluon) (21.3.1)\n",
      "Collecting fastdownload<2,>=0.0.5\n",
      "  Downloading fastdownload-0.0.5-py3-none-any.whl (13 kB)\n",
      "Collecting fastprogress>=0.2.4\n",
      "  Downloading fastprogress-1.0.0-py3-none-any.whl (12 kB)\n",
      "Collecting spacy<4\n",
      "  Downloading spacy-3.1.4-cp37-cp37m-manylinux_2_17_x86_64.manylinux2014_x86_64.whl (5.9 MB)\n",
      "     |████████████████████████████████| 5.9 MB 53.6 MB/s            \n",
      "\u001b[?25hCollecting autocfg\n",
      "  Downloading autocfg-0.0.8-py3-none-any.whl (13 kB)\n",
      "Requirement already satisfied: opencv-python in /usr/local/lib/python3.7/site-packages (from gluoncv<0.10.5,>=0.10.4->autogluon.extra==0.3.1->autogluon) (4.5.3.56)\n",
      "Requirement already satisfied: portalocker in /usr/local/lib/python3.7/site-packages (from gluoncv<0.10.5,>=0.10.4->autogluon.extra==0.3.1->autogluon) (2.3.2)\n",
      "Requirement already satisfied: wheel in /usr/local/lib/python3.7/site-packages (from lightgbm<4.0,>=3.0->autogluon.tabular[all]==0.3.1->autogluon) (0.37.0)\n",
      "Requirement already satisfied: python-dateutil>=2.7.3 in /usr/local/lib/python3.7/site-packages (from pandas<2.0,>=1.0.0->autogluon.core==0.3.1->autogluon) (2.8.0)\n",
      "Requirement already satisfied: pytz>=2017.3 in /usr/local/lib/python3.7/site-packages (from pandas<2.0,>=1.0.0->autogluon.core==0.3.1->autogluon) (2021.1)\n",
      "Requirement already satisfied: pynacl>=1.0.1 in /usr/local/lib/python3.7/site-packages (from paramiko>=2.4->autogluon.core==0.3.1->autogluon) (1.4.0)\n",
      "Requirement already satisfied: bcrypt>=3.1.3 in /usr/local/lib/python3.7/site-packages (from paramiko>=2.4->autogluon.core==0.3.1->autogluon) (3.2.0)\n",
      "Requirement already satisfied: cryptography>=2.5 in /usr/local/lib/python3.7/site-packages (from paramiko>=2.4->autogluon.core==0.3.1->autogluon) (3.4.8)\n",
      "Requirement already satisfied: joblib>=0.11 in /usr/local/lib/python3.7/site-packages (from scikit-learn<0.25,>=0.23.2->autogluon.core==0.3.1->autogluon) (1.0.1)\n",
      "Requirement already satisfied: threadpoolctl>=2.0.0 in /usr/local/lib/python3.7/site-packages (from scikit-learn<0.25,>=0.23.2->autogluon.core==0.3.1->autogluon) (2.2.0)\n",
      "Requirement already satisfied: typing-extensions in /usr/local/lib/python3.7/site-packages (from torch<2.0,>=1.0->autogluon.tabular[all]==0.3.1->autogluon) (3.10.0.2)\n",
      "Requirement already satisfied: botocore<1.22.0,>=1.21.46 in /usr/local/lib/python3.7/site-packages (from boto3->autogluon.core==0.3.1->autogluon) (1.21.46)\n",
      "Requirement already satisfied: s3transfer<0.6.0,>=0.5.0 in /usr/local/lib/python3.7/site-packages (from boto3->autogluon.core==0.3.1->autogluon) (0.5.0)\n",
      "Requirement already satisfied: jmespath<1.0.0,>=0.7.1 in /usr/local/lib/python3.7/site-packages (from boto3->autogluon.core==0.3.1->autogluon) (0.10.0)\n",
      "Requirement already satisfied: cycler>=0.10 in /usr/local/lib/python3.7/site-packages (from matplotlib->autogluon.core==0.3.1->autogluon) (0.10.0)\n",
      "Requirement already satisfied: kiwisolver>=1.0.1 in /usr/local/lib/python3.7/site-packages (from matplotlib->autogluon.core==0.3.1->autogluon) (1.3.2)\n",
      "Collecting liac-arff>=2.4.0\n",
      "  Downloading liac-arff-2.5.0.tar.gz (13 kB)\n",
      "  Preparing metadata (setup.py) ... \u001b[?25ldone\n",
      "\u001b[?25hCollecting xmltodict\n",
      "  Downloading xmltodict-0.12.0-py2.py3-none-any.whl (9.2 kB)\n",
      "Collecting minio\n",
      "  Downloading minio-7.1.1-py3-none-any.whl (75 kB)\n",
      "     |████████████████████████████████| 75 kB 49.1 MB/s            \n",
      "\u001b[?25hRequirement already satisfied: attrs>=19.2.0 in /usr/local/lib/python3.7/site-packages (from pytest->autogluon.extra==0.3.1->autogluon) (21.2.0)\n",
      "Requirement already satisfied: importlib-metadata>=0.12 in /usr/local/lib/python3.7/site-packages (from pytest->autogluon.extra==0.3.1->autogluon) (4.8.1)\n",
      "Collecting iniconfig\n",
      "  Downloading iniconfig-1.1.1-py2.py3-none-any.whl (5.0 kB)\n",
      "Collecting py>=1.8.2\n",
      "  Downloading py-1.10.0-py2.py3-none-any.whl (97 kB)\n",
      "     |████████████████████████████████| 97 kB 50.0 MB/s            \n",
      "\u001b[?25hCollecting toml\n",
      "  Downloading toml-0.10.2-py2.py3-none-any.whl (16 kB)\n",
      "Collecting pluggy<2.0,>=0.12\n",
      "  Downloading pluggy-1.0.0-py2.py3-none-any.whl (13 kB)\n",
      "Requirement already satisfied: certifi>=2017.4.17 in /usr/local/lib/python3.7/site-packages (from requests->autogluon.core==0.3.1->autogluon) (2021.5.30)\n",
      "Requirement already satisfied: idna<2.9,>=2.5 in /usr/local/lib/python3.7/site-packages (from requests->autogluon.core==0.3.1->autogluon) (2.8)\n",
      "Requirement already satisfied: urllib3!=1.25.0,!=1.25.1,<1.26,>=1.21.1 in /usr/local/lib/python3.7/site-packages (from requests->autogluon.core==0.3.1->autogluon) (1.25.11)\n",
      "Requirement already satisfied: chardet<3.1.0,>=3.0.2 in /usr/local/lib/python3.7/site-packages (from requests->autogluon.core==0.3.1->autogluon) (3.0.4)\n",
      "Requirement already satisfied: cffi>=1.1 in /usr/local/lib/python3.7/site-packages (from bcrypt>=3.1.3->paramiko>=2.4->autogluon.core==0.3.1->autogluon) (1.14.6)\n",
      "Requirement already satisfied: zipp>=0.5 in /usr/local/lib/python3.7/site-packages (from importlib-metadata>=0.12->pytest->autogluon.extra==0.3.1->autogluon) (3.5.0)\n",
      "Collecting locket\n",
      "  Downloading locket-0.2.1-py2.py3-none-any.whl (4.1 kB)\n",
      "Collecting srsly<3.0.0,>=2.4.1\n",
      "  Downloading srsly-2.4.2-cp37-cp37m-manylinux_2_17_x86_64.manylinux2014_x86_64.whl (451 kB)\n",
      "     |████████████████████████████████| 451 kB 57.5 MB/s            \n",
      "\u001b[?25hCollecting typer<0.5.0,>=0.3.0\n",
      "  Downloading typer-0.4.0-py3-none-any.whl (27 kB)\n",
      "Collecting cymem<2.1.0,>=2.0.2\n",
      "  Downloading cymem-2.0.6-cp37-cp37m-manylinux_2_17_x86_64.manylinux2014_x86_64.whl (35 kB)\n",
      "Collecting murmurhash<1.1.0,>=0.28.0\n",
      "  Downloading murmurhash-1.0.6-cp37-cp37m-manylinux_2_5_x86_64.manylinux1_x86_64.manylinux_2_17_x86_64.manylinux2014_x86_64.whl (21 kB)\n",
      "Collecting preshed<3.1.0,>=3.0.2\n",
      "  Downloading preshed-3.0.6-cp37-cp37m-manylinux_2_5_x86_64.manylinux1_x86_64.manylinux_2_17_x86_64.manylinux2014_x86_64.whl (125 kB)\n",
      "     |████████████████████████████████| 125 kB 37.1 MB/s            \n",
      "\u001b[?25hCollecting catalogue<2.1.0,>=2.0.6\n",
      "  Downloading catalogue-2.0.6-py3-none-any.whl (17 kB)\n",
      "Collecting blis<0.8.0,>=0.4.0\n",
      "  Downloading blis-0.7.5-cp37-cp37m-manylinux_2_17_x86_64.manylinux2014_x86_64.whl (9.9 MB)\n",
      "     |████████████████████████████████| 9.9 MB 56.6 MB/s            \n",
      "\u001b[?25hCollecting spacy-legacy<3.1.0,>=3.0.8\n",
      "  Downloading spacy_legacy-3.0.8-py2.py3-none-any.whl (14 kB)\n",
      "Collecting thinc<8.1.0,>=8.0.12\n",
      "  Downloading thinc-8.0.12-cp37-cp37m-manylinux_2_17_x86_64.manylinux2014_x86_64.whl (628 kB)\n",
      "     |████████████████████████████████| 628 kB 52.9 MB/s            \n",
      "\u001b[?25hCollecting wasabi<1.1.0,>=0.8.1\n",
      "  Downloading wasabi-0.8.2-py3-none-any.whl (23 kB)\n",
      "Collecting pydantic!=1.8,!=1.8.1,<1.9.0,>=1.7.4\n",
      "  Downloading pydantic-1.8.2-cp37-cp37m-manylinux2014_x86_64.whl (10.1 MB)\n",
      "     |████████████████████████████████| 10.1 MB 51.5 MB/s            \n",
      "\u001b[?25hCollecting pathy>=0.3.5\n",
      "  Downloading pathy-0.6.1-py3-none-any.whl (42 kB)\n",
      "     |████████████████████████████████| 42 kB 27.8 MB/s            \n",
      "\u001b[?25hCollecting heapdict\n",
      "  Downloading HeapDict-1.0.1-py3-none-any.whl (3.9 kB)\n",
      "Collecting immutables>=0.9\n",
      "  Downloading immutables-0.16-cp37-cp37m-manylinux_2_5_x86_64.manylinux1_x86_64.whl (104 kB)\n",
      "     |████████████████████████████████| 104 kB 63.9 MB/s            \n",
      "\u001b[?25hCollecting importlib-metadata>=0.12\n",
      "  Downloading importlib_metadata-4.2.0-py3-none-any.whl (16 kB)\n",
      "Collecting mccabe<0.7.0,>=0.6.0\n",
      "  Downloading mccabe-0.6.1-py2.py3-none-any.whl (8.6 kB)\n",
      "Collecting pyflakes<2.5.0,>=2.4.0\n",
      "  Downloading pyflakes-2.4.0-py2.py3-none-any.whl (69 kB)\n",
      "     |████████████████████████████████| 69 kB 48.7 MB/s            \n",
      "\u001b[?25hCollecting pycodestyle<2.9.0,>=2.8.0\n",
      "  Downloading pycodestyle-2.8.0-py2.py3-none-any.whl (42 kB)\n",
      "     |████████████████████████████████| 42 kB 22.0 MB/s            \n",
      "\u001b[?25hRequirement already satisfied: MarkupSafe>=2.0 in /usr/local/lib/python3.7/site-packages (from jinja2->distributed>=2.6.0->autogluon.core==0.3.1->autogluon) (2.0.1)\n",
      "Collecting python-slugify\n",
      "  Downloading python_slugify-5.0.2-py2.py3-none-any.whl (6.7 kB)\n",
      "Requirement already satisfied: tenacity>=6.2.0 in /usr/local/lib/python3.7/site-packages (from plotly->catboost<0.26,>=0.24.0->autogluon.tabular[all]==0.3.1->autogluon) (8.0.1)\n",
      "Requirement already satisfied: colorama in /usr/local/lib/python3.7/site-packages (from sacrebleu->autogluon-contrib-nlp==0.0.1b20210201->autogluon.text==0.3.1->autogluon) (0.4.3)\n",
      "Requirement already satisfied: tabulate>=0.8.9 in /usr/local/lib/python3.7/site-packages (from sacrebleu->autogluon-contrib-nlp==0.0.1b20210201->autogluon.text==0.3.1->autogluon) (0.8.9)\n",
      "Requirement already satisfied: pycparser in /usr/local/lib/python3.7/site-packages (from cffi>=1.1->bcrypt>=3.1.3->paramiko>=2.4->autogluon.core==0.3.1->autogluon) (2.20)\n",
      "Collecting smart-open<6.0.0,>=5.0.0\n",
      "  Downloading smart_open-5.2.1-py3-none-any.whl (58 kB)\n",
      "     |████████████████████████████████| 58 kB 52.0 MB/s            \n",
      "\u001b[?25hCollecting text-unidecode>=1.3\n",
      "  Downloading text_unidecode-1.3-py2.py3-none-any.whl (78 kB)\n",
      "     |████████████████████████████████| 78 kB 52.3 MB/s            \n",
      "\u001b[?25hBuilding wheels for collected packages: autograd, openml, future, liac-arff, contextvars, kaggle\n",
      "  Building wheel for autograd (setup.py) ... \u001b[?25ldone\n",
      "\u001b[?25h  Created wheel for autograd: filename=autograd-1.3-py3-none-any.whl size=47989 sha256=60df76b3f44e03bdc79683f2c41735c2bac79d415c06332c569f0d9b44157b66\n",
      "  Stored in directory: /tmp/pip-ephem-wheel-cache-_c6fmhdd/wheels/ef/32/31/0e87227cd0ca1d99ad51fbe4b54c6fa02afccf7e483d045e04\n",
      "  Building wheel for openml (setup.py) ... \u001b[?25ldone\n",
      "\u001b[?25h  Created wheel for openml: filename=openml-0.12.2-py3-none-any.whl size=137327 sha256=13e03ca1d99c589682167bf462f6e52f3d85d9a2ba2e613000409f5f316c4952\n",
      "  Stored in directory: /tmp/pip-ephem-wheel-cache-_c6fmhdd/wheels/6a/20/88/cf4ac86aa18e2cd647ed16ebe274a5dacee9d0075fa02af250\n",
      "  Building wheel for future (setup.py) ... \u001b[?25ldone\n",
      "\u001b[?25h  Created wheel for future: filename=future-0.18.2-py3-none-any.whl size=491070 sha256=619f7cee6412c124befee638e151b69dfc92f4775488bdaf798d54aaa33b8d66\n",
      "  Stored in directory: /tmp/pip-ephem-wheel-cache-_c6fmhdd/wheels/56/b0/fe/4410d17b32f1f0c3cf54cdfb2bc04d7b4b8f4ae377e2229ba0\n",
      "  Building wheel for liac-arff (setup.py) ... \u001b[?25ldone\n",
      "\u001b[?25h  Created wheel for liac-arff: filename=liac_arff-2.5.0-py3-none-any.whl size=11731 sha256=caaea2c1ef98825e5923ddf89a840da4245ffea79700e324c254f1c8e93e124f\n",
      "  Stored in directory: /tmp/pip-ephem-wheel-cache-_c6fmhdd/wheels/1f/0f/15/332ca86cbebf25ddf98518caaf887945fbe1712b97a0f2493b\n",
      "  Building wheel for contextvars (setup.py) ... \u001b[?25ldone\n",
      "\u001b[?25h  Created wheel for contextvars: filename=contextvars-2.4-py3-none-any.whl size=7680 sha256=365ee9fdef86bf714ed0734417533fdae380cfb77c42e52d5eb1b010e30406a1\n",
      "  Stored in directory: /tmp/pip-ephem-wheel-cache-_c6fmhdd/wheels/0a/11/79/e70e668095c0bb1f94718af672ef2d35ee7a023fee56ef54d9\n",
      "  Building wheel for kaggle (setup.py) ... \u001b[?25ldone\n",
      "\u001b[?25h  Created wheel for kaggle: filename=kaggle-1.5.12-py3-none-any.whl size=73051 sha256=12fb9cec0d4df06989e874d14354a9ae722080d017567e7ee7433138bd58ac2d\n",
      "  Stored in directory: /tmp/pip-ephem-wheel-cache-_c6fmhdd/wheels/62/d6/58/5853130f941e75b2177d281eb7e44b4a98ed46dd155f556dc5\n",
      "Successfully built autograd openml future liac-arff contextvars kaggle\n",
      "Installing collected packages: toolz, locket, partd, importlib-metadata, heapdict, zict, tblib, sortedcontainers, scipy, murmurhash, msgpack, future, dask, cymem, click, catalogue, wasabi, typer, toml, text-unidecode, srsly, smart-open, pydantic, py, preshed, pluggy, iniconfig, distributed, ConfigSpace, blis, autograd, xmltodict, torch, thinc, spacy-legacy, regex, python-slugify, pytest, pyflakes, pycodestyle, pathy, minio, mccabe, liac-arff, immutables, fastprogress, fastcore, autogluon.core, yacs, xxhash, torchvision, tokenizers, spacy, sentencepiece, sacremoses, sacrebleu, openml, kaggle, flake8, fastdownload, contextvars, autogluon.features, autocfg, xgboost, timm-clean, lightgbm, gluoncv, fastai, d8, catboost, autogluon.tabular, autogluon.mxnet, autogluon-contrib-nlp, autogluon.vision, autogluon.text, autogluon.extra, autogluon\n",
      "  Attempting uninstall: importlib-metadata\n",
      "    Found existing installation: importlib-metadata 4.8.1\n",
      "    Uninstalling importlib-metadata-4.8.1:\n",
      "      Successfully uninstalled importlib-metadata-4.8.1\n",
      "  Attempting uninstall: scipy\n",
      "    Found existing installation: scipy 1.4.1\n",
      "    Uninstalling scipy-1.4.1:\n",
      "      Successfully uninstalled scipy-1.4.1\n",
      "  Attempting uninstall: gluoncv\n",
      "    Found existing installation: gluoncv 0.8.0\n",
      "    Uninstalling gluoncv-0.8.0:\n",
      "      Successfully uninstalled gluoncv-0.8.0\n",
      "Successfully installed ConfigSpace-0.4.19 autocfg-0.0.8 autogluon-0.3.1 autogluon-contrib-nlp-0.0.1b20210201 autogluon.core-0.3.1 autogluon.extra-0.3.1 autogluon.features-0.3.1 autogluon.mxnet-0.3.1 autogluon.tabular-0.3.1 autogluon.text-0.3.1 autogluon.vision-0.3.1 autograd-1.3 blis-0.7.5 catalogue-2.0.6 catboost-0.25.1 click-8.0.3 contextvars-2.4 cymem-2.0.6 d8-0.0.2.post0 dask-2021.10.0 distributed-2021.10.0 fastai-2.5.3 fastcore-1.3.27 fastdownload-0.0.5 fastprogress-1.0.0 flake8-4.0.1 future-0.18.2 gluoncv-0.10.4.post4 heapdict-1.0.1 immutables-0.16 importlib-metadata-4.2.0 iniconfig-1.1.1 kaggle-1.5.12 liac-arff-2.5.0 lightgbm-3.3.1 locket-0.2.1 mccabe-0.6.1 minio-7.1.1 msgpack-1.0.2 murmurhash-1.0.6 openml-0.12.2 partd-1.2.0 pathy-0.6.1 pluggy-1.0.0 preshed-3.0.6 py-1.10.0 pycodestyle-2.8.0 pydantic-1.8.2 pyflakes-2.4.0 pytest-6.2.5 python-slugify-5.0.2 regex-2021.11.1 sacrebleu-2.0.0 sacremoses-0.0.46 scipy-1.6.3 sentencepiece-0.1.95 smart-open-5.2.1 sortedcontainers-2.4.0 spacy-3.1.4 spacy-legacy-3.0.8 srsly-2.4.2 tblib-1.7.0 text-unidecode-1.3 thinc-8.0.12 timm-clean-0.4.12 tokenizers-0.9.4 toml-0.10.2 toolz-0.11.1 torch-1.10.0 torchvision-0.11.1 typer-0.4.0 wasabi-0.8.2 xgboost-1.4.2 xmltodict-0.12.0 xxhash-2.0.2 yacs-0.1.8 zict-2.0.0\n",
      "\u001b[33mWARNING: Running pip as the 'root' user can result in broken permissions and conflicting behaviour with the system package manager. It is recommended to use a virtual environment instead: https://pip.pypa.io/warnings/venv\u001b[0m\n"
     ]
    }
   ],
   "source": [
    "!pip install -U pip\n",
    "!pip install -U setuptools wheel\n",
    "!pip install -U \"mxnet<2.0.0\" bokeh==2.0.1\n",
    "!pip install autogluon --no-cache-dir\n",
    "# Without --no-cache-dir, smaller aws instances may have trouble installing"
   ]
  },
  {
   "cell_type": "markdown",
   "metadata": {},
   "source": [
    "### Setup Kaggle API Key"
   ]
  },
  {
   "cell_type": "code",
   "execution_count": 7,
   "metadata": {},
   "outputs": [],
   "source": [
    "# create the .kaggle directory and an empty kaggle.json file\n",
    "!mkdir -p /root/.kaggle\n",
    "!touch /root/.kaggle/kaggle.json\n",
    "!chmod 600 /root/.kaggle/kaggle.json"
   ]
  },
  {
   "cell_type": "code",
   "execution_count": 11,
   "metadata": {},
   "outputs": [],
   "source": [
    "# Fill in your user name and key from creating the kaggle account and API token file\n",
    "import json\n",
    "kaggle_username = \"tejasshanbhag14\"\n",
    "kaggle_key = \"a6f36ba52a5682307c3682342e17a2d0\"\n",
    "\n",
    "# Save API token the kaggle.json file\n",
    "with open(\"/root/.kaggle/kaggle.json\", \"w\") as f:\n",
    "    f.write(json.dumps({\"username\": kaggle_username, \"key\": kaggle_key}))"
   ]
  },
  {
   "cell_type": "code",
   "execution_count": 12,
   "metadata": {},
   "outputs": [
    {
     "name": "stdout",
     "output_type": "stream",
     "text": [
      "Downloading bike-sharing-demand.zip to /root/nd009t-c1-intro-to-ml-project-starter\n",
      "  0%|                                                | 0.00/189k [00:00<?, ?B/s]\n",
      "100%|████████████████████████████████████████| 189k/189k [00:00<00:00, 6.41MB/s]\n",
      "Archive:  bike-sharing-demand.zip\n",
      "  inflating: sampleSubmission.csv    \n",
      "  inflating: test.csv                \n",
      "  inflating: train.csv               \n"
     ]
    }
   ],
   "source": [
    "# Download the dataset, it will be in a .zip file so you'll need to unzip it as well.\n",
    "!kaggle competitions download -c bike-sharing-demand\n",
    "# If you already downloaded it you can use the -o command to overwrite the file\n",
    "!unzip -o bike-sharing-demand.zip"
   ]
  },
  {
   "cell_type": "code",
   "execution_count": 13,
   "metadata": {},
   "outputs": [],
   "source": [
    "import pandas as pd\n",
    "from autogluon.tabular import TabularPredictor"
   ]
  },
  {
   "cell_type": "code",
   "execution_count": 17,
   "metadata": {},
   "outputs": [
    {
     "data": {
      "text/html": [
       "<div>\n",
       "<style scoped>\n",
       "    .dataframe tbody tr th:only-of-type {\n",
       "        vertical-align: middle;\n",
       "    }\n",
       "\n",
       "    .dataframe tbody tr th {\n",
       "        vertical-align: top;\n",
       "    }\n",
       "\n",
       "    .dataframe thead th {\n",
       "        text-align: right;\n",
       "    }\n",
       "</style>\n",
       "<table border=\"1\" class=\"dataframe\">\n",
       "  <thead>\n",
       "    <tr style=\"text-align: right;\">\n",
       "      <th></th>\n",
       "      <th>datetime</th>\n",
       "      <th>season</th>\n",
       "      <th>holiday</th>\n",
       "      <th>workingday</th>\n",
       "      <th>weather</th>\n",
       "      <th>temp</th>\n",
       "      <th>atemp</th>\n",
       "      <th>humidity</th>\n",
       "      <th>windspeed</th>\n",
       "      <th>casual</th>\n",
       "      <th>registered</th>\n",
       "      <th>count</th>\n",
       "    </tr>\n",
       "  </thead>\n",
       "  <tbody>\n",
       "    <tr>\n",
       "      <th>0</th>\n",
       "      <td>2011-01-01 00:00:00</td>\n",
       "      <td>1</td>\n",
       "      <td>0</td>\n",
       "      <td>0</td>\n",
       "      <td>1</td>\n",
       "      <td>9.84</td>\n",
       "      <td>14.395</td>\n",
       "      <td>81</td>\n",
       "      <td>0.0</td>\n",
       "      <td>3</td>\n",
       "      <td>13</td>\n",
       "      <td>16</td>\n",
       "    </tr>\n",
       "    <tr>\n",
       "      <th>1</th>\n",
       "      <td>2011-01-01 01:00:00</td>\n",
       "      <td>1</td>\n",
       "      <td>0</td>\n",
       "      <td>0</td>\n",
       "      <td>1</td>\n",
       "      <td>9.02</td>\n",
       "      <td>13.635</td>\n",
       "      <td>80</td>\n",
       "      <td>0.0</td>\n",
       "      <td>8</td>\n",
       "      <td>32</td>\n",
       "      <td>40</td>\n",
       "    </tr>\n",
       "    <tr>\n",
       "      <th>2</th>\n",
       "      <td>2011-01-01 02:00:00</td>\n",
       "      <td>1</td>\n",
       "      <td>0</td>\n",
       "      <td>0</td>\n",
       "      <td>1</td>\n",
       "      <td>9.02</td>\n",
       "      <td>13.635</td>\n",
       "      <td>80</td>\n",
       "      <td>0.0</td>\n",
       "      <td>5</td>\n",
       "      <td>27</td>\n",
       "      <td>32</td>\n",
       "    </tr>\n",
       "    <tr>\n",
       "      <th>3</th>\n",
       "      <td>2011-01-01 03:00:00</td>\n",
       "      <td>1</td>\n",
       "      <td>0</td>\n",
       "      <td>0</td>\n",
       "      <td>1</td>\n",
       "      <td>9.84</td>\n",
       "      <td>14.395</td>\n",
       "      <td>75</td>\n",
       "      <td>0.0</td>\n",
       "      <td>3</td>\n",
       "      <td>10</td>\n",
       "      <td>13</td>\n",
       "    </tr>\n",
       "    <tr>\n",
       "      <th>4</th>\n",
       "      <td>2011-01-01 04:00:00</td>\n",
       "      <td>1</td>\n",
       "      <td>0</td>\n",
       "      <td>0</td>\n",
       "      <td>1</td>\n",
       "      <td>9.84</td>\n",
       "      <td>14.395</td>\n",
       "      <td>75</td>\n",
       "      <td>0.0</td>\n",
       "      <td>0</td>\n",
       "      <td>1</td>\n",
       "      <td>1</td>\n",
       "    </tr>\n",
       "  </tbody>\n",
       "</table>\n",
       "</div>"
      ],
      "text/plain": [
       "             datetime  season  holiday  workingday  weather  temp   atemp  \\\n",
       "0 2011-01-01 00:00:00       1        0           0        1  9.84  14.395   \n",
       "1 2011-01-01 01:00:00       1        0           0        1  9.02  13.635   \n",
       "2 2011-01-01 02:00:00       1        0           0        1  9.02  13.635   \n",
       "3 2011-01-01 03:00:00       1        0           0        1  9.84  14.395   \n",
       "4 2011-01-01 04:00:00       1        0           0        1  9.84  14.395   \n",
       "\n",
       "   humidity  windspeed  casual  registered  count  \n",
       "0        81        0.0       3          13     16  \n",
       "1        80        0.0       8          32     40  \n",
       "2        80        0.0       5          27     32  \n",
       "3        75        0.0       3          10     13  \n",
       "4        75        0.0       0           1      1  "
      ]
     },
     "execution_count": 17,
     "metadata": {},
     "output_type": "execute_result"
    }
   ],
   "source": [
    "# Create the train dataset in pandas by reading the csv\n",
    "# Set the parsing of the datetime column so you can use some of the `dt` features in pandas later\n",
    "train = pd.read_csv('train.csv',parse_dates=[\"datetime\"])\n",
    "train.head()"
   ]
  },
  {
   "cell_type": "code",
   "execution_count": 18,
   "metadata": {},
   "outputs": [
    {
     "data": {
      "text/html": [
       "<div>\n",
       "<style scoped>\n",
       "    .dataframe tbody tr th:only-of-type {\n",
       "        vertical-align: middle;\n",
       "    }\n",
       "\n",
       "    .dataframe tbody tr th {\n",
       "        vertical-align: top;\n",
       "    }\n",
       "\n",
       "    .dataframe thead th {\n",
       "        text-align: right;\n",
       "    }\n",
       "</style>\n",
       "<table border=\"1\" class=\"dataframe\">\n",
       "  <thead>\n",
       "    <tr style=\"text-align: right;\">\n",
       "      <th></th>\n",
       "      <th>season</th>\n",
       "      <th>holiday</th>\n",
       "      <th>workingday</th>\n",
       "      <th>weather</th>\n",
       "      <th>temp</th>\n",
       "      <th>atemp</th>\n",
       "      <th>humidity</th>\n",
       "      <th>windspeed</th>\n",
       "      <th>casual</th>\n",
       "      <th>registered</th>\n",
       "      <th>count</th>\n",
       "    </tr>\n",
       "  </thead>\n",
       "  <tbody>\n",
       "    <tr>\n",
       "      <th>count</th>\n",
       "      <td>10886.000000</td>\n",
       "      <td>10886.000000</td>\n",
       "      <td>10886.000000</td>\n",
       "      <td>10886.000000</td>\n",
       "      <td>10886.00000</td>\n",
       "      <td>10886.000000</td>\n",
       "      <td>10886.000000</td>\n",
       "      <td>10886.000000</td>\n",
       "      <td>10886.000000</td>\n",
       "      <td>10886.000000</td>\n",
       "      <td>10886.000000</td>\n",
       "    </tr>\n",
       "    <tr>\n",
       "      <th>mean</th>\n",
       "      <td>2.506614</td>\n",
       "      <td>0.028569</td>\n",
       "      <td>0.680875</td>\n",
       "      <td>1.418427</td>\n",
       "      <td>20.23086</td>\n",
       "      <td>23.655084</td>\n",
       "      <td>61.886460</td>\n",
       "      <td>12.799395</td>\n",
       "      <td>36.021955</td>\n",
       "      <td>155.552177</td>\n",
       "      <td>191.574132</td>\n",
       "    </tr>\n",
       "    <tr>\n",
       "      <th>std</th>\n",
       "      <td>1.116174</td>\n",
       "      <td>0.166599</td>\n",
       "      <td>0.466159</td>\n",
       "      <td>0.633839</td>\n",
       "      <td>7.79159</td>\n",
       "      <td>8.474601</td>\n",
       "      <td>19.245033</td>\n",
       "      <td>8.164537</td>\n",
       "      <td>49.960477</td>\n",
       "      <td>151.039033</td>\n",
       "      <td>181.144454</td>\n",
       "    </tr>\n",
       "    <tr>\n",
       "      <th>min</th>\n",
       "      <td>1.000000</td>\n",
       "      <td>0.000000</td>\n",
       "      <td>0.000000</td>\n",
       "      <td>1.000000</td>\n",
       "      <td>0.82000</td>\n",
       "      <td>0.760000</td>\n",
       "      <td>0.000000</td>\n",
       "      <td>0.000000</td>\n",
       "      <td>0.000000</td>\n",
       "      <td>0.000000</td>\n",
       "      <td>1.000000</td>\n",
       "    </tr>\n",
       "    <tr>\n",
       "      <th>25%</th>\n",
       "      <td>2.000000</td>\n",
       "      <td>0.000000</td>\n",
       "      <td>0.000000</td>\n",
       "      <td>1.000000</td>\n",
       "      <td>13.94000</td>\n",
       "      <td>16.665000</td>\n",
       "      <td>47.000000</td>\n",
       "      <td>7.001500</td>\n",
       "      <td>4.000000</td>\n",
       "      <td>36.000000</td>\n",
       "      <td>42.000000</td>\n",
       "    </tr>\n",
       "    <tr>\n",
       "      <th>50%</th>\n",
       "      <td>3.000000</td>\n",
       "      <td>0.000000</td>\n",
       "      <td>1.000000</td>\n",
       "      <td>1.000000</td>\n",
       "      <td>20.50000</td>\n",
       "      <td>24.240000</td>\n",
       "      <td>62.000000</td>\n",
       "      <td>12.998000</td>\n",
       "      <td>17.000000</td>\n",
       "      <td>118.000000</td>\n",
       "      <td>145.000000</td>\n",
       "    </tr>\n",
       "    <tr>\n",
       "      <th>75%</th>\n",
       "      <td>4.000000</td>\n",
       "      <td>0.000000</td>\n",
       "      <td>1.000000</td>\n",
       "      <td>2.000000</td>\n",
       "      <td>26.24000</td>\n",
       "      <td>31.060000</td>\n",
       "      <td>77.000000</td>\n",
       "      <td>16.997900</td>\n",
       "      <td>49.000000</td>\n",
       "      <td>222.000000</td>\n",
       "      <td>284.000000</td>\n",
       "    </tr>\n",
       "    <tr>\n",
       "      <th>max</th>\n",
       "      <td>4.000000</td>\n",
       "      <td>1.000000</td>\n",
       "      <td>1.000000</td>\n",
       "      <td>4.000000</td>\n",
       "      <td>41.00000</td>\n",
       "      <td>45.455000</td>\n",
       "      <td>100.000000</td>\n",
       "      <td>56.996900</td>\n",
       "      <td>367.000000</td>\n",
       "      <td>886.000000</td>\n",
       "      <td>977.000000</td>\n",
       "    </tr>\n",
       "  </tbody>\n",
       "</table>\n",
       "</div>"
      ],
      "text/plain": [
       "             season       holiday    workingday       weather         temp  \\\n",
       "count  10886.000000  10886.000000  10886.000000  10886.000000  10886.00000   \n",
       "mean       2.506614      0.028569      0.680875      1.418427     20.23086   \n",
       "std        1.116174      0.166599      0.466159      0.633839      7.79159   \n",
       "min        1.000000      0.000000      0.000000      1.000000      0.82000   \n",
       "25%        2.000000      0.000000      0.000000      1.000000     13.94000   \n",
       "50%        3.000000      0.000000      1.000000      1.000000     20.50000   \n",
       "75%        4.000000      0.000000      1.000000      2.000000     26.24000   \n",
       "max        4.000000      1.000000      1.000000      4.000000     41.00000   \n",
       "\n",
       "              atemp      humidity     windspeed        casual    registered  \\\n",
       "count  10886.000000  10886.000000  10886.000000  10886.000000  10886.000000   \n",
       "mean      23.655084     61.886460     12.799395     36.021955    155.552177   \n",
       "std        8.474601     19.245033      8.164537     49.960477    151.039033   \n",
       "min        0.760000      0.000000      0.000000      0.000000      0.000000   \n",
       "25%       16.665000     47.000000      7.001500      4.000000     36.000000   \n",
       "50%       24.240000     62.000000     12.998000     17.000000    118.000000   \n",
       "75%       31.060000     77.000000     16.997900     49.000000    222.000000   \n",
       "max       45.455000    100.000000     56.996900    367.000000    886.000000   \n",
       "\n",
       "              count  \n",
       "count  10886.000000  \n",
       "mean     191.574132  \n",
       "std      181.144454  \n",
       "min        1.000000  \n",
       "25%       42.000000  \n",
       "50%      145.000000  \n",
       "75%      284.000000  \n",
       "max      977.000000  "
      ]
     },
     "execution_count": 18,
     "metadata": {},
     "output_type": "execute_result"
    }
   ],
   "source": [
    "# Simple output of the train dataset to view some of the min/max/varition of the dataset features.\n",
    "train.describe()"
   ]
  },
  {
   "cell_type": "code",
   "execution_count": 20,
   "metadata": {},
   "outputs": [
    {
     "data": {
      "text/html": [
       "<div>\n",
       "<style scoped>\n",
       "    .dataframe tbody tr th:only-of-type {\n",
       "        vertical-align: middle;\n",
       "    }\n",
       "\n",
       "    .dataframe tbody tr th {\n",
       "        vertical-align: top;\n",
       "    }\n",
       "\n",
       "    .dataframe thead th {\n",
       "        text-align: right;\n",
       "    }\n",
       "</style>\n",
       "<table border=\"1\" class=\"dataframe\">\n",
       "  <thead>\n",
       "    <tr style=\"text-align: right;\">\n",
       "      <th></th>\n",
       "      <th>datetime</th>\n",
       "      <th>season</th>\n",
       "      <th>holiday</th>\n",
       "      <th>workingday</th>\n",
       "      <th>weather</th>\n",
       "      <th>temp</th>\n",
       "      <th>atemp</th>\n",
       "      <th>humidity</th>\n",
       "      <th>windspeed</th>\n",
       "    </tr>\n",
       "  </thead>\n",
       "  <tbody>\n",
       "    <tr>\n",
       "      <th>0</th>\n",
       "      <td>2011-01-20 00:00:00</td>\n",
       "      <td>1</td>\n",
       "      <td>0</td>\n",
       "      <td>1</td>\n",
       "      <td>1</td>\n",
       "      <td>10.66</td>\n",
       "      <td>11.365</td>\n",
       "      <td>56</td>\n",
       "      <td>26.0027</td>\n",
       "    </tr>\n",
       "    <tr>\n",
       "      <th>1</th>\n",
       "      <td>2011-01-20 01:00:00</td>\n",
       "      <td>1</td>\n",
       "      <td>0</td>\n",
       "      <td>1</td>\n",
       "      <td>1</td>\n",
       "      <td>10.66</td>\n",
       "      <td>13.635</td>\n",
       "      <td>56</td>\n",
       "      <td>0.0000</td>\n",
       "    </tr>\n",
       "    <tr>\n",
       "      <th>2</th>\n",
       "      <td>2011-01-20 02:00:00</td>\n",
       "      <td>1</td>\n",
       "      <td>0</td>\n",
       "      <td>1</td>\n",
       "      <td>1</td>\n",
       "      <td>10.66</td>\n",
       "      <td>13.635</td>\n",
       "      <td>56</td>\n",
       "      <td>0.0000</td>\n",
       "    </tr>\n",
       "    <tr>\n",
       "      <th>3</th>\n",
       "      <td>2011-01-20 03:00:00</td>\n",
       "      <td>1</td>\n",
       "      <td>0</td>\n",
       "      <td>1</td>\n",
       "      <td>1</td>\n",
       "      <td>10.66</td>\n",
       "      <td>12.880</td>\n",
       "      <td>56</td>\n",
       "      <td>11.0014</td>\n",
       "    </tr>\n",
       "    <tr>\n",
       "      <th>4</th>\n",
       "      <td>2011-01-20 04:00:00</td>\n",
       "      <td>1</td>\n",
       "      <td>0</td>\n",
       "      <td>1</td>\n",
       "      <td>1</td>\n",
       "      <td>10.66</td>\n",
       "      <td>12.880</td>\n",
       "      <td>56</td>\n",
       "      <td>11.0014</td>\n",
       "    </tr>\n",
       "  </tbody>\n",
       "</table>\n",
       "</div>"
      ],
      "text/plain": [
       "             datetime  season  holiday  workingday  weather   temp   atemp  \\\n",
       "0 2011-01-20 00:00:00       1        0           1        1  10.66  11.365   \n",
       "1 2011-01-20 01:00:00       1        0           1        1  10.66  13.635   \n",
       "2 2011-01-20 02:00:00       1        0           1        1  10.66  13.635   \n",
       "3 2011-01-20 03:00:00       1        0           1        1  10.66  12.880   \n",
       "4 2011-01-20 04:00:00       1        0           1        1  10.66  12.880   \n",
       "\n",
       "   humidity  windspeed  \n",
       "0        56    26.0027  \n",
       "1        56     0.0000  \n",
       "2        56     0.0000  \n",
       "3        56    11.0014  \n",
       "4        56    11.0014  "
      ]
     },
     "execution_count": 20,
     "metadata": {},
     "output_type": "execute_result"
    }
   ],
   "source": [
    "# Create the test pandas dataframe in pandas by reading the csv, remember to parse the datetime!\n",
    "test = pd.read_csv('test.csv', parse_dates=[\"datetime\"])\n",
    "test.head()"
   ]
  },
  {
   "cell_type": "code",
   "execution_count": 21,
   "metadata": {},
   "outputs": [
    {
     "data": {
      "text/html": [
       "<div>\n",
       "<style scoped>\n",
       "    .dataframe tbody tr th:only-of-type {\n",
       "        vertical-align: middle;\n",
       "    }\n",
       "\n",
       "    .dataframe tbody tr th {\n",
       "        vertical-align: top;\n",
       "    }\n",
       "\n",
       "    .dataframe thead th {\n",
       "        text-align: right;\n",
       "    }\n",
       "</style>\n",
       "<table border=\"1\" class=\"dataframe\">\n",
       "  <thead>\n",
       "    <tr style=\"text-align: right;\">\n",
       "      <th></th>\n",
       "      <th>datetime</th>\n",
       "      <th>count</th>\n",
       "    </tr>\n",
       "  </thead>\n",
       "  <tbody>\n",
       "    <tr>\n",
       "      <th>0</th>\n",
       "      <td>2011-01-20 00:00:00</td>\n",
       "      <td>0</td>\n",
       "    </tr>\n",
       "    <tr>\n",
       "      <th>1</th>\n",
       "      <td>2011-01-20 01:00:00</td>\n",
       "      <td>0</td>\n",
       "    </tr>\n",
       "    <tr>\n",
       "      <th>2</th>\n",
       "      <td>2011-01-20 02:00:00</td>\n",
       "      <td>0</td>\n",
       "    </tr>\n",
       "    <tr>\n",
       "      <th>3</th>\n",
       "      <td>2011-01-20 03:00:00</td>\n",
       "      <td>0</td>\n",
       "    </tr>\n",
       "    <tr>\n",
       "      <th>4</th>\n",
       "      <td>2011-01-20 04:00:00</td>\n",
       "      <td>0</td>\n",
       "    </tr>\n",
       "  </tbody>\n",
       "</table>\n",
       "</div>"
      ],
      "text/plain": [
       "             datetime  count\n",
       "0 2011-01-20 00:00:00      0\n",
       "1 2011-01-20 01:00:00      0\n",
       "2 2011-01-20 02:00:00      0\n",
       "3 2011-01-20 03:00:00      0\n",
       "4 2011-01-20 04:00:00      0"
      ]
     },
     "execution_count": 21,
     "metadata": {},
     "output_type": "execute_result"
    }
   ],
   "source": [
    "# Same thing as train and test dataset\n",
    "submission = pd.read_csv(\"sampleSubmission.csv\", parse_dates=[\"datetime\"])\n",
    "submission.head()"
   ]
  },
  {
   "cell_type": "markdown",
   "metadata": {},
   "source": [
    "## Step 3: Train a model using AutoGluon’s Tabular Prediction"
   ]
  },
  {
   "cell_type": "markdown",
   "metadata": {},
   "source": [
    "Requirements:\n",
    "* We are prediting `count`, so it is the label we are setting.\n",
    "* Ignore `casual` and `registered` columns as they are also not present in the test dataset. \n",
    "* Use the `root_mean_squared_error` as the metric to use for evaluation.\n",
    "* Set a time limit of 10 minutes (600 seconds).\n",
    "* Use the preset `best_quality` to focus on creating the best model."
   ]
  },
  {
   "cell_type": "code",
   "execution_count": 22,
   "metadata": {},
   "outputs": [
    {
     "name": "stderr",
     "output_type": "stream",
     "text": [
      "No path specified. Models will be saved in: \"AutogluonModels/ag-20211102_112830/\"\n",
      "Presets specified: ['best_quality']\n",
      "Beginning AutoGluon training ... Time limit = 600s\n",
      "AutoGluon will save models to \"AutogluonModels/ag-20211102_112830/\"\n",
      "AutoGluon Version:  0.3.1\n",
      "Train Data Rows:    10886\n",
      "Train Data Columns: 11\n",
      "Preprocessing data ...\n",
      "AutoGluon infers your prediction problem is: 'regression' (because dtype of label-column == int and many unique label-values observed).\n",
      "\tLabel info (max, min, mean, stddev): (977, 1, 191.57413, 181.14445)\n",
      "\tIf 'regression' is not the correct problem_type, please manually specify the problem_type argument in fit() (You may specify problem_type as one of: ['binary', 'multiclass', 'regression'])\n",
      "Using Feature Generators to preprocess the data ...\n",
      "Dropping user-specified ignored columns: ['casual', 'registered']\n",
      "Fitting AutoMLPipelineFeatureGenerator...\n",
      "\tAvailable Memory:                    3093.83 MB\n",
      "\tTrain Data (Original)  Memory Usage: 0.78 MB (0.0% of available memory)\n",
      "\tInferring data type of each feature based on column values. Set feature_metadata_in to manually specify special dtypes of the features.\n",
      "\tStage 1 Generators:\n",
      "\t\tFitting AsTypeFeatureGenerator...\n",
      "\t\t\tNote: Converting 2 features to boolean dtype as they only contain 2 unique values.\n",
      "\tStage 2 Generators:\n",
      "\t\tFitting FillNaFeatureGenerator...\n",
      "\tStage 3 Generators:\n",
      "\t\tFitting IdentityFeatureGenerator...\n",
      "\t\tFitting DatetimeFeatureGenerator...\n",
      "\tStage 4 Generators:\n",
      "\t\tFitting DropUniqueFeatureGenerator...\n",
      "\tTypes of features in original data (raw dtype, special dtypes):\n",
      "\t\t('datetime', []) : 1 | ['datetime']\n",
      "\t\t('float', [])    : 3 | ['temp', 'atemp', 'windspeed']\n",
      "\t\t('int', [])      : 5 | ['season', 'holiday', 'workingday', 'weather', 'humidity']\n",
      "\tTypes of features in processed data (raw dtype, special dtypes):\n",
      "\t\t('float', [])                : 3 | ['temp', 'atemp', 'windspeed']\n",
      "\t\t('int', [])                  : 3 | ['season', 'weather', 'humidity']\n",
      "\t\t('int', ['bool'])            : 2 | ['holiday', 'workingday']\n",
      "\t\t('int', ['datetime_as_int']) : 1 | ['datetime']\n",
      "\t0.1s = Fit runtime\n",
      "\t9 features in original data used to generate 9 features in processed data.\n",
      "\tTrain Data (Processed) Memory Usage: 0.63 MB (0.0% of available memory)\n",
      "Data preprocessing and feature engineering runtime = 0.17s ...\n",
      "AutoGluon will gauge predictive performance using evaluation metric: 'root_mean_squared_error'\n",
      "\tTo change this, specify the eval_metric argument of fit()\n",
      "AutoGluon will fit 2 stack levels (L1 to L2) ...\n",
      "Fitting 11 L1 models ...\n",
      "Fitting model: KNeighborsUnif_BAG_L1 ... Training model for up to 399.78s of the 599.82s of remaining time.\n",
      "\t-160.4131\t = Validation score   (root_mean_squared_error)\n",
      "\t0.03s\t = Training   runtime\n",
      "\t0.1s\t = Validation runtime\n",
      "Fitting model: KNeighborsDist_BAG_L1 ... Training model for up to 399.38s of the 599.42s of remaining time.\n",
      "\t-169.5521\t = Validation score   (root_mean_squared_error)\n",
      "\t0.02s\t = Training   runtime\n",
      "\t0.1s\t = Validation runtime\n",
      "Fitting model: LightGBMXT_BAG_L1 ... Training model for up to 399.01s of the 599.05s of remaining time.\n",
      "/usr/local/lib/python3.7/site-packages/lightgbm/engine.py:239: UserWarning: 'verbose_eval' argument is deprecated and will be removed in a future release of LightGBM. Pass 'log_evaluation()' callback via 'callbacks' argument instead.\n",
      "  _log_warning(\"'verbose_eval' argument is deprecated and will be removed in a future release of LightGBM. \"\n"
     ]
    },
    {
     "name": "stdout",
     "output_type": "stream",
     "text": [
      "[1000]\ttrain_set's rmse: 123.806\tvalid_set's rmse: 134.369\n",
      "[2000]\ttrain_set's rmse: 117.412\tvalid_set's rmse: 133.705\n"
     ]
    },
    {
     "name": "stderr",
     "output_type": "stream",
     "text": [
      "/usr/local/lib/python3.7/site-packages/lightgbm/engine.py:239: UserWarning: 'verbose_eval' argument is deprecated and will be removed in a future release of LightGBM. Pass 'log_evaluation()' callback via 'callbacks' argument instead.\n",
      "  _log_warning(\"'verbose_eval' argument is deprecated and will be removed in a future release of LightGBM. \"\n"
     ]
    },
    {
     "name": "stdout",
     "output_type": "stream",
     "text": [
      "[1000]\ttrain_set's rmse: 123.42\tvalid_set's rmse: 141.5\n"
     ]
    },
    {
     "name": "stderr",
     "output_type": "stream",
     "text": [
      "/usr/local/lib/python3.7/site-packages/lightgbm/engine.py:239: UserWarning: 'verbose_eval' argument is deprecated and will be removed in a future release of LightGBM. Pass 'log_evaluation()' callback via 'callbacks' argument instead.\n",
      "  _log_warning(\"'verbose_eval' argument is deprecated and will be removed in a future release of LightGBM. \"\n"
     ]
    },
    {
     "name": "stdout",
     "output_type": "stream",
     "text": [
      "[1000]\ttrain_set's rmse: 125.097\tvalid_set's rmse: 128.797\n",
      "[2000]\ttrain_set's rmse: 119.003\tvalid_set's rmse: 127.909\n",
      "[3000]\ttrain_set's rmse: 114.63\tvalid_set's rmse: 127.431\n",
      "[4000]\ttrain_set's rmse: 111.295\tvalid_set's rmse: 126.943\n",
      "[5000]\ttrain_set's rmse: 108.576\tvalid_set's rmse: 126.844\n",
      "[6000]\ttrain_set's rmse: 106.085\tvalid_set's rmse: 126.71\n"
     ]
    },
    {
     "name": "stderr",
     "output_type": "stream",
     "text": [
      "/usr/local/lib/python3.7/site-packages/lightgbm/engine.py:239: UserWarning: 'verbose_eval' argument is deprecated and will be removed in a future release of LightGBM. Pass 'log_evaluation()' callback via 'callbacks' argument instead.\n",
      "  _log_warning(\"'verbose_eval' argument is deprecated and will be removed in a future release of LightGBM. \"\n"
     ]
    },
    {
     "name": "stdout",
     "output_type": "stream",
     "text": [
      "[1000]\ttrain_set's rmse: 124.131\tvalid_set's rmse: 138.303\n",
      "[2000]\ttrain_set's rmse: 117.833\tvalid_set's rmse: 137.535\n"
     ]
    },
    {
     "name": "stderr",
     "output_type": "stream",
     "text": [
      "/usr/local/lib/python3.7/site-packages/lightgbm/engine.py:239: UserWarning: 'verbose_eval' argument is deprecated and will be removed in a future release of LightGBM. Pass 'log_evaluation()' callback via 'callbacks' argument instead.\n",
      "  _log_warning(\"'verbose_eval' argument is deprecated and will be removed in a future release of LightGBM. \"\n"
     ]
    },
    {
     "name": "stdout",
     "output_type": "stream",
     "text": [
      "[1000]\ttrain_set's rmse: 124.871\tvalid_set's rmse: 128.052\n",
      "[2000]\ttrain_set's rmse: 118.547\tvalid_set's rmse: 127.003\n",
      "[3000]\ttrain_set's rmse: 114.124\tvalid_set's rmse: 126.834\n",
      "[4000]\ttrain_set's rmse: 110.645\tvalid_set's rmse: 126.694\n"
     ]
    },
    {
     "name": "stderr",
     "output_type": "stream",
     "text": [
      "/usr/local/lib/python3.7/site-packages/lightgbm/engine.py:239: UserWarning: 'verbose_eval' argument is deprecated and will be removed in a future release of LightGBM. Pass 'log_evaluation()' callback via 'callbacks' argument instead.\n",
      "  _log_warning(\"'verbose_eval' argument is deprecated and will be removed in a future release of LightGBM. \"\n"
     ]
    },
    {
     "name": "stdout",
     "output_type": "stream",
     "text": [
      "[1000]\ttrain_set's rmse: 124.654\tvalid_set's rmse: 135.095\n",
      "[2000]\ttrain_set's rmse: 118.764\tvalid_set's rmse: 133.849\n",
      "[3000]\ttrain_set's rmse: 114.615\tvalid_set's rmse: 133.509\n",
      "[4000]\ttrain_set's rmse: 111.249\tvalid_set's rmse: 133.472\n",
      "[5000]\ttrain_set's rmse: 108.455\tvalid_set's rmse: 133.281\n"
     ]
    },
    {
     "name": "stderr",
     "output_type": "stream",
     "text": [
      "/usr/local/lib/python3.7/site-packages/lightgbm/engine.py:239: UserWarning: 'verbose_eval' argument is deprecated and will be removed in a future release of LightGBM. Pass 'log_evaluation()' callback via 'callbacks' argument instead.\n",
      "  _log_warning(\"'verbose_eval' argument is deprecated and will be removed in a future release of LightGBM. \"\n"
     ]
    },
    {
     "name": "stdout",
     "output_type": "stream",
     "text": [
      "[1000]\ttrain_set's rmse: 124.01\tvalid_set's rmse: 139.355\n",
      "[2000]\ttrain_set's rmse: 117.819\tvalid_set's rmse: 138.312\n",
      "[3000]\ttrain_set's rmse: 113.4\tvalid_set's rmse: 137.886\n",
      "[4000]\ttrain_set's rmse: 110.032\tvalid_set's rmse: 137.758\n"
     ]
    },
    {
     "name": "stderr",
     "output_type": "stream",
     "text": [
      "/usr/local/lib/python3.7/site-packages/lightgbm/engine.py:239: UserWarning: 'verbose_eval' argument is deprecated and will be removed in a future release of LightGBM. Pass 'log_evaluation()' callback via 'callbacks' argument instead.\n",
      "  _log_warning(\"'verbose_eval' argument is deprecated and will be removed in a future release of LightGBM. \"\n"
     ]
    },
    {
     "name": "stdout",
     "output_type": "stream",
     "text": [
      "[1000]\ttrain_set's rmse: 124.47\tvalid_set's rmse: 135.412\n"
     ]
    },
    {
     "name": "stderr",
     "output_type": "stream",
     "text": [
      "/usr/local/lib/python3.7/site-packages/lightgbm/engine.py:239: UserWarning: 'verbose_eval' argument is deprecated and will be removed in a future release of LightGBM. Pass 'log_evaluation()' callback via 'callbacks' argument instead.\n",
      "  _log_warning(\"'verbose_eval' argument is deprecated and will be removed in a future release of LightGBM. \"\n"
     ]
    },
    {
     "name": "stdout",
     "output_type": "stream",
     "text": [
      "[1000]\ttrain_set's rmse: 124.18\tvalid_set's rmse: 137.579\n",
      "[2000]\ttrain_set's rmse: 117.782\tvalid_set's rmse: 136.664\n",
      "[3000]\ttrain_set's rmse: 113.447\tvalid_set's rmse: 136.246\n",
      "[4000]\ttrain_set's rmse: 109.982\tvalid_set's rmse: 136.227\n"
     ]
    },
    {
     "name": "stderr",
     "output_type": "stream",
     "text": [
      "/usr/local/lib/python3.7/site-packages/lightgbm/engine.py:239: UserWarning: 'verbose_eval' argument is deprecated and will be removed in a future release of LightGBM. Pass 'log_evaluation()' callback via 'callbacks' argument instead.\n",
      "  _log_warning(\"'verbose_eval' argument is deprecated and will be removed in a future release of LightGBM. \"\n"
     ]
    },
    {
     "name": "stdout",
     "output_type": "stream",
     "text": [
      "[1000]\ttrain_set's rmse: 124.641\tvalid_set's rmse: 132.484\n"
     ]
    },
    {
     "name": "stderr",
     "output_type": "stream",
     "text": [
      "\t-134.0883\t = Validation score   (root_mean_squared_error)\n",
      "\t44.7s\t = Training   runtime\n",
      "\t2.37s\t = Validation runtime\n",
      "Fitting model: LightGBM_BAG_L1 ... Training model for up to 346.17s of the 546.21s of remaining time.\n",
      "/usr/local/lib/python3.7/site-packages/lightgbm/engine.py:239: UserWarning: 'verbose_eval' argument is deprecated and will be removed in a future release of LightGBM. Pass 'log_evaluation()' callback via 'callbacks' argument instead.\n",
      "  _log_warning(\"'verbose_eval' argument is deprecated and will be removed in a future release of LightGBM. \"\n",
      "/usr/local/lib/python3.7/site-packages/lightgbm/engine.py:239: UserWarning: 'verbose_eval' argument is deprecated and will be removed in a future release of LightGBM. Pass 'log_evaluation()' callback via 'callbacks' argument instead.\n",
      "  _log_warning(\"'verbose_eval' argument is deprecated and will be removed in a future release of LightGBM. \"\n",
      "/usr/local/lib/python3.7/site-packages/lightgbm/engine.py:239: UserWarning: 'verbose_eval' argument is deprecated and will be removed in a future release of LightGBM. Pass 'log_evaluation()' callback via 'callbacks' argument instead.\n",
      "  _log_warning(\"'verbose_eval' argument is deprecated and will be removed in a future release of LightGBM. \"\n"
     ]
    },
    {
     "name": "stdout",
     "output_type": "stream",
     "text": [
      "[1000]\ttrain_set's rmse: 96.0217\tvalid_set's rmse: 123.249\n"
     ]
    },
    {
     "name": "stderr",
     "output_type": "stream",
     "text": [
      "/usr/local/lib/python3.7/site-packages/lightgbm/engine.py:239: UserWarning: 'verbose_eval' argument is deprecated and will be removed in a future release of LightGBM. Pass 'log_evaluation()' callback via 'callbacks' argument instead.\n",
      "  _log_warning(\"'verbose_eval' argument is deprecated and will be removed in a future release of LightGBM. \"\n"
     ]
    },
    {
     "name": "stdout",
     "output_type": "stream",
     "text": [
      "[1000]\ttrain_set's rmse: 94.7479\tvalid_set's rmse: 135.635\n"
     ]
    },
    {
     "name": "stderr",
     "output_type": "stream",
     "text": [
      "/usr/local/lib/python3.7/site-packages/lightgbm/engine.py:239: UserWarning: 'verbose_eval' argument is deprecated and will be removed in a future release of LightGBM. Pass 'log_evaluation()' callback via 'callbacks' argument instead.\n",
      "  _log_warning(\"'verbose_eval' argument is deprecated and will be removed in a future release of LightGBM. \"\n",
      "/usr/local/lib/python3.7/site-packages/lightgbm/engine.py:239: UserWarning: 'verbose_eval' argument is deprecated and will be removed in a future release of LightGBM. Pass 'log_evaluation()' callback via 'callbacks' argument instead.\n",
      "  _log_warning(\"'verbose_eval' argument is deprecated and will be removed in a future release of LightGBM. \"\n"
     ]
    },
    {
     "name": "stdout",
     "output_type": "stream",
     "text": [
      "[1000]\ttrain_set's rmse: 95.3055\tvalid_set's rmse: 132.087\n"
     ]
    },
    {
     "name": "stderr",
     "output_type": "stream",
     "text": [
      "/usr/local/lib/python3.7/site-packages/lightgbm/engine.py:239: UserWarning: 'verbose_eval' argument is deprecated and will be removed in a future release of LightGBM. Pass 'log_evaluation()' callback via 'callbacks' argument instead.\n",
      "  _log_warning(\"'verbose_eval' argument is deprecated and will be removed in a future release of LightGBM. \"\n",
      "/usr/local/lib/python3.7/site-packages/lightgbm/engine.py:239: UserWarning: 'verbose_eval' argument is deprecated and will be removed in a future release of LightGBM. Pass 'log_evaluation()' callback via 'callbacks' argument instead.\n",
      "  _log_warning(\"'verbose_eval' argument is deprecated and will be removed in a future release of LightGBM. \"\n"
     ]
    },
    {
     "name": "stdout",
     "output_type": "stream",
     "text": [
      "[1000]\ttrain_set's rmse: 95.1635\tvalid_set's rmse: 131.521\n"
     ]
    },
    {
     "name": "stderr",
     "output_type": "stream",
     "text": [
      "/usr/local/lib/python3.7/site-packages/lightgbm/engine.py:239: UserWarning: 'verbose_eval' argument is deprecated and will be removed in a future release of LightGBM. Pass 'log_evaluation()' callback via 'callbacks' argument instead.\n",
      "  _log_warning(\"'verbose_eval' argument is deprecated and will be removed in a future release of LightGBM. \"\n",
      "/usr/local/lib/python3.7/site-packages/lightgbm/engine.py:239: UserWarning: 'verbose_eval' argument is deprecated and will be removed in a future release of LightGBM. Pass 'log_evaluation()' callback via 'callbacks' argument instead.\n",
      "  _log_warning(\"'verbose_eval' argument is deprecated and will be removed in a future release of LightGBM. \"\n",
      "\t-132.2864\t = Validation score   (root_mean_squared_error)\n",
      "\t12.65s\t = Training   runtime\n",
      "\t0.48s\t = Validation runtime\n",
      "Fitting model: RandomForestMSE_BAG_L1 ... Training model for up to 331.13s of the 531.17s of remaining time.\n",
      "\t-118.4567\t = Validation score   (root_mean_squared_error)\n",
      "\t7.02s\t = Training   runtime\n",
      "\t0.38s\t = Validation runtime\n",
      "Fitting model: CatBoost_BAG_L1 ... Training model for up to 321.19s of the 521.23s of remaining time.\n",
      "\t-132.3497\t = Validation score   (root_mean_squared_error)\n",
      "\t56.19s\t = Training   runtime\n",
      "\t0.05s\t = Validation runtime\n",
      "Fitting model: ExtraTreesMSE_BAG_L1 ... Training model for up to 264.18s of the 464.22s of remaining time.\n",
      "\t-128.7334\t = Validation score   (root_mean_squared_error)\n",
      "\t3.16s\t = Training   runtime\n",
      "\t0.38s\t = Validation runtime\n",
      "Fitting model: NeuralNetFastAI_BAG_L1 ... Training model for up to 258.16s of the 458.2s of remaining time.\n",
      "generated new fontManager\n",
      "\t-138.0223\t = Validation score   (root_mean_squared_error)\n",
      "\t124.89s\t = Training   runtime\n",
      "\t0.33s\t = Validation runtime\n",
      "Fitting model: XGBoost_BAG_L1 ... Training model for up to 132.13s of the 332.17s of remaining time.\n",
      "\t-132.3085\t = Validation score   (root_mean_squared_error)\n",
      "\t14.85s\t = Training   runtime\n",
      "\t0.15s\t = Validation runtime\n",
      "Fitting model: NeuralNetMXNet_BAG_L1 ... Training model for up to 115.08s of the 315.12s of remaining time.\n",
      "\tRan out of time, stopping training early. (Stopping on epoch 8)\n",
      "\tRan out of time, stopping training early. (Stopping on epoch 11)\n",
      "\tRan out of time, stopping training early. (Stopping on epoch 12)\n",
      "\tRan out of time, stopping training early. (Stopping on epoch 12)\n",
      "\tRan out of time, stopping training early. (Stopping on epoch 12)\n",
      "\tRan out of time, stopping training early. (Stopping on epoch 13)\n",
      "\tRan out of time, stopping training early. (Stopping on epoch 14)\n",
      "\tRan out of time, stopping training early. (Stopping on epoch 15)\n",
      "\tRan out of time, stopping training early. (Stopping on epoch 16)\n",
      "\tRan out of time, stopping training early. (Stopping on epoch 20)\n",
      "\t-143.4768\t = Validation score   (root_mean_squared_error)\n",
      "\t108.79s\t = Training   runtime\n",
      "\t1.54s\t = Validation runtime\n",
      "Fitting model: LightGBMLarge_BAG_L1 ... Training model for up to 4.12s of the 204.16s of remaining time.\n",
      "/usr/local/lib/python3.7/site-packages/lightgbm/engine.py:239: UserWarning: 'verbose_eval' argument is deprecated and will be removed in a future release of LightGBM. Pass 'log_evaluation()' callback via 'callbacks' argument instead.\n",
      "  _log_warning(\"'verbose_eval' argument is deprecated and will be removed in a future release of LightGBM. \"\n",
      "\tRan out of time, early stopping on iteration 51. Best iteration is:\n",
      "\t[51]\ttrain_set's rmse: 125.131\tvalid_set's rmse: 136.397\n",
      "\tTime limit exceeded... Skipping LightGBMLarge_BAG_L1.\n",
      "Completed 1/20 k-fold bagging repeats ...\n",
      "Fitting model: WeightedEnsemble_L2 ... Training model for up to 360.0s of the 203.62s of remaining time.\n",
      "\t-118.4238\t = Validation score   (root_mean_squared_error)\n",
      "\t0.51s\t = Training   runtime\n",
      "\t0.0s\t = Validation runtime\n",
      "Fitting 9 L2 models ...\n",
      "Fitting model: LightGBMXT_BAG_L2 ... Training model for up to 203.02s of the 202.99s of remaining time.\n",
      "/usr/local/lib/python3.7/site-packages/lightgbm/engine.py:239: UserWarning: 'verbose_eval' argument is deprecated and will be removed in a future release of LightGBM. Pass 'log_evaluation()' callback via 'callbacks' argument instead.\n",
      "  _log_warning(\"'verbose_eval' argument is deprecated and will be removed in a future release of LightGBM. \"\n",
      "/usr/local/lib/python3.7/site-packages/lightgbm/engine.py:239: UserWarning: 'verbose_eval' argument is deprecated and will be removed in a future release of LightGBM. Pass 'log_evaluation()' callback via 'callbacks' argument instead.\n",
      "  _log_warning(\"'verbose_eval' argument is deprecated and will be removed in a future release of LightGBM. \"\n",
      "/usr/local/lib/python3.7/site-packages/lightgbm/engine.py:239: UserWarning: 'verbose_eval' argument is deprecated and will be removed in a future release of LightGBM. Pass 'log_evaluation()' callback via 'callbacks' argument instead.\n",
      "  _log_warning(\"'verbose_eval' argument is deprecated and will be removed in a future release of LightGBM. \"\n",
      "/usr/local/lib/python3.7/site-packages/lightgbm/engine.py:239: UserWarning: 'verbose_eval' argument is deprecated and will be removed in a future release of LightGBM. Pass 'log_evaluation()' callback via 'callbacks' argument instead.\n",
      "  _log_warning(\"'verbose_eval' argument is deprecated and will be removed in a future release of LightGBM. \"\n",
      "/usr/local/lib/python3.7/site-packages/lightgbm/engine.py:239: UserWarning: 'verbose_eval' argument is deprecated and will be removed in a future release of LightGBM. Pass 'log_evaluation()' callback via 'callbacks' argument instead.\n",
      "  _log_warning(\"'verbose_eval' argument is deprecated and will be removed in a future release of LightGBM. \"\n",
      "/usr/local/lib/python3.7/site-packages/lightgbm/engine.py:239: UserWarning: 'verbose_eval' argument is deprecated and will be removed in a future release of LightGBM. Pass 'log_evaluation()' callback via 'callbacks' argument instead.\n",
      "  _log_warning(\"'verbose_eval' argument is deprecated and will be removed in a future release of LightGBM. \"\n",
      "/usr/local/lib/python3.7/site-packages/lightgbm/engine.py:239: UserWarning: 'verbose_eval' argument is deprecated and will be removed in a future release of LightGBM. Pass 'log_evaluation()' callback via 'callbacks' argument instead.\n",
      "  _log_warning(\"'verbose_eval' argument is deprecated and will be removed in a future release of LightGBM. \"\n",
      "/usr/local/lib/python3.7/site-packages/lightgbm/engine.py:239: UserWarning: 'verbose_eval' argument is deprecated and will be removed in a future release of LightGBM. Pass 'log_evaluation()' callback via 'callbacks' argument instead.\n",
      "  _log_warning(\"'verbose_eval' argument is deprecated and will be removed in a future release of LightGBM. \"\n",
      "/usr/local/lib/python3.7/site-packages/lightgbm/engine.py:239: UserWarning: 'verbose_eval' argument is deprecated and will be removed in a future release of LightGBM. Pass 'log_evaluation()' callback via 'callbacks' argument instead.\n",
      "  _log_warning(\"'verbose_eval' argument is deprecated and will be removed in a future release of LightGBM. \"\n",
      "/usr/local/lib/python3.7/site-packages/lightgbm/engine.py:239: UserWarning: 'verbose_eval' argument is deprecated and will be removed in a future release of LightGBM. Pass 'log_evaluation()' callback via 'callbacks' argument instead.\n",
      "  _log_warning(\"'verbose_eval' argument is deprecated and will be removed in a future release of LightGBM. \"\n",
      "\t-116.3384\t = Validation score   (root_mean_squared_error)\n",
      "\t10.33s\t = Training   runtime\n",
      "\t0.21s\t = Validation runtime\n",
      "Fitting model: LightGBM_BAG_L2 ... Training model for up to 191.49s of the 191.45s of remaining time.\n",
      "/usr/local/lib/python3.7/site-packages/lightgbm/engine.py:239: UserWarning: 'verbose_eval' argument is deprecated and will be removed in a future release of LightGBM. Pass 'log_evaluation()' callback via 'callbacks' argument instead.\n",
      "  _log_warning(\"'verbose_eval' argument is deprecated and will be removed in a future release of LightGBM. \"\n",
      "/usr/local/lib/python3.7/site-packages/lightgbm/engine.py:239: UserWarning: 'verbose_eval' argument is deprecated and will be removed in a future release of LightGBM. Pass 'log_evaluation()' callback via 'callbacks' argument instead.\n",
      "  _log_warning(\"'verbose_eval' argument is deprecated and will be removed in a future release of LightGBM. \"\n",
      "/usr/local/lib/python3.7/site-packages/lightgbm/engine.py:239: UserWarning: 'verbose_eval' argument is deprecated and will be removed in a future release of LightGBM. Pass 'log_evaluation()' callback via 'callbacks' argument instead.\n",
      "  _log_warning(\"'verbose_eval' argument is deprecated and will be removed in a future release of LightGBM. \"\n",
      "/usr/local/lib/python3.7/site-packages/lightgbm/engine.py:239: UserWarning: 'verbose_eval' argument is deprecated and will be removed in a future release of LightGBM. Pass 'log_evaluation()' callback via 'callbacks' argument instead.\n",
      "  _log_warning(\"'verbose_eval' argument is deprecated and will be removed in a future release of LightGBM. \"\n",
      "/usr/local/lib/python3.7/site-packages/lightgbm/engine.py:239: UserWarning: 'verbose_eval' argument is deprecated and will be removed in a future release of LightGBM. Pass 'log_evaluation()' callback via 'callbacks' argument instead.\n",
      "  _log_warning(\"'verbose_eval' argument is deprecated and will be removed in a future release of LightGBM. \"\n",
      "/usr/local/lib/python3.7/site-packages/lightgbm/engine.py:239: UserWarning: 'verbose_eval' argument is deprecated and will be removed in a future release of LightGBM. Pass 'log_evaluation()' callback via 'callbacks' argument instead.\n",
      "  _log_warning(\"'verbose_eval' argument is deprecated and will be removed in a future release of LightGBM. \"\n",
      "/usr/local/lib/python3.7/site-packages/lightgbm/engine.py:239: UserWarning: 'verbose_eval' argument is deprecated and will be removed in a future release of LightGBM. Pass 'log_evaluation()' callback via 'callbacks' argument instead.\n",
      "  _log_warning(\"'verbose_eval' argument is deprecated and will be removed in a future release of LightGBM. \"\n",
      "/usr/local/lib/python3.7/site-packages/lightgbm/engine.py:239: UserWarning: 'verbose_eval' argument is deprecated and will be removed in a future release of LightGBM. Pass 'log_evaluation()' callback via 'callbacks' argument instead.\n",
      "  _log_warning(\"'verbose_eval' argument is deprecated and will be removed in a future release of LightGBM. \"\n",
      "/usr/local/lib/python3.7/site-packages/lightgbm/engine.py:239: UserWarning: 'verbose_eval' argument is deprecated and will be removed in a future release of LightGBM. Pass 'log_evaluation()' callback via 'callbacks' argument instead.\n",
      "  _log_warning(\"'verbose_eval' argument is deprecated and will be removed in a future release of LightGBM. \"\n",
      "/usr/local/lib/python3.7/site-packages/lightgbm/engine.py:239: UserWarning: 'verbose_eval' argument is deprecated and will be removed in a future release of LightGBM. Pass 'log_evaluation()' callback via 'callbacks' argument instead.\n",
      "  _log_warning(\"'verbose_eval' argument is deprecated and will be removed in a future release of LightGBM. \"\n",
      "\t-116.7372\t = Validation score   (root_mean_squared_error)\n",
      "\t7.2s\t = Training   runtime\n",
      "\t0.08s\t = Validation runtime\n",
      "Fitting model: RandomForestMSE_BAG_L2 ... Training model for up to 183.6s of the 183.57s of remaining time.\n",
      "\t-119.4821\t = Validation score   (root_mean_squared_error)\n",
      "\t29.02s\t = Training   runtime\n",
      "\t0.47s\t = Validation runtime\n",
      "Fitting model: CatBoost_BAG_L2 ... Training model for up to 151.46s of the 151.42s of remaining time.\n",
      "\t-116.2304\t = Validation score   (root_mean_squared_error)\n",
      "\t29.84s\t = Training   runtime\n",
      "\t0.04s\t = Validation runtime\n",
      "Fitting model: ExtraTreesMSE_BAG_L2 ... Training model for up to 121.05s of the 121.01s of remaining time.\n",
      "\t-117.4647\t = Validation score   (root_mean_squared_error)\n",
      "\t6.38s\t = Training   runtime\n",
      "\t0.45s\t = Validation runtime\n",
      "Fitting model: NeuralNetFastAI_BAG_L2 ... Training model for up to 111.7s of the 111.66s of remaining time.\n",
      "\tRan out of time, stopping training early. (Stopping on epoch 20)\n",
      "\tRan out of time, stopping training early. (Stopping on epoch 21)\n",
      "\tRan out of time, stopping training early. (Stopping on epoch 21)\n",
      "\tRan out of time, stopping training early. (Stopping on epoch 22)\n",
      "\tRan out of time, stopping training early. (Stopping on epoch 22)\n",
      "\tRan out of time, stopping training early. (Stopping on epoch 24)\n",
      "\tRan out of time, stopping training early. (Stopping on epoch 25)\n",
      "\tRan out of time, stopping training early. (Stopping on epoch 27)\n",
      "\tRan out of time, stopping training early. (Stopping on epoch 28)\n",
      "\t-115.4736\t = Validation score   (root_mean_squared_error)\n",
      "\t103.74s\t = Training   runtime\n",
      "\t0.37s\t = Validation runtime\n",
      "Fitting model: XGBoost_BAG_L2 ... Training model for up to 6.76s of the 6.72s of remaining time.\n",
      "\t-117.4242\t = Validation score   (root_mean_squared_error)\n",
      "\t6.05s\t = Training   runtime\n",
      "\t0.09s\t = Validation runtime\n",
      "Completed 1/20 k-fold bagging repeats ...\n",
      "Fitting model: WeightedEnsemble_L3 ... Training model for up to 360.0s of the -0.2s of remaining time.\n",
      "\t-114.8162\t = Validation score   (root_mean_squared_error)\n",
      "\t0.38s\t = Training   runtime\n",
      "\t0.0s\t = Validation runtime\n",
      "AutoGluon training complete, total runtime = 600.82s ...\n",
      "TabularPredictor saved. To load, use: predictor = TabularPredictor.load(\"AutogluonModels/ag-20211102_112830/\")\n"
     ]
    }
   ],
   "source": [
    "predictor = TabularPredictor(label=\"count\",eval_metric=\"root_mean_squared_error\",learner_kwargs={\"ignored_columns\": [\"casual\", \"registered\"]})\\\n",
    "                                                                                .fit(train_data=train, time_limit=600, presets=\"best_quality\")"
   ]
  },
  {
   "cell_type": "markdown",
   "metadata": {},
   "source": [
    "### Review AutoGluon's training run with ranking of models that did the best."
   ]
  },
  {
   "cell_type": "code",
   "execution_count": 23,
   "metadata": {},
   "outputs": [
    {
     "name": "stdout",
     "output_type": "stream",
     "text": [
      "*** Summary of fit() ***\n",
      "Estimated performance of each model:\n",
      "                     model   score_val  pred_time_val    fit_time  pred_time_val_marginal  fit_time_marginal  stack_level  can_infer  fit_order\n",
      "0      WeightedEnsemble_L3 -114.816175       7.032043  530.180696                0.000813           0.383163            3       True         19\n",
      "1   NeuralNetFastAI_BAG_L2 -115.473584       6.252469  476.055976                0.372184         103.741430            2       True         17\n",
      "2          CatBoost_BAG_L2 -116.230378       5.917287  402.151107                0.037002          29.836561            2       True         15\n",
      "3        LightGBMXT_BAG_L2 -116.338354       6.091355  382.646798                0.211070          10.332252            2       True         12\n",
      "4          LightGBM_BAG_L2 -116.737179       5.959583  379.511418                0.079298           7.196872            2       True         13\n",
      "5           XGBoost_BAG_L2 -117.424195       5.965799  378.366379                0.085514           6.051832            2       True         18\n",
      "6     ExtraTreesMSE_BAG_L2 -117.464664       6.331676  378.690419                0.451391           6.375873            2       True         16\n",
      "7      WeightedEnsemble_L2 -118.423801       1.922266  116.314389                0.000721           0.505876            2       True         11\n",
      "8   RandomForestMSE_BAG_L1 -118.456660       0.379507    7.022258                0.379507           7.022258            1       True          5\n",
      "9   RandomForestMSE_BAG_L2 -119.482067       6.350038  401.332933                0.469753          29.018387            2       True         14\n",
      "10    ExtraTreesMSE_BAG_L1 -128.733445       0.382931    3.164960                0.382931           3.164960            1       True          7\n",
      "11         LightGBM_BAG_L1 -132.286410       0.476250   12.650243                0.476250          12.650243            1       True          4\n",
      "12          XGBoost_BAG_L1 -132.308522       0.146912   14.853072                0.146912          14.853072            1       True          9\n",
      "13         CatBoost_BAG_L1 -132.349692       0.046822   56.187264                0.046822          56.187264            1       True          6\n",
      "14       LightGBMXT_BAG_L1 -134.088334       2.371390   44.700348                2.371390          44.700348            1       True          3\n",
      "15  NeuralNetFastAI_BAG_L1 -138.022350       0.327007  124.892297                0.327007         124.892297            1       True          8\n",
      "16   NeuralNetMXNet_BAG_L1 -143.476818       1.542037  108.786255                1.542037         108.786255            1       True         10\n",
      "17   KNeighborsUnif_BAG_L1 -160.413078       0.103337    0.034178                0.103337           0.034178            1       True          1\n",
      "18   KNeighborsDist_BAG_L1 -169.552096       0.104091    0.023670                0.104091           0.023670            1       True          2\n",
      "Number of models trained: 19\n",
      "Types of models trained:\n",
      "{'StackerEnsembleModel_TabularNeuralNet', 'StackerEnsembleModel_XGBoost', 'StackerEnsembleModel_RF', 'StackerEnsembleModel_CatBoost', 'StackerEnsembleModel_KNN', 'StackerEnsembleModel_XT', 'StackerEnsembleModel_NNFastAiTabular', 'StackerEnsembleModel_LGB', 'WeightedEnsembleModel'}\n",
      "Bagging used: True  (with 10 folds)\n",
      "Multi-layer stack-ensembling used: True  (with 3 levels)\n",
      "Feature Metadata (Processed):\n",
      "(raw dtype, special dtypes):\n",
      "('float', [])                : 3 | ['temp', 'atemp', 'windspeed']\n",
      "('int', [])                  : 3 | ['season', 'weather', 'humidity']\n",
      "('int', ['bool'])            : 2 | ['holiday', 'workingday']\n",
      "('int', ['datetime_as_int']) : 1 | ['datetime']\n",
      "Plot summary of models saved to file: AutogluonModels/ag-20211102_112830/SummaryOfModels.html\n",
      "*** End of fit() summary ***\n"
     ]
    },
    {
     "data": {
      "text/plain": [
       "{'model_types': {'KNeighborsUnif_BAG_L1': 'StackerEnsembleModel_KNN',\n",
       "  'KNeighborsDist_BAG_L1': 'StackerEnsembleModel_KNN',\n",
       "  'LightGBMXT_BAG_L1': 'StackerEnsembleModel_LGB',\n",
       "  'LightGBM_BAG_L1': 'StackerEnsembleModel_LGB',\n",
       "  'RandomForestMSE_BAG_L1': 'StackerEnsembleModel_RF',\n",
       "  'CatBoost_BAG_L1': 'StackerEnsembleModel_CatBoost',\n",
       "  'ExtraTreesMSE_BAG_L1': 'StackerEnsembleModel_XT',\n",
       "  'NeuralNetFastAI_BAG_L1': 'StackerEnsembleModel_NNFastAiTabular',\n",
       "  'XGBoost_BAG_L1': 'StackerEnsembleModel_XGBoost',\n",
       "  'NeuralNetMXNet_BAG_L1': 'StackerEnsembleModel_TabularNeuralNet',\n",
       "  'WeightedEnsemble_L2': 'WeightedEnsembleModel',\n",
       "  'LightGBMXT_BAG_L2': 'StackerEnsembleModel_LGB',\n",
       "  'LightGBM_BAG_L2': 'StackerEnsembleModel_LGB',\n",
       "  'RandomForestMSE_BAG_L2': 'StackerEnsembleModel_RF',\n",
       "  'CatBoost_BAG_L2': 'StackerEnsembleModel_CatBoost',\n",
       "  'ExtraTreesMSE_BAG_L2': 'StackerEnsembleModel_XT',\n",
       "  'NeuralNetFastAI_BAG_L2': 'StackerEnsembleModel_NNFastAiTabular',\n",
       "  'XGBoost_BAG_L2': 'StackerEnsembleModel_XGBoost',\n",
       "  'WeightedEnsemble_L3': 'WeightedEnsembleModel'},\n",
       " 'model_performance': {'KNeighborsUnif_BAG_L1': -160.4130779463501,\n",
       "  'KNeighborsDist_BAG_L1': -169.55209635208928,\n",
       "  'LightGBMXT_BAG_L1': -134.08833420116997,\n",
       "  'LightGBM_BAG_L1': -132.28640961443517,\n",
       "  'RandomForestMSE_BAG_L1': -118.45666016795705,\n",
       "  'CatBoost_BAG_L1': -132.34969157134555,\n",
       "  'ExtraTreesMSE_BAG_L1': -128.7334450621692,\n",
       "  'NeuralNetFastAI_BAG_L1': -138.02234959517878,\n",
       "  'XGBoost_BAG_L1': -132.30852184526813,\n",
       "  'NeuralNetMXNet_BAG_L1': -143.47681760718362,\n",
       "  'WeightedEnsemble_L2': -118.42380129689542,\n",
       "  'LightGBMXT_BAG_L2': -116.3383535412191,\n",
       "  'LightGBM_BAG_L2': -116.73717879793796,\n",
       "  'RandomForestMSE_BAG_L2': -119.48206706614361,\n",
       "  'CatBoost_BAG_L2': -116.23037832545315,\n",
       "  'ExtraTreesMSE_BAG_L2': -117.46466424517509,\n",
       "  'NeuralNetFastAI_BAG_L2': -115.47358424875274,\n",
       "  'XGBoost_BAG_L2': -117.42419523594938,\n",
       "  'WeightedEnsemble_L3': -114.81617462506289},\n",
       " 'model_best': 'WeightedEnsemble_L3',\n",
       " 'model_paths': {'KNeighborsUnif_BAG_L1': 'AutogluonModels/ag-20211102_112830/models/KNeighborsUnif_BAG_L1/',\n",
       "  'KNeighborsDist_BAG_L1': 'AutogluonModels/ag-20211102_112830/models/KNeighborsDist_BAG_L1/',\n",
       "  'LightGBMXT_BAG_L1': 'AutogluonModels/ag-20211102_112830/models/LightGBMXT_BAG_L1/',\n",
       "  'LightGBM_BAG_L1': 'AutogluonModels/ag-20211102_112830/models/LightGBM_BAG_L1/',\n",
       "  'RandomForestMSE_BAG_L1': 'AutogluonModels/ag-20211102_112830/models/RandomForestMSE_BAG_L1/',\n",
       "  'CatBoost_BAG_L1': 'AutogluonModels/ag-20211102_112830/models/CatBoost_BAG_L1/',\n",
       "  'ExtraTreesMSE_BAG_L1': 'AutogluonModels/ag-20211102_112830/models/ExtraTreesMSE_BAG_L1/',\n",
       "  'NeuralNetFastAI_BAG_L1': 'AutogluonModels/ag-20211102_112830/models/NeuralNetFastAI_BAG_L1/',\n",
       "  'XGBoost_BAG_L1': 'AutogluonModels/ag-20211102_112830/models/XGBoost_BAG_L1/',\n",
       "  'NeuralNetMXNet_BAG_L1': 'AutogluonModels/ag-20211102_112830/models/NeuralNetMXNet_BAG_L1/',\n",
       "  'WeightedEnsemble_L2': 'AutogluonModels/ag-20211102_112830/models/WeightedEnsemble_L2/',\n",
       "  'LightGBMXT_BAG_L2': 'AutogluonModels/ag-20211102_112830/models/LightGBMXT_BAG_L2/',\n",
       "  'LightGBM_BAG_L2': 'AutogluonModels/ag-20211102_112830/models/LightGBM_BAG_L2/',\n",
       "  'RandomForestMSE_BAG_L2': 'AutogluonModels/ag-20211102_112830/models/RandomForestMSE_BAG_L2/',\n",
       "  'CatBoost_BAG_L2': 'AutogluonModels/ag-20211102_112830/models/CatBoost_BAG_L2/',\n",
       "  'ExtraTreesMSE_BAG_L2': 'AutogluonModels/ag-20211102_112830/models/ExtraTreesMSE_BAG_L2/',\n",
       "  'NeuralNetFastAI_BAG_L2': 'AutogluonModels/ag-20211102_112830/models/NeuralNetFastAI_BAG_L2/',\n",
       "  'XGBoost_BAG_L2': 'AutogluonModels/ag-20211102_112830/models/XGBoost_BAG_L2/',\n",
       "  'WeightedEnsemble_L3': 'AutogluonModels/ag-20211102_112830/models/WeightedEnsemble_L3/'},\n",
       " 'model_fit_times': {'KNeighborsUnif_BAG_L1': 0.03417849540710449,\n",
       "  'KNeighborsDist_BAG_L1': 0.023670434951782227,\n",
       "  'LightGBMXT_BAG_L1': 44.70034837722778,\n",
       "  'LightGBM_BAG_L1': 12.650242805480957,\n",
       "  'RandomForestMSE_BAG_L1': 7.022257566452026,\n",
       "  'CatBoost_BAG_L1': 56.18726396560669,\n",
       "  'ExtraTreesMSE_BAG_L1': 3.1649603843688965,\n",
       "  'NeuralNetFastAI_BAG_L1': 124.89229655265808,\n",
       "  'XGBoost_BAG_L1': 14.853072166442871,\n",
       "  'NeuralNetMXNet_BAG_L1': 108.78625535964966,\n",
       "  'WeightedEnsemble_L2': 0.5058755874633789,\n",
       "  'LightGBMXT_BAG_L2': 10.33225154876709,\n",
       "  'LightGBM_BAG_L2': 7.196872234344482,\n",
       "  'RandomForestMSE_BAG_L2': 29.018386840820312,\n",
       "  'CatBoost_BAG_L2': 29.83656072616577,\n",
       "  'ExtraTreesMSE_BAG_L2': 6.37587308883667,\n",
       "  'NeuralNetFastAI_BAG_L2': 103.7414300441742,\n",
       "  'XGBoost_BAG_L2': 6.051832437515259,\n",
       "  'WeightedEnsemble_L3': 0.3831627368927002},\n",
       " 'model_pred_times': {'KNeighborsUnif_BAG_L1': 0.10333728790283203,\n",
       "  'KNeighborsDist_BAG_L1': 0.10409069061279297,\n",
       "  'LightGBMXT_BAG_L1': 2.3713901042938232,\n",
       "  'LightGBM_BAG_L1': 0.47625017166137695,\n",
       "  'RandomForestMSE_BAG_L1': 0.37950706481933594,\n",
       "  'CatBoost_BAG_L1': 0.04682207107543945,\n",
       "  'ExtraTreesMSE_BAG_L1': 0.3829312324523926,\n",
       "  'NeuralNetFastAI_BAG_L1': 0.3270070552825928,\n",
       "  'XGBoost_BAG_L1': 0.1469118595123291,\n",
       "  'NeuralNetMXNet_BAG_L1': 1.5420374870300293,\n",
       "  'WeightedEnsemble_L2': 0.000720977783203125,\n",
       "  'LightGBMXT_BAG_L2': 0.21106982231140137,\n",
       "  'LightGBM_BAG_L2': 0.07929825782775879,\n",
       "  'RandomForestMSE_BAG_L2': 0.46975278854370117,\n",
       "  'CatBoost_BAG_L2': 0.0370020866394043,\n",
       "  'ExtraTreesMSE_BAG_L2': 0.45139122009277344,\n",
       "  'NeuralNetFastAI_BAG_L2': 0.37218356132507324,\n",
       "  'XGBoost_BAG_L2': 0.08551430702209473,\n",
       "  'WeightedEnsemble_L3': 0.0008127689361572266},\n",
       " 'num_bag_folds': 10,\n",
       " 'max_stack_level': 3,\n",
       " 'model_hyperparams': {'KNeighborsUnif_BAG_L1': {'use_orig_features': True,\n",
       "   'max_base_models': 25,\n",
       "   'max_base_models_per_type': 5,\n",
       "   'save_bag_folds': True,\n",
       "   'use_child_oof': True},\n",
       "  'KNeighborsDist_BAG_L1': {'use_orig_features': True,\n",
       "   'max_base_models': 25,\n",
       "   'max_base_models_per_type': 5,\n",
       "   'save_bag_folds': True,\n",
       "   'use_child_oof': True},\n",
       "  'LightGBMXT_BAG_L1': {'use_orig_features': True,\n",
       "   'max_base_models': 25,\n",
       "   'max_base_models_per_type': 5,\n",
       "   'save_bag_folds': True},\n",
       "  'LightGBM_BAG_L1': {'use_orig_features': True,\n",
       "   'max_base_models': 25,\n",
       "   'max_base_models_per_type': 5,\n",
       "   'save_bag_folds': True},\n",
       "  'RandomForestMSE_BAG_L1': {'use_orig_features': True,\n",
       "   'max_base_models': 25,\n",
       "   'max_base_models_per_type': 5,\n",
       "   'save_bag_folds': True,\n",
       "   'use_child_oof': True},\n",
       "  'CatBoost_BAG_L1': {'use_orig_features': True,\n",
       "   'max_base_models': 25,\n",
       "   'max_base_models_per_type': 5,\n",
       "   'save_bag_folds': True},\n",
       "  'ExtraTreesMSE_BAG_L1': {'use_orig_features': True,\n",
       "   'max_base_models': 25,\n",
       "   'max_base_models_per_type': 5,\n",
       "   'save_bag_folds': True,\n",
       "   'use_child_oof': True},\n",
       "  'NeuralNetFastAI_BAG_L1': {'use_orig_features': True,\n",
       "   'max_base_models': 25,\n",
       "   'max_base_models_per_type': 5,\n",
       "   'save_bag_folds': True},\n",
       "  'XGBoost_BAG_L1': {'use_orig_features': True,\n",
       "   'max_base_models': 25,\n",
       "   'max_base_models_per_type': 5,\n",
       "   'save_bag_folds': True},\n",
       "  'NeuralNetMXNet_BAG_L1': {'use_orig_features': True,\n",
       "   'max_base_models': 25,\n",
       "   'max_base_models_per_type': 5,\n",
       "   'save_bag_folds': True},\n",
       "  'WeightedEnsemble_L2': {'use_orig_features': False,\n",
       "   'max_base_models': 25,\n",
       "   'max_base_models_per_type': 5,\n",
       "   'save_bag_folds': True},\n",
       "  'LightGBMXT_BAG_L2': {'use_orig_features': True,\n",
       "   'max_base_models': 25,\n",
       "   'max_base_models_per_type': 5,\n",
       "   'save_bag_folds': True},\n",
       "  'LightGBM_BAG_L2': {'use_orig_features': True,\n",
       "   'max_base_models': 25,\n",
       "   'max_base_models_per_type': 5,\n",
       "   'save_bag_folds': True},\n",
       "  'RandomForestMSE_BAG_L2': {'use_orig_features': True,\n",
       "   'max_base_models': 25,\n",
       "   'max_base_models_per_type': 5,\n",
       "   'save_bag_folds': True,\n",
       "   'use_child_oof': True},\n",
       "  'CatBoost_BAG_L2': {'use_orig_features': True,\n",
       "   'max_base_models': 25,\n",
       "   'max_base_models_per_type': 5,\n",
       "   'save_bag_folds': True},\n",
       "  'ExtraTreesMSE_BAG_L2': {'use_orig_features': True,\n",
       "   'max_base_models': 25,\n",
       "   'max_base_models_per_type': 5,\n",
       "   'save_bag_folds': True,\n",
       "   'use_child_oof': True},\n",
       "  'NeuralNetFastAI_BAG_L2': {'use_orig_features': True,\n",
       "   'max_base_models': 25,\n",
       "   'max_base_models_per_type': 5,\n",
       "   'save_bag_folds': True},\n",
       "  'XGBoost_BAG_L2': {'use_orig_features': True,\n",
       "   'max_base_models': 25,\n",
       "   'max_base_models_per_type': 5,\n",
       "   'save_bag_folds': True},\n",
       "  'WeightedEnsemble_L3': {'use_orig_features': False,\n",
       "   'max_base_models': 25,\n",
       "   'max_base_models_per_type': 5,\n",
       "   'save_bag_folds': True}},\n",
       " 'leaderboard':                      model   score_val  pred_time_val    fit_time  \\\n",
       " 0      WeightedEnsemble_L3 -114.816175       7.032043  530.180696   \n",
       " 1   NeuralNetFastAI_BAG_L2 -115.473584       6.252469  476.055976   \n",
       " 2          CatBoost_BAG_L2 -116.230378       5.917287  402.151107   \n",
       " 3        LightGBMXT_BAG_L2 -116.338354       6.091355  382.646798   \n",
       " 4          LightGBM_BAG_L2 -116.737179       5.959583  379.511418   \n",
       " 5           XGBoost_BAG_L2 -117.424195       5.965799  378.366379   \n",
       " 6     ExtraTreesMSE_BAG_L2 -117.464664       6.331676  378.690419   \n",
       " 7      WeightedEnsemble_L2 -118.423801       1.922266  116.314389   \n",
       " 8   RandomForestMSE_BAG_L1 -118.456660       0.379507    7.022258   \n",
       " 9   RandomForestMSE_BAG_L2 -119.482067       6.350038  401.332933   \n",
       " 10    ExtraTreesMSE_BAG_L1 -128.733445       0.382931    3.164960   \n",
       " 11         LightGBM_BAG_L1 -132.286410       0.476250   12.650243   \n",
       " 12          XGBoost_BAG_L1 -132.308522       0.146912   14.853072   \n",
       " 13         CatBoost_BAG_L1 -132.349692       0.046822   56.187264   \n",
       " 14       LightGBMXT_BAG_L1 -134.088334       2.371390   44.700348   \n",
       " 15  NeuralNetFastAI_BAG_L1 -138.022350       0.327007  124.892297   \n",
       " 16   NeuralNetMXNet_BAG_L1 -143.476818       1.542037  108.786255   \n",
       " 17   KNeighborsUnif_BAG_L1 -160.413078       0.103337    0.034178   \n",
       " 18   KNeighborsDist_BAG_L1 -169.552096       0.104091    0.023670   \n",
       " \n",
       "     pred_time_val_marginal  fit_time_marginal  stack_level  can_infer  \\\n",
       " 0                 0.000813           0.383163            3       True   \n",
       " 1                 0.372184         103.741430            2       True   \n",
       " 2                 0.037002          29.836561            2       True   \n",
       " 3                 0.211070          10.332252            2       True   \n",
       " 4                 0.079298           7.196872            2       True   \n",
       " 5                 0.085514           6.051832            2       True   \n",
       " 6                 0.451391           6.375873            2       True   \n",
       " 7                 0.000721           0.505876            2       True   \n",
       " 8                 0.379507           7.022258            1       True   \n",
       " 9                 0.469753          29.018387            2       True   \n",
       " 10                0.382931           3.164960            1       True   \n",
       " 11                0.476250          12.650243            1       True   \n",
       " 12                0.146912          14.853072            1       True   \n",
       " 13                0.046822          56.187264            1       True   \n",
       " 14                2.371390          44.700348            1       True   \n",
       " 15                0.327007         124.892297            1       True   \n",
       " 16                1.542037         108.786255            1       True   \n",
       " 17                0.103337           0.034178            1       True   \n",
       " 18                0.104091           0.023670            1       True   \n",
       " \n",
       "     fit_order  \n",
       " 0          19  \n",
       " 1          17  \n",
       " 2          15  \n",
       " 3          12  \n",
       " 4          13  \n",
       " 5          18  \n",
       " 6          16  \n",
       " 7          11  \n",
       " 8           5  \n",
       " 9          14  \n",
       " 10          7  \n",
       " 11          4  \n",
       " 12          9  \n",
       " 13          6  \n",
       " 14          3  \n",
       " 15          8  \n",
       " 16         10  \n",
       " 17          1  \n",
       " 18          2  }"
      ]
     },
     "execution_count": 23,
     "metadata": {},
     "output_type": "execute_result"
    }
   ],
   "source": [
    "predictor.fit_summary()"
   ]
  },
  {
   "cell_type": "markdown",
   "metadata": {},
   "source": [
    "### Create predictions from test dataset"
   ]
  },
  {
   "cell_type": "code",
   "execution_count": 25,
   "metadata": {},
   "outputs": [
    {
     "data": {
      "text/plain": [
       "0     97.397110\n",
       "1     90.679871\n",
       "2     90.694794\n",
       "3    107.823029\n",
       "4    107.734680\n",
       "Name: count, dtype: float32"
      ]
     },
     "execution_count": 25,
     "metadata": {},
     "output_type": "execute_result"
    }
   ],
   "source": [
    "predictions = predictor.predict(test)\n",
    "predictions.head()"
   ]
  },
  {
   "cell_type": "markdown",
   "metadata": {},
   "source": [
    "#### NOTE: Kaggle will reject the submission if we don't set everything to be > 0."
   ]
  },
  {
   "cell_type": "code",
   "execution_count": 26,
   "metadata": {},
   "outputs": [
    {
     "data": {
      "text/plain": [
       "count    6493.000000\n",
       "mean      210.676270\n",
       "std       129.698807\n",
       "min        -6.922371\n",
       "25%       105.277466\n",
       "50%       193.823608\n",
       "75%       296.953247\n",
       "max       661.158203\n",
       "Name: count, dtype: float64"
      ]
     },
     "execution_count": 26,
     "metadata": {},
     "output_type": "execute_result"
    }
   ],
   "source": [
    "# Describe the `predictions` series to see if there are any negative values\n",
    "predictions.describe()"
   ]
  },
  {
   "cell_type": "code",
   "execution_count": 27,
   "metadata": {},
   "outputs": [
    {
     "data": {
      "text/plain": [
       "3393   -6.922371\n",
       "5551   -1.402941\n",
       "Name: count, dtype: float32"
      ]
     },
     "execution_count": 27,
     "metadata": {},
     "output_type": "execute_result"
    }
   ],
   "source": [
    "# How many negative values do we have?\n",
    "predictions[predictions<0]"
   ]
  },
  {
   "cell_type": "code",
   "execution_count": 28,
   "metadata": {},
   "outputs": [],
   "source": [
    "# Set them to zero\n",
    "predictions[predictions<0] = 0"
   ]
  },
  {
   "cell_type": "markdown",
   "metadata": {},
   "source": [
    "### Set predictions to submission dataframe, save, and submit"
   ]
  },
  {
   "cell_type": "code",
   "execution_count": 30,
   "metadata": {},
   "outputs": [],
   "source": [
    "submission[\"count\"] = predictions\n",
    "submission.to_csv(\"submission.csv\", index=False)"
   ]
  },
  {
   "cell_type": "code",
   "execution_count": 31,
   "metadata": {},
   "outputs": [
    {
     "name": "stdout",
     "output_type": "stream",
     "text": [
      "100%|█████████████████████████████████████████| 188k/188k [00:00<00:00, 566kB/s]\n",
      "Successfully submitted to Bike Sharing Demand"
     ]
    }
   ],
   "source": [
    "!kaggle competitions submit -c bike-sharing-demand -f submission.csv -m \"first raw submission\""
   ]
  },
  {
   "cell_type": "markdown",
   "metadata": {},
   "source": [
    "#### View submission via the command line or in the web browser under the competition's page - `My Submissions`"
   ]
  },
  {
   "cell_type": "code",
   "execution_count": 33,
   "metadata": {},
   "outputs": [
    {
     "name": "stdout",
     "output_type": "stream",
     "text": [
      "fileName        date                 description           status    publicScore  privateScore  \n",
      "--------------  -------------------  --------------------  --------  -----------  ------------  \n",
      "submission.csv  2021-11-02 11:48:27  first raw submission  complete  1.39194      1.39194       \n"
     ]
    }
   ],
   "source": [
    "!kaggle competitions submissions -c bike-sharing-demand | tail -n +1 | head -n 6"
   ]
  },
  {
   "cell_type": "markdown",
   "metadata": {},
   "source": [
    "New Score of `1.39194`"
   ]
  },
  {
   "cell_type": "markdown",
   "metadata": {},
   "source": [
    "## Step 4: Exploratory Data Analysis and Creating an additional feature\n",
    "* Any additional feature will do, but a great suggestion would be to separate out the datetime into hour, day, or month parts."
   ]
  },
  {
   "cell_type": "code",
   "execution_count": 43,
   "metadata": {},
   "outputs": [
    {
     "data": {
      "image/png": "[encoded data removed]",
      "text/plain": [
       "<Figure size 1224x720 with 12 Axes>"
      ]
     },
     "metadata": {
      "needs_background": "light"
     },
     "output_type": "display_data"
    }
   ],
   "source": [
    "# Create a histogram of all features to show the distribution of each one relative to the data. This is part of the exploritory data analysis\n",
    "import matplotlib.pyplot as plt\n",
    "train.hist(figsize = (17,10),color='purple',edgecolor='black')\n",
    "plt.show()"
   ]
  },
  {
   "cell_type": "markdown",
   "metadata": {},
   "source": [
    "We can see that we have a date column. Hence we can derive the following features from it\n",
    "- year\n",
    "- month\n",
    "- day\n",
    "- hour"
   ]
  },
  {
   "cell_type": "code",
   "execution_count": 45,
   "metadata": {},
   "outputs": [],
   "source": [
    "# create features for training data\n",
    "train['year'] = train['datetime'].dt.year\n",
    "train['month'] = train['datetime'].dt.month\n",
    "train['day'] = train['datetime'].dt.day\n",
    "train['hour'] = train['datetime'].dt.hour\n",
    "\n",
    "\n",
    "test['year'] = test['datetime'].dt.year\n",
    "test['month'] = test['datetime'].dt.month\n",
    "test['day'] = test['datetime'].dt.day\n",
    "test['hour'] = test['datetime'].dt.hour"
   ]
  },
  {
   "cell_type": "markdown",
   "metadata": {},
   "source": [
    "## Make category types for these so models know they are not just numbers\n",
    "* AutoGluon originally sees these as ints, but in reality they are int representations of a category.\n",
    "* Setting the dtype to category will classify these as categories in AutoGluon."
   ]
  },
  {
   "cell_type": "code",
   "execution_count": 47,
   "metadata": {},
   "outputs": [],
   "source": [
    "train[\"season\"] = train[\"season\"].astype(\"category\")\n",
    "train[\"weather\"] = train[\"weather\"].astype(\"category\")\n",
    "test[\"season\"] = test[\"season\"].astype(\"category\")\n",
    "test[\"weather\"] = test[\"weather\"].astype(\"category\")"
   ]
  },
  {
   "cell_type": "code",
   "execution_count": 48,
   "metadata": {},
   "outputs": [
    {
     "data": {
      "text/html": [
       "<div>\n",
       "<style scoped>\n",
       "    .dataframe tbody tr th:only-of-type {\n",
       "        vertical-align: middle;\n",
       "    }\n",
       "\n",
       "    .dataframe tbody tr th {\n",
       "        vertical-align: top;\n",
       "    }\n",
       "\n",
       "    .dataframe thead th {\n",
       "        text-align: right;\n",
       "    }\n",
       "</style>\n",
       "<table border=\"1\" class=\"dataframe\">\n",
       "  <thead>\n",
       "    <tr style=\"text-align: right;\">\n",
       "      <th></th>\n",
       "      <th>datetime</th>\n",
       "      <th>season</th>\n",
       "      <th>holiday</th>\n",
       "      <th>workingday</th>\n",
       "      <th>weather</th>\n",
       "      <th>temp</th>\n",
       "      <th>atemp</th>\n",
       "      <th>humidity</th>\n",
       "      <th>windspeed</th>\n",
       "      <th>casual</th>\n",
       "      <th>registered</th>\n",
       "      <th>count</th>\n",
       "      <th>year</th>\n",
       "      <th>month</th>\n",
       "      <th>day</th>\n",
       "      <th>hour</th>\n",
       "    </tr>\n",
       "  </thead>\n",
       "  <tbody>\n",
       "    <tr>\n",
       "      <th>0</th>\n",
       "      <td>2011-01-01 00:00:00</td>\n",
       "      <td>1</td>\n",
       "      <td>0</td>\n",
       "      <td>0</td>\n",
       "      <td>1</td>\n",
       "      <td>9.84</td>\n",
       "      <td>14.395</td>\n",
       "      <td>81</td>\n",
       "      <td>0.0</td>\n",
       "      <td>3</td>\n",
       "      <td>13</td>\n",
       "      <td>16</td>\n",
       "      <td>2011</td>\n",
       "      <td>1</td>\n",
       "      <td>1</td>\n",
       "      <td>0</td>\n",
       "    </tr>\n",
       "    <tr>\n",
       "      <th>1</th>\n",
       "      <td>2011-01-01 01:00:00</td>\n",
       "      <td>1</td>\n",
       "      <td>0</td>\n",
       "      <td>0</td>\n",
       "      <td>1</td>\n",
       "      <td>9.02</td>\n",
       "      <td>13.635</td>\n",
       "      <td>80</td>\n",
       "      <td>0.0</td>\n",
       "      <td>8</td>\n",
       "      <td>32</td>\n",
       "      <td>40</td>\n",
       "      <td>2011</td>\n",
       "      <td>1</td>\n",
       "      <td>1</td>\n",
       "      <td>1</td>\n",
       "    </tr>\n",
       "    <tr>\n",
       "      <th>2</th>\n",
       "      <td>2011-01-01 02:00:00</td>\n",
       "      <td>1</td>\n",
       "      <td>0</td>\n",
       "      <td>0</td>\n",
       "      <td>1</td>\n",
       "      <td>9.02</td>\n",
       "      <td>13.635</td>\n",
       "      <td>80</td>\n",
       "      <td>0.0</td>\n",
       "      <td>5</td>\n",
       "      <td>27</td>\n",
       "      <td>32</td>\n",
       "      <td>2011</td>\n",
       "      <td>1</td>\n",
       "      <td>1</td>\n",
       "      <td>2</td>\n",
       "    </tr>\n",
       "    <tr>\n",
       "      <th>3</th>\n",
       "      <td>2011-01-01 03:00:00</td>\n",
       "      <td>1</td>\n",
       "      <td>0</td>\n",
       "      <td>0</td>\n",
       "      <td>1</td>\n",
       "      <td>9.84</td>\n",
       "      <td>14.395</td>\n",
       "      <td>75</td>\n",
       "      <td>0.0</td>\n",
       "      <td>3</td>\n",
       "      <td>10</td>\n",
       "      <td>13</td>\n",
       "      <td>2011</td>\n",
       "      <td>1</td>\n",
       "      <td>1</td>\n",
       "      <td>3</td>\n",
       "    </tr>\n",
       "    <tr>\n",
       "      <th>4</th>\n",
       "      <td>2011-01-01 04:00:00</td>\n",
       "      <td>1</td>\n",
       "      <td>0</td>\n",
       "      <td>0</td>\n",
       "      <td>1</td>\n",
       "      <td>9.84</td>\n",
       "      <td>14.395</td>\n",
       "      <td>75</td>\n",
       "      <td>0.0</td>\n",
       "      <td>0</td>\n",
       "      <td>1</td>\n",
       "      <td>1</td>\n",
       "      <td>2011</td>\n",
       "      <td>1</td>\n",
       "      <td>1</td>\n",
       "      <td>4</td>\n",
       "    </tr>\n",
       "  </tbody>\n",
       "</table>\n",
       "</div>"
      ],
      "text/plain": [
       "             datetime season  holiday  workingday weather  temp   atemp  \\\n",
       "0 2011-01-01 00:00:00      1        0           0       1  9.84  14.395   \n",
       "1 2011-01-01 01:00:00      1        0           0       1  9.02  13.635   \n",
       "2 2011-01-01 02:00:00      1        0           0       1  9.02  13.635   \n",
       "3 2011-01-01 03:00:00      1        0           0       1  9.84  14.395   \n",
       "4 2011-01-01 04:00:00      1        0           0       1  9.84  14.395   \n",
       "\n",
       "   humidity  windspeed  casual  registered  count  year  month  day  hour  \n",
       "0        81        0.0       3          13     16  2011      1    1     0  \n",
       "1        80        0.0       8          32     40  2011      1    1     1  \n",
       "2        80        0.0       5          27     32  2011      1    1     2  \n",
       "3        75        0.0       3          10     13  2011      1    1     3  \n",
       "4        75        0.0       0           1      1  2011      1    1     4  "
      ]
     },
     "execution_count": 48,
     "metadata": {},
     "output_type": "execute_result"
    }
   ],
   "source": [
    "train.head()"
   ]
  },
  {
   "cell_type": "code",
   "execution_count": 49,
   "metadata": {},
   "outputs": [
    {
     "data": {
      "image/png": "[encoded data removed]",
      "text/plain": [
       "<Figure size 1224x720 with 16 Axes>"
      ]
     },
     "metadata": {
      "needs_background": "light"
     },
     "output_type": "display_data"
    }
   ],
   "source": [
    "# Create a histogram of all features to show the distribution of each one relative to the data. This is part of the exploritory data analysis\n",
    "import matplotlib.pyplot as plt\n",
    "train.hist(figsize = (17,10),color='purple',edgecolor='black')\n",
    "plt.show()"
   ]
  },
  {
   "cell_type": "code",
   "execution_count": 50,
   "metadata": {},
   "outputs": [
    {
     "name": "stdout",
     "output_type": "stream",
     "text": [
      "<class 'pandas.core.frame.DataFrame'>\n",
      "RangeIndex: 10886 entries, 0 to 10885\n",
      "Data columns (total 16 columns):\n",
      " #   Column      Non-Null Count  Dtype         \n",
      "---  ------      --------------  -----         \n",
      " 0   datetime    10886 non-null  datetime64[ns]\n",
      " 1   season      10886 non-null  category      \n",
      " 2   holiday     10886 non-null  int64         \n",
      " 3   workingday  10886 non-null  int64         \n",
      " 4   weather     10886 non-null  category      \n",
      " 5   temp        10886 non-null  float64       \n",
      " 6   atemp       10886 non-null  float64       \n",
      " 7   humidity    10886 non-null  int64         \n",
      " 8   windspeed   10886 non-null  float64       \n",
      " 9   casual      10886 non-null  int64         \n",
      " 10  registered  10886 non-null  int64         \n",
      " 11  count       10886 non-null  int64         \n",
      " 12  year        10886 non-null  int64         \n",
      " 13  month       10886 non-null  int64         \n",
      " 14  day         10886 non-null  int64         \n",
      " 15  hour        10886 non-null  int64         \n",
      "dtypes: category(2), datetime64[ns](1), float64(3), int64(10)\n",
      "memory usage: 1.2 MB\n"
     ]
    }
   ],
   "source": [
    "train.info()"
   ]
  },
  {
   "cell_type": "markdown",
   "metadata": {},
   "source": [
    "## Step 5: Rerun the model with the same settings as before, just with more features"
   ]
  },
  {
   "cell_type": "code",
   "execution_count": 51,
   "metadata": {},
   "outputs": [
    {
     "name": "stderr",
     "output_type": "stream",
     "text": [
      "No path specified. Models will be saved in: \"AutogluonModels/ag-20211102_122150/\"\n",
      "Presets specified: ['best_quality']\n",
      "Beginning AutoGluon training ... Time limit = 600s\n",
      "AutoGluon will save models to \"AutogluonModels/ag-20211102_122150/\"\n",
      "AutoGluon Version:  0.3.1\n",
      "Train Data Rows:    10886\n",
      "Train Data Columns: 15\n",
      "Preprocessing data ...\n",
      "AutoGluon infers your prediction problem is: 'regression' (because dtype of label-column == int and many unique label-values observed).\n",
      "\tLabel info (max, min, mean, stddev): (977, 1, 191.57413, 181.14445)\n",
      "\tIf 'regression' is not the correct problem_type, please manually specify the problem_type argument in fit() (You may specify problem_type as one of: ['binary', 'multiclass', 'regression'])\n",
      "Using Feature Generators to preprocess the data ...\n",
      "Dropping user-specified ignored columns: ['casual', 'registered']\n",
      "Fitting AutoMLPipelineFeatureGenerator...\n",
      "\tAvailable Memory:                    2206.11 MB\n",
      "\tTrain Data (Original)  Memory Usage: 0.98 MB (0.0% of available memory)\n",
      "\tInferring data type of each feature based on column values. Set feature_metadata_in to manually specify special dtypes of the features.\n",
      "\tStage 1 Generators:\n",
      "\t\tFitting AsTypeFeatureGenerator...\n",
      "\t\t\tNote: Converting 3 features to boolean dtype as they only contain 2 unique values.\n",
      "\tStage 2 Generators:\n",
      "\t\tFitting FillNaFeatureGenerator...\n",
      "\tStage 3 Generators:\n",
      "\t\tFitting IdentityFeatureGenerator...\n",
      "\t\tFitting CategoryFeatureGenerator...\n",
      "\t\t\tFitting CategoryMemoryMinimizeFeatureGenerator...\n",
      "\t\tFitting DatetimeFeatureGenerator...\n",
      "\tStage 4 Generators:\n",
      "\t\tFitting DropUniqueFeatureGenerator...\n",
      "\tTypes of features in original data (raw dtype, special dtypes):\n",
      "\t\t('category', []) : 2 | ['season', 'weather']\n",
      "\t\t('datetime', []) : 1 | ['datetime']\n",
      "\t\t('float', [])    : 3 | ['temp', 'atemp', 'windspeed']\n",
      "\t\t('int', [])      : 7 | ['holiday', 'workingday', 'humidity', 'year', 'month', ...]\n",
      "\tTypes of features in processed data (raw dtype, special dtypes):\n",
      "\t\t('category', [])             : 2 | ['season', 'weather']\n",
      "\t\t('float', [])                : 3 | ['temp', 'atemp', 'windspeed']\n",
      "\t\t('int', [])                  : 4 | ['humidity', 'month', 'day', 'hour']\n",
      "\t\t('int', ['bool'])            : 3 | ['holiday', 'workingday', 'year']\n",
      "\t\t('int', ['datetime_as_int']) : 1 | ['datetime']\n",
      "\t0.2s = Fit runtime\n",
      "\t13 features in original data used to generate 13 features in processed data.\n",
      "\tTrain Data (Processed) Memory Usage: 0.75 MB (0.0% of available memory)\n",
      "Data preprocessing and feature engineering runtime = 0.25s ...\n",
      "AutoGluon will gauge predictive performance using evaluation metric: 'root_mean_squared_error'\n",
      "\tTo change this, specify the eval_metric argument of fit()\n",
      "AutoGluon will fit 2 stack levels (L1 to L2) ...\n",
      "Fitting 11 L1 models ...\n",
      "Fitting model: KNeighborsUnif_BAG_L1 ... Training model for up to 399.73s of the 599.75s of remaining time.\n",
      "\t-123.9216\t = Validation score   (root_mean_squared_error)\n",
      "\t0.03s\t = Training   runtime\n",
      "\t0.2s\t = Validation runtime\n",
      "Fitting model: KNeighborsDist_BAG_L1 ... Training model for up to 399.25s of the 599.26s of remaining time.\n",
      "\t-119.3726\t = Validation score   (root_mean_squared_error)\n",
      "\t0.03s\t = Training   runtime\n",
      "\t0.2s\t = Validation runtime\n",
      "Fitting model: LightGBMXT_BAG_L1 ... Training model for up to 398.77s of the 598.79s of remaining time.\n",
      "/usr/local/lib/python3.7/site-packages/lightgbm/engine.py:239: UserWarning: 'verbose_eval' argument is deprecated and will be removed in a future release of LightGBM. Pass 'log_evaluation()' callback via 'callbacks' argument instead.\n",
      "  _log_warning(\"'verbose_eval' argument is deprecated and will be removed in a future release of LightGBM. \"\n"
     ]
    },
    {
     "name": "stdout",
     "output_type": "stream",
     "text": [
      "[1000]\ttrain_set's rmse: 30.8186\tvalid_set's rmse: 38.4291\n",
      "[2000]\ttrain_set's rmse: 25.4239\tvalid_set's rmse: 36.1393\n",
      "[3000]\ttrain_set's rmse: 22.5686\tvalid_set's rmse: 35.6903\n",
      "[4000]\ttrain_set's rmse: 20.5877\tvalid_set's rmse: 35.5711\n",
      "[5000]\ttrain_set's rmse: 19.0435\tvalid_set's rmse: 35.5486\n"
     ]
    },
    {
     "name": "stderr",
     "output_type": "stream",
     "text": [
      "/usr/local/lib/python3.7/site-packages/lightgbm/engine.py:239: UserWarning: 'verbose_eval' argument is deprecated and will be removed in a future release of LightGBM. Pass 'log_evaluation()' callback via 'callbacks' argument instead.\n",
      "  _log_warning(\"'verbose_eval' argument is deprecated and will be removed in a future release of LightGBM. \"\n"
     ]
    },
    {
     "name": "stdout",
     "output_type": "stream",
     "text": [
      "[1000]\ttrain_set's rmse: 30.3019\tvalid_set's rmse: 41.0917\n",
      "[2000]\ttrain_set's rmse: 25.4089\tvalid_set's rmse: 38.7923\n",
      "[3000]\ttrain_set's rmse: 22.682\tvalid_set's rmse: 38.0445\n",
      "[4000]\ttrain_set's rmse: 20.7477\tvalid_set's rmse: 37.6701\n",
      "[5000]\ttrain_set's rmse: 19.2301\tvalid_set's rmse: 37.5143\n",
      "[6000]\ttrain_set's rmse: 18.0161\tvalid_set's rmse: 37.3559\n",
      "[7000]\ttrain_set's rmse: 16.9715\tvalid_set's rmse: 37.2906\n",
      "[8000]\ttrain_set's rmse: 16.0611\tvalid_set's rmse: 37.2206\n",
      "[9000]\ttrain_set's rmse: 15.2683\tvalid_set's rmse: 37.1952\n",
      "[10000]\ttrain_set's rmse: 14.5678\tvalid_set's rmse: 37.1924\n"
     ]
    },
    {
     "name": "stderr",
     "output_type": "stream",
     "text": [
      "/usr/local/lib/python3.7/site-packages/lightgbm/engine.py:239: UserWarning: 'verbose_eval' argument is deprecated and will be removed in a future release of LightGBM. Pass 'log_evaluation()' callback via 'callbacks' argument instead.\n",
      "  _log_warning(\"'verbose_eval' argument is deprecated and will be removed in a future release of LightGBM. \"\n"
     ]
    },
    {
     "name": "stdout",
     "output_type": "stream",
     "text": [
      "[1000]\ttrain_set's rmse: 30.8968\tvalid_set's rmse: 35.5721\n",
      "[2000]\ttrain_set's rmse: 25.8631\tvalid_set's rmse: 34.288\n",
      "[3000]\ttrain_set's rmse: 23.0637\tvalid_set's rmse: 34.1613\n"
     ]
    },
    {
     "name": "stderr",
     "output_type": "stream",
     "text": [
      "/usr/local/lib/python3.7/site-packages/lightgbm/engine.py:239: UserWarning: 'verbose_eval' argument is deprecated and will be removed in a future release of LightGBM. Pass 'log_evaluation()' callback via 'callbacks' argument instead.\n",
      "  _log_warning(\"'verbose_eval' argument is deprecated and will be removed in a future release of LightGBM. \"\n"
     ]
    },
    {
     "name": "stdout",
     "output_type": "stream",
     "text": [
      "[1000]\ttrain_set's rmse: 30.1963\tvalid_set's rmse: 41.0073\n",
      "[2000]\ttrain_set's rmse: 25.1657\tvalid_set's rmse: 39.5208\n",
      "[3000]\ttrain_set's rmse: 22.4714\tvalid_set's rmse: 38.891\n",
      "[4000]\ttrain_set's rmse: 20.6602\tvalid_set's rmse: 38.6141\n",
      "[5000]\ttrain_set's rmse: 19.2024\tvalid_set's rmse: 38.3924\n",
      "[6000]\ttrain_set's rmse: 18.0244\tvalid_set's rmse: 38.232\n",
      "[7000]\ttrain_set's rmse: 16.9892\tvalid_set's rmse: 38.0679\n",
      "[8000]\ttrain_set's rmse: 16.0734\tvalid_set's rmse: 37.9926\n",
      "[9000]\ttrain_set's rmse: 15.292\tvalid_set's rmse: 37.9346\n",
      "[10000]\ttrain_set's rmse: 14.5874\tvalid_set's rmse: 37.8583\n"
     ]
    },
    {
     "name": "stderr",
     "output_type": "stream",
     "text": [
      "/usr/local/lib/python3.7/site-packages/lightgbm/engine.py:239: UserWarning: 'verbose_eval' argument is deprecated and will be removed in a future release of LightGBM. Pass 'log_evaluation()' callback via 'callbacks' argument instead.\n",
      "  _log_warning(\"'verbose_eval' argument is deprecated and will be removed in a future release of LightGBM. \"\n"
     ]
    },
    {
     "name": "stdout",
     "output_type": "stream",
     "text": [
      "[1000]\ttrain_set's rmse: 30.7161\tvalid_set's rmse: 38.2675\n",
      "[2000]\ttrain_set's rmse: 25.5034\tvalid_set's rmse: 36.7964\n",
      "[3000]\ttrain_set's rmse: 22.7183\tvalid_set's rmse: 36.6083\n"
     ]
    },
    {
     "name": "stderr",
     "output_type": "stream",
     "text": [
      "/usr/local/lib/python3.7/site-packages/lightgbm/engine.py:239: UserWarning: 'verbose_eval' argument is deprecated and will be removed in a future release of LightGBM. Pass 'log_evaluation()' callback via 'callbacks' argument instead.\n",
      "  _log_warning(\"'verbose_eval' argument is deprecated and will be removed in a future release of LightGBM. \"\n"
     ]
    },
    {
     "name": "stdout",
     "output_type": "stream",
     "text": [
      "[1000]\ttrain_set's rmse: 30.3783\tvalid_set's rmse: 42.1922\n",
      "[2000]\ttrain_set's rmse: 25.4027\tvalid_set's rmse: 40.825\n",
      "[3000]\ttrain_set's rmse: 22.6044\tvalid_set's rmse: 40.6565\n",
      "[4000]\ttrain_set's rmse: 20.6399\tvalid_set's rmse: 40.551\n"
     ]
    },
    {
     "name": "stderr",
     "output_type": "stream",
     "text": [
      "/usr/local/lib/python3.7/site-packages/lightgbm/engine.py:239: UserWarning: 'verbose_eval' argument is deprecated and will be removed in a future release of LightGBM. Pass 'log_evaluation()' callback via 'callbacks' argument instead.\n",
      "  _log_warning(\"'verbose_eval' argument is deprecated and will be removed in a future release of LightGBM. \"\n"
     ]
    },
    {
     "name": "stdout",
     "output_type": "stream",
     "text": [
      "[1000]\ttrain_set's rmse: 30.6785\tvalid_set's rmse: 38.6888\n",
      "[2000]\ttrain_set's rmse: 25.6628\tvalid_set's rmse: 35.913\n",
      "[3000]\ttrain_set's rmse: 22.8607\tvalid_set's rmse: 35.0407\n",
      "[4000]\ttrain_set's rmse: 20.8954\tvalid_set's rmse: 34.7444\n",
      "[5000]\ttrain_set's rmse: 19.3693\tvalid_set's rmse: 34.6106\n",
      "[6000]\ttrain_set's rmse: 18.0937\tvalid_set's rmse: 34.5086\n",
      "[7000]\ttrain_set's rmse: 17.0039\tvalid_set's rmse: 34.5219\n"
     ]
    },
    {
     "name": "stderr",
     "output_type": "stream",
     "text": [
      "/usr/local/lib/python3.7/site-packages/lightgbm/engine.py:239: UserWarning: 'verbose_eval' argument is deprecated and will be removed in a future release of LightGBM. Pass 'log_evaluation()' callback via 'callbacks' argument instead.\n",
      "  _log_warning(\"'verbose_eval' argument is deprecated and will be removed in a future release of LightGBM. \"\n"
     ]
    },
    {
     "name": "stdout",
     "output_type": "stream",
     "text": [
      "[1000]\ttrain_set's rmse: 30.7847\tvalid_set's rmse: 40.0936\n",
      "[2000]\ttrain_set's rmse: 25.4609\tvalid_set's rmse: 38.335\n",
      "[3000]\ttrain_set's rmse: 22.6799\tvalid_set's rmse: 37.7931\n",
      "[4000]\ttrain_set's rmse: 20.8023\tvalid_set's rmse: 37.6372\n",
      "[5000]\ttrain_set's rmse: 19.2946\tvalid_set's rmse: 37.4755\n",
      "[6000]\ttrain_set's rmse: 18.0187\tvalid_set's rmse: 37.3536\n",
      "[7000]\ttrain_set's rmse: 16.9566\tvalid_set's rmse: 37.3147\n",
      "[8000]\ttrain_set's rmse: 16.0353\tvalid_set's rmse: 37.2951\n",
      "[9000]\ttrain_set's rmse: 15.2295\tvalid_set's rmse: 37.2903\n",
      "[10000]\ttrain_set's rmse: 14.5042\tvalid_set's rmse: 37.3442\n"
     ]
    },
    {
     "name": "stderr",
     "output_type": "stream",
     "text": [
      "/usr/local/lib/python3.7/site-packages/lightgbm/engine.py:239: UserWarning: 'verbose_eval' argument is deprecated and will be removed in a future release of LightGBM. Pass 'log_evaluation()' callback via 'callbacks' argument instead.\n",
      "  _log_warning(\"'verbose_eval' argument is deprecated and will be removed in a future release of LightGBM. \"\n"
     ]
    },
    {
     "name": "stdout",
     "output_type": "stream",
     "text": [
      "[1000]\ttrain_set's rmse: 30.2598\tvalid_set's rmse: 40.7273\n",
      "[2000]\ttrain_set's rmse: 25.2682\tvalid_set's rmse: 39.8782\n",
      "[3000]\ttrain_set's rmse: 22.5407\tvalid_set's rmse: 39.8429\n"
     ]
    },
    {
     "name": "stderr",
     "output_type": "stream",
     "text": [
      "/usr/local/lib/python3.7/site-packages/lightgbm/engine.py:239: UserWarning: 'verbose_eval' argument is deprecated and will be removed in a future release of LightGBM. Pass 'log_evaluation()' callback via 'callbacks' argument instead.\n",
      "  _log_warning(\"'verbose_eval' argument is deprecated and will be removed in a future release of LightGBM. \"\n"
     ]
    },
    {
     "name": "stdout",
     "output_type": "stream",
     "text": [
      "[1000]\ttrain_set's rmse: 31.0398\tvalid_set's rmse: 37.6854\n",
      "[2000]\ttrain_set's rmse: 25.8317\tvalid_set's rmse: 35.4668\n",
      "[3000]\ttrain_set's rmse: 23.0887\tvalid_set's rmse: 34.8136\n",
      "[4000]\ttrain_set's rmse: 21.1229\tvalid_set's rmse: 34.5371\n",
      "[5000]\ttrain_set's rmse: 19.5767\tvalid_set's rmse: 34.3685\n",
      "[6000]\ttrain_set's rmse: 18.3516\tvalid_set's rmse: 34.2276\n",
      "[7000]\ttrain_set's rmse: 17.2755\tvalid_set's rmse: 34.2726\n"
     ]
    },
    {
     "name": "stderr",
     "output_type": "stream",
     "text": [
      "\t-36.8251\t = Validation score   (root_mean_squared_error)\n",
      "\t94.2s\t = Training   runtime\n",
      "\t5.46s\t = Validation runtime\n",
      "Fitting model: LightGBM_BAG_L1 ... Training model for up to 288.05s of the 488.06s of remaining time.\n",
      "/usr/local/lib/python3.7/site-packages/lightgbm/engine.py:239: UserWarning: 'verbose_eval' argument is deprecated and will be removed in a future release of LightGBM. Pass 'log_evaluation()' callback via 'callbacks' argument instead.\n",
      "  _log_warning(\"'verbose_eval' argument is deprecated and will be removed in a future release of LightGBM. \"\n"
     ]
    },
    {
     "name": "stdout",
     "output_type": "stream",
     "text": [
      "[1000]\ttrain_set's rmse: 21.1363\tvalid_set's rmse: 35.556\n",
      "[2000]\ttrain_set's rmse: 15.5229\tvalid_set's rmse: 35.4489\n"
     ]
    },
    {
     "name": "stderr",
     "output_type": "stream",
     "text": [
      "/usr/local/lib/python3.7/site-packages/lightgbm/engine.py:239: UserWarning: 'verbose_eval' argument is deprecated and will be removed in a future release of LightGBM. Pass 'log_evaluation()' callback via 'callbacks' argument instead.\n",
      "  _log_warning(\"'verbose_eval' argument is deprecated and will be removed in a future release of LightGBM. \"\n"
     ]
    },
    {
     "name": "stdout",
     "output_type": "stream",
     "text": [
      "[1000]\ttrain_set's rmse: 21.0431\tvalid_set's rmse: 36.9388\n",
      "[2000]\ttrain_set's rmse: 15.5393\tvalid_set's rmse: 36.1223\n",
      "[3000]\ttrain_set's rmse: 12.2068\tvalid_set's rmse: 35.9677\n",
      "[4000]\ttrain_set's rmse: 9.97753\tvalid_set's rmse: 35.9639\n"
     ]
    },
    {
     "name": "stderr",
     "output_type": "stream",
     "text": [
      "/usr/local/lib/python3.7/site-packages/lightgbm/engine.py:239: UserWarning: 'verbose_eval' argument is deprecated and will be removed in a future release of LightGBM. Pass 'log_evaluation()' callback via 'callbacks' argument instead.\n",
      "  _log_warning(\"'verbose_eval' argument is deprecated and will be removed in a future release of LightGBM. \"\n"
     ]
    },
    {
     "name": "stdout",
     "output_type": "stream",
     "text": [
      "[1000]\ttrain_set's rmse: 21.4253\tvalid_set's rmse: 33.0295\n"
     ]
    },
    {
     "name": "stderr",
     "output_type": "stream",
     "text": [
      "/usr/local/lib/python3.7/site-packages/lightgbm/engine.py:239: UserWarning: 'verbose_eval' argument is deprecated and will be removed in a future release of LightGBM. Pass 'log_evaluation()' callback via 'callbacks' argument instead.\n",
      "  _log_warning(\"'verbose_eval' argument is deprecated and will be removed in a future release of LightGBM. \"\n"
     ]
    },
    {
     "name": "stdout",
     "output_type": "stream",
     "text": [
      "[1000]\ttrain_set's rmse: 21.4591\tvalid_set's rmse: 38.0987\n",
      "[2000]\ttrain_set's rmse: 15.6967\tvalid_set's rmse: 37.1129\n",
      "[3000]\ttrain_set's rmse: 12.2044\tvalid_set's rmse: 36.7212\n",
      "[4000]\ttrain_set's rmse: 9.95476\tvalid_set's rmse: 36.6786\n"
     ]
    },
    {
     "name": "stderr",
     "output_type": "stream",
     "text": [
      "/usr/local/lib/python3.7/site-packages/lightgbm/engine.py:239: UserWarning: 'verbose_eval' argument is deprecated and will be removed in a future release of LightGBM. Pass 'log_evaluation()' callback via 'callbacks' argument instead.\n",
      "  _log_warning(\"'verbose_eval' argument is deprecated and will be removed in a future release of LightGBM. \"\n"
     ]
    },
    {
     "name": "stdout",
     "output_type": "stream",
     "text": [
      "[1000]\ttrain_set's rmse: 21.43\tvalid_set's rmse: 37.371\n",
      "[2000]\ttrain_set's rmse: 15.5136\tvalid_set's rmse: 36.986\n"
     ]
    },
    {
     "name": "stderr",
     "output_type": "stream",
     "text": [
      "/usr/local/lib/python3.7/site-packages/lightgbm/engine.py:239: UserWarning: 'verbose_eval' argument is deprecated and will be removed in a future release of LightGBM. Pass 'log_evaluation()' callback via 'callbacks' argument instead.\n",
      "  _log_warning(\"'verbose_eval' argument is deprecated and will be removed in a future release of LightGBM. \"\n",
      "/usr/local/lib/python3.7/site-packages/lightgbm/engine.py:239: UserWarning: 'verbose_eval' argument is deprecated and will be removed in a future release of LightGBM. Pass 'log_evaluation()' callback via 'callbacks' argument instead.\n",
      "  _log_warning(\"'verbose_eval' argument is deprecated and will be removed in a future release of LightGBM. \"\n"
     ]
    },
    {
     "name": "stdout",
     "output_type": "stream",
     "text": [
      "[1000]\ttrain_set's rmse: 21.6619\tvalid_set's rmse: 35.9541\n"
     ]
    },
    {
     "name": "stderr",
     "output_type": "stream",
     "text": [
      "/usr/local/lib/python3.7/site-packages/lightgbm/engine.py:239: UserWarning: 'verbose_eval' argument is deprecated and will be removed in a future release of LightGBM. Pass 'log_evaluation()' callback via 'callbacks' argument instead.\n",
      "  _log_warning(\"'verbose_eval' argument is deprecated and will be removed in a future release of LightGBM. \"\n"
     ]
    },
    {
     "name": "stdout",
     "output_type": "stream",
     "text": [
      "[1000]\ttrain_set's rmse: 21.0051\tvalid_set's rmse: 35.6024\n",
      "[2000]\ttrain_set's rmse: 15.4015\tvalid_set's rmse: 34.9824\n"
     ]
    },
    {
     "name": "stderr",
     "output_type": "stream",
     "text": [
      "/usr/local/lib/python3.7/site-packages/lightgbm/engine.py:239: UserWarning: 'verbose_eval' argument is deprecated and will be removed in a future release of LightGBM. Pass 'log_evaluation()' callback via 'callbacks' argument instead.\n",
      "  _log_warning(\"'verbose_eval' argument is deprecated and will be removed in a future release of LightGBM. \"\n",
      "/usr/local/lib/python3.7/site-packages/lightgbm/engine.py:239: UserWarning: 'verbose_eval' argument is deprecated and will be removed in a future release of LightGBM. Pass 'log_evaluation()' callback via 'callbacks' argument instead.\n",
      "  _log_warning(\"'verbose_eval' argument is deprecated and will be removed in a future release of LightGBM. \"\n"
     ]
    },
    {
     "name": "stdout",
     "output_type": "stream",
     "text": [
      "[1000]\ttrain_set's rmse: 21.3287\tvalid_set's rmse: 36.3245\n",
      "[2000]\ttrain_set's rmse: 15.6834\tvalid_set's rmse: 35.8282\n",
      "[3000]\ttrain_set's rmse: 12.2992\tvalid_set's rmse: 35.5694\n",
      "[4000]\ttrain_set's rmse: 10.1773\tvalid_set's rmse: 35.5318\n"
     ]
    },
    {
     "name": "stderr",
     "output_type": "stream",
     "text": [
      "\t-36.5863\t = Validation score   (root_mean_squared_error)\n",
      "\t34.95s\t = Training   runtime\n",
      "\t1.4s\t = Validation runtime\n",
      "Fitting model: RandomForestMSE_BAG_L1 ... Training model for up to 247.46s of the 447.47s of remaining time.\n",
      "\t-41.3243\t = Validation score   (root_mean_squared_error)\n",
      "\t9.78s\t = Training   runtime\n",
      "\t0.41s\t = Validation runtime\n",
      "Fitting model: CatBoost_BAG_L1 ... Training model for up to 234.87s of the 434.88s of remaining time.\n",
      "\tTime limit exceeded... Skipping CatBoost_BAG_L1.\n",
      "Fitting model: ExtraTreesMSE_BAG_L1 ... Training model for up to 181.82s of the 381.83s of remaining time.\n",
      "\t-41.0311\t = Validation score   (root_mean_squared_error)\n",
      "\t3.97s\t = Training   runtime\n",
      "\t0.4s\t = Validation runtime\n",
      "Fitting model: NeuralNetFastAI_BAG_L1 ... Training model for up to 174.85s of the 374.87s of remaining time.\n",
      "\tRan out of time, stopping training early. (Stopping on epoch 27)\n",
      "\tRan out of time, stopping training early. (Stopping on epoch 28)\n",
      "\tRan out of time, stopping training early. (Stopping on epoch 28)\n",
      "\t-45.9907\t = Validation score   (root_mean_squared_error)\n",
      "\t144.52s\t = Training   runtime\n",
      "\t0.4s\t = Validation runtime\n",
      "Fitting model: XGBoost_BAG_L1 ... Training model for up to 29.04s of the 229.06s of remaining time.\n",
      "\tTime limit exceeded... Skipping XGBoost_BAG_L1.\n",
      "Fitting model: NeuralNetMXNet_BAG_L1 ... Training model for up to 26.08s of the 226.09s of remaining time.\n",
      "\tRan out of time, stopping training early. (Stopping on epoch 0)\n",
      "\tRan out of time, stopping training early. (Stopping on epoch 0)\n",
      "\tRan out of time, stopping training early. (Stopping on epoch 0)\n",
      "\tRan out of time, stopping training early. (Stopping on epoch 0)\n",
      "\tRan out of time, stopping training early. (Stopping on epoch 0)\n",
      "\tRan out of time, stopping training early. (Stopping on epoch 1)\n",
      "\tRan out of time, stopping training early. (Stopping on epoch 1)\n",
      "\tRan out of time, stopping training early. (Stopping on epoch 1)\n",
      "\tRan out of time, stopping training early. (Stopping on epoch 1)\n",
      "\tRan out of time, stopping training early. (Stopping on epoch 1)\n",
      "\t-262.8457\t = Validation score   (root_mean_squared_error)\n",
      "\t21.9s\t = Training   runtime\n",
      "\t2.12s\t = Validation runtime\n",
      "Fitting model: LightGBMLarge_BAG_L1 ... Training model for up to 1.45s of the 201.46s of remaining time.\n",
      "/usr/local/lib/python3.7/site-packages/lightgbm/engine.py:239: UserWarning: 'verbose_eval' argument is deprecated and will be removed in a future release of LightGBM. Pass 'log_evaluation()' callback via 'callbacks' argument instead.\n",
      "  _log_warning(\"'verbose_eval' argument is deprecated and will be removed in a future release of LightGBM. \"\n",
      "\tRan out of time, early stopping on iteration 1. Best iteration is:\n",
      "\t[1]\ttrain_set's rmse: 176.305\tvalid_set's rmse: 174.668\n",
      "\tTime limit exceeded... Skipping LightGBMLarge_BAG_L1.\n",
      "Completed 1/20 k-fold bagging repeats ...\n",
      "Fitting model: WeightedEnsemble_L2 ... Training model for up to 360.0s of the 201.15s of remaining time.\n",
      "\t-35.3132\t = Validation score   (root_mean_squared_error)\n",
      "\t0.43s\t = Training   runtime\n",
      "\t0.0s\t = Validation runtime\n",
      "Fitting 9 L2 models ...\n",
      "Fitting model: LightGBMXT_BAG_L2 ... Training model for up to 200.63s of the 200.6s of remaining time.\n",
      "/usr/local/lib/python3.7/site-packages/lightgbm/engine.py:239: UserWarning: 'verbose_eval' argument is deprecated and will be removed in a future release of LightGBM. Pass 'log_evaluation()' callback via 'callbacks' argument instead.\n",
      "  _log_warning(\"'verbose_eval' argument is deprecated and will be removed in a future release of LightGBM. \"\n",
      "/usr/local/lib/python3.7/site-packages/lightgbm/engine.py:239: UserWarning: 'verbose_eval' argument is deprecated and will be removed in a future release of LightGBM. Pass 'log_evaluation()' callback via 'callbacks' argument instead.\n",
      "  _log_warning(\"'verbose_eval' argument is deprecated and will be removed in a future release of LightGBM. \"\n",
      "/usr/local/lib/python3.7/site-packages/lightgbm/engine.py:239: UserWarning: 'verbose_eval' argument is deprecated and will be removed in a future release of LightGBM. Pass 'log_evaluation()' callback via 'callbacks' argument instead.\n",
      "  _log_warning(\"'verbose_eval' argument is deprecated and will be removed in a future release of LightGBM. \"\n",
      "/usr/local/lib/python3.7/site-packages/lightgbm/engine.py:239: UserWarning: 'verbose_eval' argument is deprecated and will be removed in a future release of LightGBM. Pass 'log_evaluation()' callback via 'callbacks' argument instead.\n",
      "  _log_warning(\"'verbose_eval' argument is deprecated and will be removed in a future release of LightGBM. \"\n",
      "/usr/local/lib/python3.7/site-packages/lightgbm/engine.py:239: UserWarning: 'verbose_eval' argument is deprecated and will be removed in a future release of LightGBM. Pass 'log_evaluation()' callback via 'callbacks' argument instead.\n",
      "  _log_warning(\"'verbose_eval' argument is deprecated and will be removed in a future release of LightGBM. \"\n",
      "/usr/local/lib/python3.7/site-packages/lightgbm/engine.py:239: UserWarning: 'verbose_eval' argument is deprecated and will be removed in a future release of LightGBM. Pass 'log_evaluation()' callback via 'callbacks' argument instead.\n",
      "  _log_warning(\"'verbose_eval' argument is deprecated and will be removed in a future release of LightGBM. \"\n",
      "/usr/local/lib/python3.7/site-packages/lightgbm/engine.py:239: UserWarning: 'verbose_eval' argument is deprecated and will be removed in a future release of LightGBM. Pass 'log_evaluation()' callback via 'callbacks' argument instead.\n",
      "  _log_warning(\"'verbose_eval' argument is deprecated and will be removed in a future release of LightGBM. \"\n",
      "/usr/local/lib/python3.7/site-packages/lightgbm/engine.py:239: UserWarning: 'verbose_eval' argument is deprecated and will be removed in a future release of LightGBM. Pass 'log_evaluation()' callback via 'callbacks' argument instead.\n",
      "  _log_warning(\"'verbose_eval' argument is deprecated and will be removed in a future release of LightGBM. \"\n",
      "/usr/local/lib/python3.7/site-packages/lightgbm/engine.py:239: UserWarning: 'verbose_eval' argument is deprecated and will be removed in a future release of LightGBM. Pass 'log_evaluation()' callback via 'callbacks' argument instead.\n",
      "  _log_warning(\"'verbose_eval' argument is deprecated and will be removed in a future release of LightGBM. \"\n",
      "/usr/local/lib/python3.7/site-packages/lightgbm/engine.py:239: UserWarning: 'verbose_eval' argument is deprecated and will be removed in a future release of LightGBM. Pass 'log_evaluation()' callback via 'callbacks' argument instead.\n",
      "  _log_warning(\"'verbose_eval' argument is deprecated and will be removed in a future release of LightGBM. \"\n",
      "\t-36.4063\t = Validation score   (root_mean_squared_error)\n",
      "\t9.39s\t = Training   runtime\n",
      "\t0.21s\t = Validation runtime\n",
      "Fitting model: LightGBM_BAG_L2 ... Training model for up to 190.16s of the 190.13s of remaining time.\n",
      "/usr/local/lib/python3.7/site-packages/lightgbm/engine.py:239: UserWarning: 'verbose_eval' argument is deprecated and will be removed in a future release of LightGBM. Pass 'log_evaluation()' callback via 'callbacks' argument instead.\n",
      "  _log_warning(\"'verbose_eval' argument is deprecated and will be removed in a future release of LightGBM. \"\n",
      "/usr/local/lib/python3.7/site-packages/lightgbm/engine.py:239: UserWarning: 'verbose_eval' argument is deprecated and will be removed in a future release of LightGBM. Pass 'log_evaluation()' callback via 'callbacks' argument instead.\n",
      "  _log_warning(\"'verbose_eval' argument is deprecated and will be removed in a future release of LightGBM. \"\n",
      "/usr/local/lib/python3.7/site-packages/lightgbm/engine.py:239: UserWarning: 'verbose_eval' argument is deprecated and will be removed in a future release of LightGBM. Pass 'log_evaluation()' callback via 'callbacks' argument instead.\n",
      "  _log_warning(\"'verbose_eval' argument is deprecated and will be removed in a future release of LightGBM. \"\n",
      "/usr/local/lib/python3.7/site-packages/lightgbm/engine.py:239: UserWarning: 'verbose_eval' argument is deprecated and will be removed in a future release of LightGBM. Pass 'log_evaluation()' callback via 'callbacks' argument instead.\n",
      "  _log_warning(\"'verbose_eval' argument is deprecated and will be removed in a future release of LightGBM. \"\n",
      "/usr/local/lib/python3.7/site-packages/lightgbm/engine.py:239: UserWarning: 'verbose_eval' argument is deprecated and will be removed in a future release of LightGBM. Pass 'log_evaluation()' callback via 'callbacks' argument instead.\n",
      "  _log_warning(\"'verbose_eval' argument is deprecated and will be removed in a future release of LightGBM. \"\n",
      "/usr/local/lib/python3.7/site-packages/lightgbm/engine.py:239: UserWarning: 'verbose_eval' argument is deprecated and will be removed in a future release of LightGBM. Pass 'log_evaluation()' callback via 'callbacks' argument instead.\n",
      "  _log_warning(\"'verbose_eval' argument is deprecated and will be removed in a future release of LightGBM. \"\n",
      "/usr/local/lib/python3.7/site-packages/lightgbm/engine.py:239: UserWarning: 'verbose_eval' argument is deprecated and will be removed in a future release of LightGBM. Pass 'log_evaluation()' callback via 'callbacks' argument instead.\n",
      "  _log_warning(\"'verbose_eval' argument is deprecated and will be removed in a future release of LightGBM. \"\n",
      "/usr/local/lib/python3.7/site-packages/lightgbm/engine.py:239: UserWarning: 'verbose_eval' argument is deprecated and will be removed in a future release of LightGBM. Pass 'log_evaluation()' callback via 'callbacks' argument instead.\n",
      "  _log_warning(\"'verbose_eval' argument is deprecated and will be removed in a future release of LightGBM. \"\n",
      "/usr/local/lib/python3.7/site-packages/lightgbm/engine.py:239: UserWarning: 'verbose_eval' argument is deprecated and will be removed in a future release of LightGBM. Pass 'log_evaluation()' callback via 'callbacks' argument instead.\n",
      "  _log_warning(\"'verbose_eval' argument is deprecated and will be removed in a future release of LightGBM. \"\n",
      "/usr/local/lib/python3.7/site-packages/lightgbm/engine.py:239: UserWarning: 'verbose_eval' argument is deprecated and will be removed in a future release of LightGBM. Pass 'log_evaluation()' callback via 'callbacks' argument instead.\n",
      "  _log_warning(\"'verbose_eval' argument is deprecated and will be removed in a future release of LightGBM. \"\n",
      "\t-35.5845\t = Validation score   (root_mean_squared_error)\n",
      "\t7.24s\t = Training   runtime\n",
      "\t0.11s\t = Validation runtime\n",
      "Fitting model: RandomForestMSE_BAG_L2 ... Training model for up to 182.21s of the 182.17s of remaining time.\n",
      "\t-36.2144\t = Validation score   (root_mean_squared_error)\n",
      "\t26.73s\t = Training   runtime\n",
      "\t0.48s\t = Validation runtime\n",
      "Fitting model: CatBoost_BAG_L2 ... Training model for up to 152.7s of the 152.67s of remaining time.\n",
      "\t-35.6706\t = Validation score   (root_mean_squared_error)\n",
      "\t36.9s\t = Training   runtime\n",
      "\t0.07s\t = Validation runtime\n",
      "Fitting model: ExtraTreesMSE_BAG_L2 ... Training model for up to 115.23s of the 115.19s of remaining time.\n",
      "\t-35.6947\t = Validation score   (root_mean_squared_error)\n",
      "\t6.98s\t = Training   runtime\n",
      "\t0.49s\t = Validation runtime\n",
      "Fitting model: NeuralNetFastAI_BAG_L2 ... Training model for up to 105.44s of the 105.4s of remaining time.\n",
      "\tRan out of time, stopping training early. (Stopping on epoch 15)\n",
      "\tRan out of time, stopping training early. (Stopping on epoch 16)\n",
      "\tRan out of time, stopping training early. (Stopping on epoch 17)\n",
      "\tRan out of time, stopping training early. (Stopping on epoch 17)\n",
      "\tRan out of time, stopping training early. (Stopping on epoch 18)\n",
      "\tRan out of time, stopping training early. (Stopping on epoch 18)\n",
      "\tRan out of time, stopping training early. (Stopping on epoch 19)\n",
      "\tRan out of time, stopping training early. (Stopping on epoch 21)\n",
      "\tRan out of time, stopping training early. (Stopping on epoch 24)\n",
      "\tRan out of time, stopping training early. (Stopping on epoch 28)\n",
      "\t-35.9888\t = Validation score   (root_mean_squared_error)\n",
      "\t100.41s\t = Training   runtime\n",
      "\t0.43s\t = Validation runtime\n",
      "Fitting model: XGBoost_BAG_L2 ... Training model for up to 3.8s of the 3.77s of remaining time.\n",
      "\tTime limit exceeded... Skipping XGBoost_BAG_L2.\n",
      "Fitting model: NeuralNetMXNet_BAG_L2 ... Training model for up to 3.34s of the 3.31s of remaining time.\n",
      "\tTime limit exceeded... Skipping NeuralNetMXNet_BAG_L2.\n",
      "Fitting model: LightGBMLarge_BAG_L2 ... Training model for up to 2.7s of the 2.66s of remaining time.\n",
      "/usr/local/lib/python3.7/site-packages/lightgbm/engine.py:239: UserWarning: 'verbose_eval' argument is deprecated and will be removed in a future release of LightGBM. Pass 'log_evaluation()' callback via 'callbacks' argument instead.\n",
      "  _log_warning(\"'verbose_eval' argument is deprecated and will be removed in a future release of LightGBM. \"\n",
      "\tRan out of time, early stopping on iteration 8. Best iteration is:\n",
      "\t[8]\ttrain_set's rmse: 143.536\tvalid_set's rmse: 141.037\n",
      "\tTime limit exceeded... Skipping LightGBMLarge_BAG_L2.\n",
      "Completed 1/20 k-fold bagging repeats ...\n",
      "Fitting model: WeightedEnsemble_L3 ... Training model for up to 360.0s of the 2.29s of remaining time.\n",
      "\t-35.1684\t = Validation score   (root_mean_squared_error)\n",
      "\t0.33s\t = Training   runtime\n",
      "\t0.0s\t = Validation runtime\n",
      "AutoGluon training complete, total runtime = 598.28s ...\n",
      "TabularPredictor saved. To load, use: predictor = TabularPredictor.load(\"AutogluonModels/ag-20211102_122150/\")\n"
     ]
    }
   ],
   "source": [
    "predictor_new_features = TabularPredictor(label=\"count\",eval_metric=\"root_mean_squared_error\",learner_kwargs={\"ignored_columns\": [\"casual\", \"registered\"]})\\\n",
    "                                                                                .fit(train_data=train, time_limit=600, presets=\"best_quality\")"
   ]
  },
  {
   "cell_type": "code",
   "execution_count": 52,
   "metadata": {},
   "outputs": [
    {
     "name": "stdout",
     "output_type": "stream",
     "text": [
      "*** Summary of fit() ***\n",
      "Estimated performance of each model:\n",
      "                     model   score_val  pred_time_val    fit_time  pred_time_val_marginal  fit_time_marginal  stack_level  can_infer  fit_order\n",
      "0      WeightedEnsemble_L3  -35.168415      12.166303  487.987923                0.000839           0.328420            3       True         16\n",
      "1      WeightedEnsemble_L2  -35.313202       7.666115  283.881350                0.000804           0.429819            2       True          9\n",
      "2          LightGBM_BAG_L2  -35.584514      10.706283  316.629411                0.109720           7.242852            2       True         11\n",
      "3          CatBoost_BAG_L2  -35.670602      10.662909  346.290102                0.066345          36.903542            2       True         13\n",
      "4     ExtraTreesMSE_BAG_L2  -35.694670      11.083451  316.367647                0.486888           6.981087            2       True         14\n",
      "5   NeuralNetFastAI_BAG_L2  -35.988758      11.024860  409.799209                0.428296         100.412649            2       True         15\n",
      "6   RandomForestMSE_BAG_L2  -36.214440      11.074215  336.119372                0.477652          26.732813            2       True         12\n",
      "7        LightGBMXT_BAG_L2  -36.406274      10.804824  318.772018                0.208261           9.385459            2       True         10\n",
      "8          LightGBM_BAG_L1  -36.586278       1.397863   34.954200                1.397863          34.954200            1       True          4\n",
      "9        LightGBMXT_BAG_L1  -36.825093       5.456425   94.202629                5.456425          94.202629            1       True          3\n",
      "10    ExtraTreesMSE_BAG_L1  -41.031078       0.401748    3.970827                0.401748           3.970827            1       True          6\n",
      "11  RandomForestMSE_BAG_L1  -41.324329       0.409595    9.779569                0.409595           9.779569            1       True          5\n",
      "12  NeuralNetFastAI_BAG_L1  -45.990737       0.401428  144.515134                0.401428         144.515134            1       True          7\n",
      "13   KNeighborsDist_BAG_L1 -119.372602       0.203652    0.030190                0.203652           0.030190            1       True          2\n",
      "14   KNeighborsUnif_BAG_L1 -123.921631       0.203378    0.033215                0.203378           0.033215            1       True          1\n",
      "15   NeuralNetMXNet_BAG_L1 -262.845718       2.122475   21.900796                2.122475          21.900796            1       True          8\n",
      "Number of models trained: 16\n",
      "Types of models trained:\n",
      "{'StackerEnsembleModel_TabularNeuralNet', 'StackerEnsembleModel_RF', 'StackerEnsembleModel_CatBoost', 'StackerEnsembleModel_KNN', 'StackerEnsembleModel_XT', 'StackerEnsembleModel_NNFastAiTabular', 'StackerEnsembleModel_LGB', 'WeightedEnsembleModel'}\n",
      "Bagging used: True  (with 10 folds)\n",
      "Multi-layer stack-ensembling used: True  (with 3 levels)\n",
      "Feature Metadata (Processed):\n",
      "(raw dtype, special dtypes):\n",
      "('category', [])             : 2 | ['season', 'weather']\n",
      "('float', [])                : 3 | ['temp', 'atemp', 'windspeed']\n",
      "('int', [])                  : 4 | ['humidity', 'month', 'day', 'hour']\n",
      "('int', ['bool'])            : 3 | ['holiday', 'workingday', 'year']\n",
      "('int', ['datetime_as_int']) : 1 | ['datetime']\n",
      "Plot summary of models saved to file: AutogluonModels/ag-20211102_122150/SummaryOfModels.html\n",
      "*** End of fit() summary ***\n"
     ]
    },
    {
     "data": {
      "text/plain": [
       "{'model_types': {'KNeighborsUnif_BAG_L1': 'StackerEnsembleModel_KNN',\n",
       "  'KNeighborsDist_BAG_L1': 'StackerEnsembleModel_KNN',\n",
       "  'LightGBMXT_BAG_L1': 'StackerEnsembleModel_LGB',\n",
       "  'LightGBM_BAG_L1': 'StackerEnsembleModel_LGB',\n",
       "  'RandomForestMSE_BAG_L1': 'StackerEnsembleModel_RF',\n",
       "  'ExtraTreesMSE_BAG_L1': 'StackerEnsembleModel_XT',\n",
       "  'NeuralNetFastAI_BAG_L1': 'StackerEnsembleModel_NNFastAiTabular',\n",
       "  'NeuralNetMXNet_BAG_L1': 'StackerEnsembleModel_TabularNeuralNet',\n",
       "  'WeightedEnsemble_L2': 'WeightedEnsembleModel',\n",
       "  'LightGBMXT_BAG_L2': 'StackerEnsembleModel_LGB',\n",
       "  'LightGBM_BAG_L2': 'StackerEnsembleModel_LGB',\n",
       "  'RandomForestMSE_BAG_L2': 'StackerEnsembleModel_RF',\n",
       "  'CatBoost_BAG_L2': 'StackerEnsembleModel_CatBoost',\n",
       "  'ExtraTreesMSE_BAG_L2': 'StackerEnsembleModel_XT',\n",
       "  'NeuralNetFastAI_BAG_L2': 'StackerEnsembleModel_NNFastAiTabular',\n",
       "  'WeightedEnsemble_L3': 'WeightedEnsembleModel'},\n",
       " 'model_performance': {'KNeighborsUnif_BAG_L1': -123.92163053871576,\n",
       "  'KNeighborsDist_BAG_L1': -119.37260178212149,\n",
       "  'LightGBMXT_BAG_L1': -36.825092797440945,\n",
       "  'LightGBM_BAG_L1': -36.58627782418722,\n",
       "  'RandomForestMSE_BAG_L1': -41.324328695915895,\n",
       "  'ExtraTreesMSE_BAG_L1': -41.03107843469706,\n",
       "  'NeuralNetFastAI_BAG_L1': -45.99073663436856,\n",
       "  'NeuralNetMXNet_BAG_L1': -262.84571767363923,\n",
       "  'WeightedEnsemble_L2': -35.31320211418139,\n",
       "  'LightGBMXT_BAG_L2': -36.40627370864258,\n",
       "  'LightGBM_BAG_L2': -35.584513739547816,\n",
       "  'RandomForestMSE_BAG_L2': -36.21444026124497,\n",
       "  'CatBoost_BAG_L2': -35.6706022634591,\n",
       "  'ExtraTreesMSE_BAG_L2': -35.69467014086865,\n",
       "  'NeuralNetFastAI_BAG_L2': -35.98875816879159,\n",
       "  'WeightedEnsemble_L3': -35.16841542209187},\n",
       " 'model_best': 'WeightedEnsemble_L3',\n",
       " 'model_paths': {'KNeighborsUnif_BAG_L1': 'AutogluonModels/ag-20211102_122150/models/KNeighborsUnif_BAG_L1/',\n",
       "  'KNeighborsDist_BAG_L1': 'AutogluonModels/ag-20211102_122150/models/KNeighborsDist_BAG_L1/',\n",
       "  'LightGBMXT_BAG_L1': 'AutogluonModels/ag-20211102_122150/models/LightGBMXT_BAG_L1/',\n",
       "  'LightGBM_BAG_L1': 'AutogluonModels/ag-20211102_122150/models/LightGBM_BAG_L1/',\n",
       "  'RandomForestMSE_BAG_L1': 'AutogluonModels/ag-20211102_122150/models/RandomForestMSE_BAG_L1/',\n",
       "  'ExtraTreesMSE_BAG_L1': 'AutogluonModels/ag-20211102_122150/models/ExtraTreesMSE_BAG_L1/',\n",
       "  'NeuralNetFastAI_BAG_L1': 'AutogluonModels/ag-20211102_122150/models/NeuralNetFastAI_BAG_L1/',\n",
       "  'NeuralNetMXNet_BAG_L1': 'AutogluonModels/ag-20211102_122150/models/NeuralNetMXNet_BAG_L1/',\n",
       "  'WeightedEnsemble_L2': 'AutogluonModels/ag-20211102_122150/models/WeightedEnsemble_L2/',\n",
       "  'LightGBMXT_BAG_L2': 'AutogluonModels/ag-20211102_122150/models/LightGBMXT_BAG_L2/',\n",
       "  'LightGBM_BAG_L2': 'AutogluonModels/ag-20211102_122150/models/LightGBM_BAG_L2/',\n",
       "  'RandomForestMSE_BAG_L2': 'AutogluonModels/ag-20211102_122150/models/RandomForestMSE_BAG_L2/',\n",
       "  'CatBoost_BAG_L2': 'AutogluonModels/ag-20211102_122150/models/CatBoost_BAG_L2/',\n",
       "  'ExtraTreesMSE_BAG_L2': 'AutogluonModels/ag-20211102_122150/models/ExtraTreesMSE_BAG_L2/',\n",
       "  'NeuralNetFastAI_BAG_L2': 'AutogluonModels/ag-20211102_122150/models/NeuralNetFastAI_BAG_L2/',\n",
       "  'WeightedEnsemble_L3': 'AutogluonModels/ag-20211102_122150/models/WeightedEnsemble_L3/'},\n",
       " 'model_fit_times': {'KNeighborsUnif_BAG_L1': 0.03321480751037598,\n",
       "  'KNeighborsDist_BAG_L1': 0.030190229415893555,\n",
       "  'LightGBMXT_BAG_L1': 94.20262861251831,\n",
       "  'LightGBM_BAG_L1': 34.95419979095459,\n",
       "  'RandomForestMSE_BAG_L1': 9.779568910598755,\n",
       "  'ExtraTreesMSE_BAG_L1': 3.970827341079712,\n",
       "  'NeuralNetFastAI_BAG_L1': 144.51513361930847,\n",
       "  'NeuralNetMXNet_BAG_L1': 21.90079617500305,\n",
       "  'WeightedEnsemble_L2': 0.42981863021850586,\n",
       "  'LightGBMXT_BAG_L2': 9.385458946228027,\n",
       "  'LightGBM_BAG_L2': 7.242851734161377,\n",
       "  'RandomForestMSE_BAG_L2': 26.732812643051147,\n",
       "  'CatBoost_BAG_L2': 36.903542041778564,\n",
       "  'ExtraTreesMSE_BAG_L2': 6.9810872077941895,\n",
       "  'NeuralNetFastAI_BAG_L2': 100.41264939308167,\n",
       "  'WeightedEnsemble_L3': 0.32842016220092773},\n",
       " 'model_pred_times': {'KNeighborsUnif_BAG_L1': 0.20337843894958496,\n",
       "  'KNeighborsDist_BAG_L1': 0.20365166664123535,\n",
       "  'LightGBMXT_BAG_L1': 5.456425189971924,\n",
       "  'LightGBM_BAG_L1': 1.3978631496429443,\n",
       "  'RandomForestMSE_BAG_L1': 0.4095945358276367,\n",
       "  'ExtraTreesMSE_BAG_L1': 0.4017477035522461,\n",
       "  'NeuralNetFastAI_BAG_L1': 0.4014277458190918,\n",
       "  'NeuralNetMXNet_BAG_L1': 2.1224749088287354,\n",
       "  'WeightedEnsemble_L2': 0.0008044242858886719,\n",
       "  'LightGBMXT_BAG_L2': 0.20826101303100586,\n",
       "  'LightGBM_BAG_L2': 0.10971951484680176,\n",
       "  'RandomForestMSE_BAG_L2': 0.47765159606933594,\n",
       "  'CatBoost_BAG_L2': 0.0663454532623291,\n",
       "  'ExtraTreesMSE_BAG_L2': 0.48688769340515137,\n",
       "  'NeuralNetFastAI_BAG_L2': 0.4282963275909424,\n",
       "  'WeightedEnsemble_L3': 0.0008389949798583984},\n",
       " 'num_bag_folds': 10,\n",
       " 'max_stack_level': 3,\n",
       " 'model_hyperparams': {'KNeighborsUnif_BAG_L1': {'use_orig_features': True,\n",
       "   'max_base_models': 25,\n",
       "   'max_base_models_per_type': 5,\n",
       "   'save_bag_folds': True,\n",
       "   'use_child_oof': True},\n",
       "  'KNeighborsDist_BAG_L1': {'use_orig_features': True,\n",
       "   'max_base_models': 25,\n",
       "   'max_base_models_per_type': 5,\n",
       "   'save_bag_folds': True,\n",
       "   'use_child_oof': True},\n",
       "  'LightGBMXT_BAG_L1': {'use_orig_features': True,\n",
       "   'max_base_models': 25,\n",
       "   'max_base_models_per_type': 5,\n",
       "   'save_bag_folds': True},\n",
       "  'LightGBM_BAG_L1': {'use_orig_features': True,\n",
       "   'max_base_models': 25,\n",
       "   'max_base_models_per_type': 5,\n",
       "   'save_bag_folds': True},\n",
       "  'RandomForestMSE_BAG_L1': {'use_orig_features': True,\n",
       "   'max_base_models': 25,\n",
       "   'max_base_models_per_type': 5,\n",
       "   'save_bag_folds': True,\n",
       "   'use_child_oof': True},\n",
       "  'ExtraTreesMSE_BAG_L1': {'use_orig_features': True,\n",
       "   'max_base_models': 25,\n",
       "   'max_base_models_per_type': 5,\n",
       "   'save_bag_folds': True,\n",
       "   'use_child_oof': True},\n",
       "  'NeuralNetFastAI_BAG_L1': {'use_orig_features': True,\n",
       "   'max_base_models': 25,\n",
       "   'max_base_models_per_type': 5,\n",
       "   'save_bag_folds': True},\n",
       "  'NeuralNetMXNet_BAG_L1': {'use_orig_features': True,\n",
       "   'max_base_models': 25,\n",
       "   'max_base_models_per_type': 5,\n",
       "   'save_bag_folds': True},\n",
       "  'WeightedEnsemble_L2': {'use_orig_features': False,\n",
       "   'max_base_models': 25,\n",
       "   'max_base_models_per_type': 5,\n",
       "   'save_bag_folds': True},\n",
       "  'LightGBMXT_BAG_L2': {'use_orig_features': True,\n",
       "   'max_base_models': 25,\n",
       "   'max_base_models_per_type': 5,\n",
       "   'save_bag_folds': True},\n",
       "  'LightGBM_BAG_L2': {'use_orig_features': True,\n",
       "   'max_base_models': 25,\n",
       "   'max_base_models_per_type': 5,\n",
       "   'save_bag_folds': True},\n",
       "  'RandomForestMSE_BAG_L2': {'use_orig_features': True,\n",
       "   'max_base_models': 25,\n",
       "   'max_base_models_per_type': 5,\n",
       "   'save_bag_folds': True,\n",
       "   'use_child_oof': True},\n",
       "  'CatBoost_BAG_L2': {'use_orig_features': True,\n",
       "   'max_base_models': 25,\n",
       "   'max_base_models_per_type': 5,\n",
       "   'save_bag_folds': True},\n",
       "  'ExtraTreesMSE_BAG_L2': {'use_orig_features': True,\n",
       "   'max_base_models': 25,\n",
       "   'max_base_models_per_type': 5,\n",
       "   'save_bag_folds': True,\n",
       "   'use_child_oof': True},\n",
       "  'NeuralNetFastAI_BAG_L2': {'use_orig_features': True,\n",
       "   'max_base_models': 25,\n",
       "   'max_base_models_per_type': 5,\n",
       "   'save_bag_folds': True},\n",
       "  'WeightedEnsemble_L3': {'use_orig_features': False,\n",
       "   'max_base_models': 25,\n",
       "   'max_base_models_per_type': 5,\n",
       "   'save_bag_folds': True}},\n",
       " 'leaderboard':                      model   score_val  pred_time_val    fit_time  \\\n",
       " 0      WeightedEnsemble_L3  -35.168415      12.166303  487.987923   \n",
       " 1      WeightedEnsemble_L2  -35.313202       7.666115  283.881350   \n",
       " 2          LightGBM_BAG_L2  -35.584514      10.706283  316.629411   \n",
       " 3          CatBoost_BAG_L2  -35.670602      10.662909  346.290102   \n",
       " 4     ExtraTreesMSE_BAG_L2  -35.694670      11.083451  316.367647   \n",
       " 5   NeuralNetFastAI_BAG_L2  -35.988758      11.024860  409.799209   \n",
       " 6   RandomForestMSE_BAG_L2  -36.214440      11.074215  336.119372   \n",
       " 7        LightGBMXT_BAG_L2  -36.406274      10.804824  318.772018   \n",
       " 8          LightGBM_BAG_L1  -36.586278       1.397863   34.954200   \n",
       " 9        LightGBMXT_BAG_L1  -36.825093       5.456425   94.202629   \n",
       " 10    ExtraTreesMSE_BAG_L1  -41.031078       0.401748    3.970827   \n",
       " 11  RandomForestMSE_BAG_L1  -41.324329       0.409595    9.779569   \n",
       " 12  NeuralNetFastAI_BAG_L1  -45.990737       0.401428  144.515134   \n",
       " 13   KNeighborsDist_BAG_L1 -119.372602       0.203652    0.030190   \n",
       " 14   KNeighborsUnif_BAG_L1 -123.921631       0.203378    0.033215   \n",
       " 15   NeuralNetMXNet_BAG_L1 -262.845718       2.122475   21.900796   \n",
       " \n",
       "     pred_time_val_marginal  fit_time_marginal  stack_level  can_infer  \\\n",
       " 0                 0.000839           0.328420            3       True   \n",
       " 1                 0.000804           0.429819            2       True   \n",
       " 2                 0.109720           7.242852            2       True   \n",
       " 3                 0.066345          36.903542            2       True   \n",
       " 4                 0.486888           6.981087            2       True   \n",
       " 5                 0.428296         100.412649            2       True   \n",
       " 6                 0.477652          26.732813            2       True   \n",
       " 7                 0.208261           9.385459            2       True   \n",
       " 8                 1.397863          34.954200            1       True   \n",
       " 9                 5.456425          94.202629            1       True   \n",
       " 10                0.401748           3.970827            1       True   \n",
       " 11                0.409595           9.779569            1       True   \n",
       " 12                0.401428         144.515134            1       True   \n",
       " 13                0.203652           0.030190            1       True   \n",
       " 14                0.203378           0.033215            1       True   \n",
       " 15                2.122475          21.900796            1       True   \n",
       " \n",
       "     fit_order  \n",
       " 0          16  \n",
       " 1           9  \n",
       " 2          11  \n",
       " 3          13  \n",
       " 4          14  \n",
       " 5          15  \n",
       " 6          12  \n",
       " 7          10  \n",
       " 8           4  \n",
       " 9           3  \n",
       " 10          6  \n",
       " 11          5  \n",
       " 12          7  \n",
       " 13          2  \n",
       " 14          1  \n",
       " 15          8  }"
      ]
     },
     "execution_count": 52,
     "metadata": {},
     "output_type": "execute_result"
    }
   ],
   "source": [
    "predictor_new_features.fit_summary()"
   ]
  },
  {
   "cell_type": "code",
   "execution_count": 54,
   "metadata": {},
   "outputs": [],
   "source": [
    "# Remember to set all negative values to zero\n",
    "\n",
    "new_predictions = predictor_new_features.predict(test)\n",
    "new_predictions[new_predictions<0] = 0"
   ]
  },
  {
   "cell_type": "code",
   "execution_count": 55,
   "metadata": {},
   "outputs": [
    {
     "data": {
      "text/plain": [
       "0    12.889737\n",
       "1     5.163289\n",
       "2     3.663111\n",
       "3     3.630481\n",
       "4     4.041388\n",
       "Name: count, dtype: float32"
      ]
     },
     "execution_count": 55,
     "metadata": {},
     "output_type": "execute_result"
    }
   ],
   "source": [
    "new_predictions.head()"
   ]
  },
  {
   "cell_type": "code",
   "execution_count": 57,
   "metadata": {},
   "outputs": [],
   "source": [
    "submission_new_features = pd.read_csv(\"sampleSubmission.csv\", parse_dates=[\"datetime\"])\n",
    "# Same submitting predictions\n",
    "submission_new_features[\"count\"] = new_predictions\n",
    "submission_new_features.to_csv(\"submission_new_features.csv\", index=False)"
   ]
  },
  {
   "cell_type": "code",
   "execution_count": 58,
   "metadata": {},
   "outputs": [
    {
     "name": "stdout",
     "output_type": "stream",
     "text": [
      "100%|█████████████████████████████████████████| 188k/188k [00:00<00:00, 619kB/s]\n",
      "Successfully submitted to Bike Sharing Demand"
     ]
    }
   ],
   "source": [
    "!kaggle competitions submit -c bike-sharing-demand -f submission_new_features.csv -m \"new features\""
   ]
  },
  {
   "cell_type": "code",
   "execution_count": 59,
   "metadata": {},
   "outputs": [
    {
     "name": "stdout",
     "output_type": "stream",
     "text": [
      "fileName                     date                 description           status    publicScore  privateScore  \n",
      "---------------------------  -------------------  --------------------  --------  -----------  ------------  \n",
      "submission_new_features.csv  2021-11-02 12:34:08  new features          complete  0.47027      0.47027       \n",
      "submission.csv               2021-11-02 11:48:27  first raw submission  complete  1.39194      1.39194       \n"
     ]
    }
   ],
   "source": [
    "!kaggle competitions submissions -c bike-sharing-demand | tail -n +1 | head -n 6"
   ]
  },
  {
   "cell_type": "markdown",
   "metadata": {},
   "source": [
    "#### New Score of `0.47027`"
   ]
  },
  {
   "cell_type": "markdown",
   "metadata": {},
   "source": [
    "## Step 6: Hyper parameter optimization\n",
    "* There are many options for hyper parameter optimization.\n",
    "* Options are to change the AutoGluon higher level parameters or the individual model hyperparameters.\n",
    "* The hyperparameters of the models themselves that are in AutoGluon. Those need the `hyperparameter` and `hyperparameter_tune_kwargs` arguments."
   ]
  },
  {
   "cell_type": "code",
   "execution_count": 61,
   "metadata": {},
   "outputs": [
    {
     "name": "stderr",
     "output_type": "stream",
     "text": [
      "No path specified. Models will be saved in: \"AutogluonModels/ag-20211102_124534/\"\n",
      "Presets specified: ['best_quality']\n",
      "Beginning AutoGluon training ... Time limit = 1000s\n",
      "AutoGluon will save models to \"AutogluonModels/ag-20211102_124534/\"\n",
      "AutoGluon Version:  0.3.1\n",
      "Train Data Rows:    10886\n",
      "Train Data Columns: 15\n",
      "Preprocessing data ...\n",
      "AutoGluon infers your prediction problem is: 'regression' (because dtype of label-column == int and many unique label-values observed).\n",
      "\tLabel info (max, min, mean, stddev): (977, 1, 191.57413, 181.14445)\n",
      "\tIf 'regression' is not the correct problem_type, please manually specify the problem_type argument in fit() (You may specify problem_type as one of: ['binary', 'multiclass', 'regression'])\n",
      "Using Feature Generators to preprocess the data ...\n",
      "Dropping user-specified ignored columns: ['casual', 'registered']\n",
      "Fitting AutoMLPipelineFeatureGenerator...\n",
      "\tAvailable Memory:                    1963.38 MB\n",
      "\tTrain Data (Original)  Memory Usage: 0.98 MB (0.0% of available memory)\n",
      "\tInferring data type of each feature based on column values. Set feature_metadata_in to manually specify special dtypes of the features.\n",
      "\tStage 1 Generators:\n",
      "\t\tFitting AsTypeFeatureGenerator...\n",
      "\t\t\tNote: Converting 3 features to boolean dtype as they only contain 2 unique values.\n",
      "\tStage 2 Generators:\n",
      "\t\tFitting FillNaFeatureGenerator...\n",
      "\tStage 3 Generators:\n",
      "\t\tFitting IdentityFeatureGenerator...\n",
      "\t\tFitting CategoryFeatureGenerator...\n",
      "\t\t\tFitting CategoryMemoryMinimizeFeatureGenerator...\n",
      "\t\tFitting DatetimeFeatureGenerator...\n",
      "\tStage 4 Generators:\n",
      "\t\tFitting DropUniqueFeatureGenerator...\n",
      "\tTypes of features in original data (raw dtype, special dtypes):\n",
      "\t\t('category', []) : 2 | ['season', 'weather']\n",
      "\t\t('datetime', []) : 1 | ['datetime']\n",
      "\t\t('float', [])    : 3 | ['temp', 'atemp', 'windspeed']\n",
      "\t\t('int', [])      : 7 | ['holiday', 'workingday', 'humidity', 'year', 'month', ...]\n",
      "\tTypes of features in processed data (raw dtype, special dtypes):\n",
      "\t\t('category', [])             : 2 | ['season', 'weather']\n",
      "\t\t('float', [])                : 3 | ['temp', 'atemp', 'windspeed']\n",
      "\t\t('int', [])                  : 4 | ['humidity', 'month', 'day', 'hour']\n",
      "\t\t('int', ['bool'])            : 3 | ['holiday', 'workingday', 'year']\n",
      "\t\t('int', ['datetime_as_int']) : 1 | ['datetime']\n",
      "\t0.2s = Fit runtime\n",
      "\t13 features in original data used to generate 13 features in processed data.\n",
      "\tTrain Data (Processed) Memory Usage: 0.75 MB (0.0% of available memory)\n",
      "Data preprocessing and feature engineering runtime = 0.28s ...\n",
      "AutoGluon will gauge predictive performance using evaluation metric: 'root_mean_squared_error'\n",
      "\tTo change this, specify the eval_metric argument of fit()\n",
      "AutoGluon will fit 3 stack levels (L1 to L3) ...\n",
      "Fitting 11 L1 models ...\n",
      "Fitting model: KNeighborsUnif_BAG_L1 ... Training model for up to 444.21s of the 999.71s of remaining time.\n",
      "\t-123.9216\t = Validation score   (root_mean_squared_error)\n",
      "\t0.03s\t = Training   runtime\n",
      "\t0.2s\t = Validation runtime\n",
      "Fitting model: KNeighborsDist_BAG_L1 ... Training model for up to 443.72s of the 999.22s of remaining time.\n",
      "\t-119.3726\t = Validation score   (root_mean_squared_error)\n",
      "\t0.02s\t = Training   runtime\n",
      "\t0.2s\t = Validation runtime\n",
      "Fitting model: LightGBMXT_BAG_L1 ... Training model for up to 443.24s of the 998.75s of remaining time.\n",
      "/usr/local/lib/python3.7/site-packages/lightgbm/engine.py:239: UserWarning: 'verbose_eval' argument is deprecated and will be removed in a future release of LightGBM. Pass 'log_evaluation()' callback via 'callbacks' argument instead.\n",
      "  _log_warning(\"'verbose_eval' argument is deprecated and will be removed in a future release of LightGBM. \"\n"
     ]
    },
    {
     "name": "stdout",
     "output_type": "stream",
     "text": [
      "[1000]\ttrain_set's rmse: 29.4753\tvalid_set's rmse: 40.8957\n",
      "[2000]\ttrain_set's rmse: 23.8291\tvalid_set's rmse: 39.335\n",
      "[3000]\ttrain_set's rmse: 20.7725\tvalid_set's rmse: 39.0574\n",
      "[4000]\ttrain_set's rmse: 18.6885\tvalid_set's rmse: 39.0011\n"
     ]
    },
    {
     "name": "stderr",
     "output_type": "stream",
     "text": [
      "/usr/local/lib/python3.7/site-packages/lightgbm/engine.py:239: UserWarning: 'verbose_eval' argument is deprecated and will be removed in a future release of LightGBM. Pass 'log_evaluation()' callback via 'callbacks' argument instead.\n",
      "  _log_warning(\"'verbose_eval' argument is deprecated and will be removed in a future release of LightGBM. \"\n"
     ]
    },
    {
     "name": "stdout",
     "output_type": "stream",
     "text": [
      "[1000]\ttrain_set's rmse: 30.0274\tvalid_set's rmse: 41.284\n",
      "[2000]\ttrain_set's rmse: 24.3227\tvalid_set's rmse: 39.0767\n",
      "[3000]\ttrain_set's rmse: 21.2245\tvalid_set's rmse: 38.5377\n",
      "[4000]\ttrain_set's rmse: 19.1036\tvalid_set's rmse: 38.3601\n",
      "[5000]\ttrain_set's rmse: 17.4885\tvalid_set's rmse: 38.2327\n",
      "[6000]\ttrain_set's rmse: 16.1276\tvalid_set's rmse: 38.2162\n"
     ]
    },
    {
     "name": "stderr",
     "output_type": "stream",
     "text": [
      "/usr/local/lib/python3.7/site-packages/lightgbm/engine.py:239: UserWarning: 'verbose_eval' argument is deprecated and will be removed in a future release of LightGBM. Pass 'log_evaluation()' callback via 'callbacks' argument instead.\n",
      "  _log_warning(\"'verbose_eval' argument is deprecated and will be removed in a future release of LightGBM. \"\n"
     ]
    },
    {
     "name": "stdout",
     "output_type": "stream",
     "text": [
      "[1000]\ttrain_set's rmse: 29.3306\tvalid_set's rmse: 40.4043\n",
      "[2000]\ttrain_set's rmse: 23.9846\tvalid_set's rmse: 39.3258\n",
      "[3000]\ttrain_set's rmse: 21.0325\tvalid_set's rmse: 39.167\n",
      "[4000]\ttrain_set's rmse: 18.9632\tvalid_set's rmse: 39.1014\n"
     ]
    },
    {
     "name": "stderr",
     "output_type": "stream",
     "text": [
      "\t-38.756\t = Validation score   (root_mean_squared_error)\n",
      "\t21.17s\t = Training   runtime\n",
      "\t3.37s\t = Validation runtime\n",
      "Fitting model: LightGBM_BAG_L1 ... Training model for up to 416.11s of the 971.61s of remaining time.\n",
      "/usr/local/lib/python3.7/site-packages/lightgbm/engine.py:239: UserWarning: 'verbose_eval' argument is deprecated and will be removed in a future release of LightGBM. Pass 'log_evaluation()' callback via 'callbacks' argument instead.\n",
      "  _log_warning(\"'verbose_eval' argument is deprecated and will be removed in a future release of LightGBM. \"\n"
     ]
    },
    {
     "name": "stdout",
     "output_type": "stream",
     "text": [
      "[1000]\ttrain_set's rmse: 19.6179\tvalid_set's rmse: 38.2568\n"
     ]
    },
    {
     "name": "stderr",
     "output_type": "stream",
     "text": [
      "/usr/local/lib/python3.7/site-packages/lightgbm/engine.py:239: UserWarning: 'verbose_eval' argument is deprecated and will be removed in a future release of LightGBM. Pass 'log_evaluation()' callback via 'callbacks' argument instead.\n",
      "  _log_warning(\"'verbose_eval' argument is deprecated and will be removed in a future release of LightGBM. \"\n"
     ]
    },
    {
     "name": "stdout",
     "output_type": "stream",
     "text": [
      "[1000]\ttrain_set's rmse: 19.7996\tvalid_set's rmse: 37.8732\n",
      "[2000]\ttrain_set's rmse: 13.7554\tvalid_set's rmse: 37.6398\n"
     ]
    },
    {
     "name": "stderr",
     "output_type": "stream",
     "text": [
      "/usr/local/lib/python3.7/site-packages/lightgbm/engine.py:239: UserWarning: 'verbose_eval' argument is deprecated and will be removed in a future release of LightGBM. Pass 'log_evaluation()' callback via 'callbacks' argument instead.\n",
      "  _log_warning(\"'verbose_eval' argument is deprecated and will be removed in a future release of LightGBM. \"\n"
     ]
    },
    {
     "name": "stdout",
     "output_type": "stream",
     "text": [
      "[1000]\ttrain_set's rmse: 19.1575\tvalid_set's rmse: 39.1485\n"
     ]
    },
    {
     "name": "stderr",
     "output_type": "stream",
     "text": [
      "\t-38.2441\t = Validation score   (root_mean_squared_error)\n",
      "\t8.14s\t = Training   runtime\n",
      "\t1.21s\t = Validation runtime\n",
      "Fitting model: RandomForestMSE_BAG_L1 ... Training model for up to 405.69s of the 961.19s of remaining time.\n",
      "\t-41.3243\t = Validation score   (root_mean_squared_error)\n",
      "\t9.78s\t = Training   runtime\n",
      "\t0.42s\t = Validation runtime\n",
      "Fitting model: CatBoost_BAG_L1 ... Training model for up to 393.19s of the 948.69s of remaining time.\n",
      "\t-37.7111\t = Validation score   (root_mean_squared_error)\n",
      "\t99.22s\t = Training   runtime\n",
      "\t0.13s\t = Validation runtime\n",
      "Fitting model: ExtraTreesMSE_BAG_L1 ... Training model for up to 293.4s of the 848.91s of remaining time.\n",
      "\t-41.0311\t = Validation score   (root_mean_squared_error)\n",
      "\t4.07s\t = Training   runtime\n",
      "\t0.41s\t = Validation runtime\n",
      "Fitting model: NeuralNetFastAI_BAG_L1 ... Training model for up to 286.48s of the 841.99s of remaining time.\n",
      "\t-48.9292\t = Validation score   (root_mean_squared_error)\n",
      "\t39.23s\t = Training   runtime\n",
      "\t0.25s\t = Validation runtime\n",
      "Fitting model: XGBoost_BAG_L1 ... Training model for up to 246.71s of the 802.22s of remaining time.\n",
      "\t-39.1329\t = Validation score   (root_mean_squared_error)\n",
      "\t9.88s\t = Training   runtime\n",
      "\t0.26s\t = Validation runtime\n",
      "Fitting model: NeuralNetMXNet_BAG_L1 ... Training model for up to 235.47s of the 790.98s of remaining time.\n",
      "\tRan out of time, stopping training early. (Stopping on epoch 58)\n",
      "\tRan out of time, stopping training early. (Stopping on epoch 79)\n",
      "\tRan out of time, stopping training early. (Stopping on epoch 77)\n",
      "\t-47.4914\t = Validation score   (root_mean_squared_error)\n",
      "\t213.31s\t = Training   runtime\n",
      "\t1.25s\t = Validation runtime\n",
      "Fitting model: LightGBMLarge_BAG_L1 ... Training model for up to 20.68s of the 576.18s of remaining time.\n",
      "/usr/local/lib/python3.7/site-packages/lightgbm/engine.py:239: UserWarning: 'verbose_eval' argument is deprecated and will be removed in a future release of LightGBM. Pass 'log_evaluation()' callback via 'callbacks' argument instead.\n",
      "  _log_warning(\"'verbose_eval' argument is deprecated and will be removed in a future release of LightGBM. \"\n"
     ]
    },
    {
     "name": "stdout",
     "output_type": "stream",
     "text": [
      "[1000]\ttrain_set's rmse: 6.57546\tvalid_set's rmse: 38.1798\n"
     ]
    },
    {
     "name": "stderr",
     "output_type": "stream",
     "text": [
      "/usr/local/lib/python3.7/site-packages/lightgbm/engine.py:239: UserWarning: 'verbose_eval' argument is deprecated and will be removed in a future release of LightGBM. Pass 'log_evaluation()' callback via 'callbacks' argument instead.\n",
      "  _log_warning(\"'verbose_eval' argument is deprecated and will be removed in a future release of LightGBM. \"\n"
     ]
    },
    {
     "name": "stdout",
     "output_type": "stream",
     "text": [
      "[1000]\ttrain_set's rmse: 6.46671\tvalid_set's rmse: 37.6603\n"
     ]
    },
    {
     "name": "stderr",
     "output_type": "stream",
     "text": [
      "/usr/local/lib/python3.7/site-packages/lightgbm/engine.py:239: UserWarning: 'verbose_eval' argument is deprecated and will be removed in a future release of LightGBM. Pass 'log_evaluation()' callback via 'callbacks' argument instead.\n",
      "  _log_warning(\"'verbose_eval' argument is deprecated and will be removed in a future release of LightGBM. \"\n"
     ]
    },
    {
     "name": "stdout",
     "output_type": "stream",
     "text": [
      "[1000]\ttrain_set's rmse: 6.42465\tvalid_set's rmse: 39.4722\n",
      "[2000]\ttrain_set's rmse: 2.58345\tvalid_set's rmse: 39.4067\n"
     ]
    },
    {
     "name": "stderr",
     "output_type": "stream",
     "text": [
      "\tRan out of time, early stopping on iteration 2104. Best iteration is:\n",
      "\t[1899]\ttrain_set's rmse: 2.81432\tvalid_set's rmse: 39.405\n",
      "\t-38.4089\t = Validation score   (root_mean_squared_error)\n",
      "\t18.1s\t = Training   runtime\n",
      "\t1.32s\t = Validation runtime\n",
      "Completed 1/20 k-fold bagging repeats ...\n",
      "Fitting model: WeightedEnsemble_L2 ... Training model for up to 360.0s of the 553.84s of remaining time.\n",
      "\t-36.2095\t = Validation score   (root_mean_squared_error)\n",
      "\t0.56s\t = Training   runtime\n",
      "\t0.0s\t = Validation runtime\n",
      "Fitting 9 L2 models ...\n",
      "Fitting model: LightGBMXT_BAG_L2 ... Training model for up to 368.69s of the 553.14s of remaining time.\n",
      "/usr/local/lib/python3.7/site-packages/lightgbm/engine.py:239: UserWarning: 'verbose_eval' argument is deprecated and will be removed in a future release of LightGBM. Pass 'log_evaluation()' callback via 'callbacks' argument instead.\n",
      "  _log_warning(\"'verbose_eval' argument is deprecated and will be removed in a future release of LightGBM. \"\n",
      "/usr/local/lib/python3.7/site-packages/lightgbm/engine.py:239: UserWarning: 'verbose_eval' argument is deprecated and will be removed in a future release of LightGBM. Pass 'log_evaluation()' callback via 'callbacks' argument instead.\n",
      "  _log_warning(\"'verbose_eval' argument is deprecated and will be removed in a future release of LightGBM. \"\n",
      "/usr/local/lib/python3.7/site-packages/lightgbm/engine.py:239: UserWarning: 'verbose_eval' argument is deprecated and will be removed in a future release of LightGBM. Pass 'log_evaluation()' callback via 'callbacks' argument instead.\n",
      "  _log_warning(\"'verbose_eval' argument is deprecated and will be removed in a future release of LightGBM. \"\n",
      "\t-37.2112\t = Validation score   (root_mean_squared_error)\n",
      "\t2.35s\t = Training   runtime\n",
      "\t0.11s\t = Validation runtime\n",
      "Fitting model: LightGBM_BAG_L2 ... Training model for up to 365.94s of the 550.39s of remaining time.\n",
      "/usr/local/lib/python3.7/site-packages/lightgbm/engine.py:239: UserWarning: 'verbose_eval' argument is deprecated and will be removed in a future release of LightGBM. Pass 'log_evaluation()' callback via 'callbacks' argument instead.\n",
      "  _log_warning(\"'verbose_eval' argument is deprecated and will be removed in a future release of LightGBM. \"\n",
      "/usr/local/lib/python3.7/site-packages/lightgbm/engine.py:239: UserWarning: 'verbose_eval' argument is deprecated and will be removed in a future release of LightGBM. Pass 'log_evaluation()' callback via 'callbacks' argument instead.\n",
      "  _log_warning(\"'verbose_eval' argument is deprecated and will be removed in a future release of LightGBM. \"\n",
      "/usr/local/lib/python3.7/site-packages/lightgbm/engine.py:239: UserWarning: 'verbose_eval' argument is deprecated and will be removed in a future release of LightGBM. Pass 'log_evaluation()' callback via 'callbacks' argument instead.\n",
      "  _log_warning(\"'verbose_eval' argument is deprecated and will be removed in a future release of LightGBM. \"\n",
      "\t-36.9542\t = Validation score   (root_mean_squared_error)\n",
      "\t2.27s\t = Training   runtime\n",
      "\t0.05s\t = Validation runtime\n",
      "Fitting model: RandomForestMSE_BAG_L2 ... Training model for up to 363.37s of the 547.82s of remaining time.\n",
      "\t-37.1353\t = Validation score   (root_mean_squared_error)\n",
      "\t31.94s\t = Training   runtime\n",
      "\t0.49s\t = Validation runtime\n",
      "Fitting model: CatBoost_BAG_L2 ... Training model for up to 328.66s of the 513.11s of remaining time.\n",
      "\t-36.3639\t = Validation score   (root_mean_squared_error)\n",
      "\t10.09s\t = Training   runtime\n",
      "\t0.03s\t = Validation runtime\n",
      "Fitting model: ExtraTreesMSE_BAG_L2 ... Training model for up to 318.29s of the 502.73s of remaining time.\n",
      "\t-36.447\t = Validation score   (root_mean_squared_error)\n",
      "\t7.72s\t = Training   runtime\n",
      "\t0.49s\t = Validation runtime\n",
      "Fitting model: NeuralNetFastAI_BAG_L2 ... Training model for up to 307.58s of the 492.03s of remaining time.\n",
      "\t-37.0155\t = Validation score   (root_mean_squared_error)\n",
      "\t40.52s\t = Training   runtime\n",
      "\t0.28s\t = Validation runtime\n",
      "Fitting model: XGBoost_BAG_L2 ... Training model for up to 266.47s of the 450.92s of remaining time.\n",
      "\t-37.091\t = Validation score   (root_mean_squared_error)\n",
      "\t4.59s\t = Training   runtime\n",
      "\t0.08s\t = Validation runtime\n",
      "Fitting model: NeuralNetMXNet_BAG_L2 ... Training model for up to 261.42s of the 445.86s of remaining time.\n",
      "\t-36.9673\t = Validation score   (root_mean_squared_error)\n",
      "\t141.41s\t = Training   runtime\n",
      "\t1.32s\t = Validation runtime\n",
      "Fitting model: LightGBMLarge_BAG_L2 ... Training model for up to 118.38s of the 302.82s of remaining time.\n",
      "/usr/local/lib/python3.7/site-packages/lightgbm/engine.py:239: UserWarning: 'verbose_eval' argument is deprecated and will be removed in a future release of LightGBM. Pass 'log_evaluation()' callback via 'callbacks' argument instead.\n",
      "  _log_warning(\"'verbose_eval' argument is deprecated and will be removed in a future release of LightGBM. \"\n",
      "/usr/local/lib/python3.7/site-packages/lightgbm/engine.py:239: UserWarning: 'verbose_eval' argument is deprecated and will be removed in a future release of LightGBM. Pass 'log_evaluation()' callback via 'callbacks' argument instead.\n",
      "  _log_warning(\"'verbose_eval' argument is deprecated and will be removed in a future release of LightGBM. \"\n",
      "/usr/local/lib/python3.7/site-packages/lightgbm/engine.py:239: UserWarning: 'verbose_eval' argument is deprecated and will be removed in a future release of LightGBM. Pass 'log_evaluation()' callback via 'callbacks' argument instead.\n",
      "  _log_warning(\"'verbose_eval' argument is deprecated and will be removed in a future release of LightGBM. \"\n",
      "\t-37.6485\t = Validation score   (root_mean_squared_error)\n",
      "\t6.6s\t = Training   runtime\n",
      "\t0.11s\t = Validation runtime\n",
      "Completed 1/20 k-fold bagging repeats ...\n",
      "Fitting model: WeightedEnsemble_L3 ... Training model for up to 360.0s of the 295.55s of remaining time.\n",
      "\t-36.0615\t = Validation score   (root_mean_squared_error)\n",
      "\t0.46s\t = Training   runtime\n",
      "\t0.0s\t = Validation runtime\n",
      "Fitting 9 L3 models ...\n",
      "Fitting model: LightGBMXT_BAG_L3 ... Training model for up to 295.0s of the 294.96s of remaining time.\n",
      "/usr/local/lib/python3.7/site-packages/lightgbm/engine.py:239: UserWarning: 'verbose_eval' argument is deprecated and will be removed in a future release of LightGBM. Pass 'log_evaluation()' callback via 'callbacks' argument instead.\n",
      "  _log_warning(\"'verbose_eval' argument is deprecated and will be removed in a future release of LightGBM. \"\n",
      "/usr/local/lib/python3.7/site-packages/lightgbm/engine.py:239: UserWarning: 'verbose_eval' argument is deprecated and will be removed in a future release of LightGBM. Pass 'log_evaluation()' callback via 'callbacks' argument instead.\n",
      "  _log_warning(\"'verbose_eval' argument is deprecated and will be removed in a future release of LightGBM. \"\n",
      "/usr/local/lib/python3.7/site-packages/lightgbm/engine.py:239: UserWarning: 'verbose_eval' argument is deprecated and will be removed in a future release of LightGBM. Pass 'log_evaluation()' callback via 'callbacks' argument instead.\n",
      "  _log_warning(\"'verbose_eval' argument is deprecated and will be removed in a future release of LightGBM. \"\n",
      "\t-37.2529\t = Validation score   (root_mean_squared_error)\n",
      "\t1.8s\t = Training   runtime\n",
      "\t0.07s\t = Validation runtime\n",
      "Fitting model: LightGBM_BAG_L3 ... Training model for up to 292.83s of the 292.8s of remaining time.\n",
      "/usr/local/lib/python3.7/site-packages/lightgbm/engine.py:239: UserWarning: 'verbose_eval' argument is deprecated and will be removed in a future release of LightGBM. Pass 'log_evaluation()' callback via 'callbacks' argument instead.\n",
      "  _log_warning(\"'verbose_eval' argument is deprecated and will be removed in a future release of LightGBM. \"\n",
      "/usr/local/lib/python3.7/site-packages/lightgbm/engine.py:239: UserWarning: 'verbose_eval' argument is deprecated and will be removed in a future release of LightGBM. Pass 'log_evaluation()' callback via 'callbacks' argument instead.\n",
      "  _log_warning(\"'verbose_eval' argument is deprecated and will be removed in a future release of LightGBM. \"\n",
      "/usr/local/lib/python3.7/site-packages/lightgbm/engine.py:239: UserWarning: 'verbose_eval' argument is deprecated and will be removed in a future release of LightGBM. Pass 'log_evaluation()' callback via 'callbacks' argument instead.\n",
      "  _log_warning(\"'verbose_eval' argument is deprecated and will be removed in a future release of LightGBM. \"\n",
      "\t-37.2045\t = Validation score   (root_mean_squared_error)\n",
      "\t2.0s\t = Training   runtime\n",
      "\t0.06s\t = Validation runtime\n",
      "Fitting model: RandomForestMSE_BAG_L3 ... Training model for up to 290.52s of the 290.49s of remaining time.\n",
      "\t-37.6001\t = Validation score   (root_mean_squared_error)\n",
      "\t29.03s\t = Training   runtime\n",
      "\t0.49s\t = Validation runtime\n",
      "Fitting model: CatBoost_BAG_L3 ... Training model for up to 258.72s of the 258.69s of remaining time.\n",
      "\t-36.6606\t = Validation score   (root_mean_squared_error)\n",
      "\t5.96s\t = Training   runtime\n",
      "\t0.03s\t = Validation runtime\n",
      "Fitting model: ExtraTreesMSE_BAG_L3 ... Training model for up to 252.52s of the 252.48s of remaining time.\n",
      "\t-37.023\t = Validation score   (root_mean_squared_error)\n",
      "\t7.5s\t = Training   runtime\n",
      "\t0.48s\t = Validation runtime\n",
      "Fitting model: NeuralNetFastAI_BAG_L3 ... Training model for up to 242.15s of the 242.12s of remaining time.\n",
      "\t-36.8411\t = Validation score   (root_mean_squared_error)\n",
      "\t40.12s\t = Training   runtime\n",
      "\t0.27s\t = Validation runtime\n",
      "Fitting model: XGBoost_BAG_L3 ... Training model for up to 201.45s of the 201.42s of remaining time.\n",
      "\t-37.8238\t = Validation score   (root_mean_squared_error)\n",
      "\t3.71s\t = Training   runtime\n",
      "\t0.08s\t = Validation runtime\n",
      "Fitting model: NeuralNetMXNet_BAG_L3 ... Training model for up to 197.28s of the 197.24s of remaining time.\n",
      "\t-37.4373\t = Validation score   (root_mean_squared_error)\n",
      "\t154.1s\t = Training   runtime\n",
      "\t1.18s\t = Validation runtime\n",
      "Fitting model: LightGBMLarge_BAG_L3 ... Training model for up to 41.71s of the 41.67s of remaining time.\n",
      "/usr/local/lib/python3.7/site-packages/lightgbm/engine.py:239: UserWarning: 'verbose_eval' argument is deprecated and will be removed in a future release of LightGBM. Pass 'log_evaluation()' callback via 'callbacks' argument instead.\n",
      "  _log_warning(\"'verbose_eval' argument is deprecated and will be removed in a future release of LightGBM. \"\n",
      "/usr/local/lib/python3.7/site-packages/lightgbm/engine.py:239: UserWarning: 'verbose_eval' argument is deprecated and will be removed in a future release of LightGBM. Pass 'log_evaluation()' callback via 'callbacks' argument instead.\n",
      "  _log_warning(\"'verbose_eval' argument is deprecated and will be removed in a future release of LightGBM. \"\n",
      "/usr/local/lib/python3.7/site-packages/lightgbm/engine.py:239: UserWarning: 'verbose_eval' argument is deprecated and will be removed in a future release of LightGBM. Pass 'log_evaluation()' callback via 'callbacks' argument instead.\n",
      "  _log_warning(\"'verbose_eval' argument is deprecated and will be removed in a future release of LightGBM. \"\n",
      "\t-38.2127\t = Validation score   (root_mean_squared_error)\n",
      "\t5.72s\t = Training   runtime\n",
      "\t0.11s\t = Validation runtime\n",
      "Completed 1/20 k-fold bagging repeats ...\n",
      "Fitting model: WeightedEnsemble_L4 ... Training model for up to 360.0s of the 35.28s of remaining time.\n",
      "\t-36.4947\t = Validation score   (root_mean_squared_error)\n",
      "\t0.47s\t = Training   runtime\n",
      "\t0.0s\t = Validation runtime\n",
      "AutoGluon training complete, total runtime = 965.44s ...\n",
      "Deleting model WeightedEnsemble_L2. All files under AutogluonModels/ag-20211102_124534/models/WeightedEnsemble_L2/ will be removed.\n",
      "Deleting model LightGBMXT_BAG_L2. All files under AutogluonModels/ag-20211102_124534/models/LightGBMXT_BAG_L2/ will be removed.\n",
      "Deleting model LightGBM_BAG_L2. All files under AutogluonModels/ag-20211102_124534/models/LightGBM_BAG_L2/ will be removed.\n",
      "Deleting model RandomForestMSE_BAG_L2. All files under AutogluonModels/ag-20211102_124534/models/RandomForestMSE_BAG_L2/ will be removed.\n",
      "Deleting model NeuralNetFastAI_BAG_L2. All files under AutogluonModels/ag-20211102_124534/models/NeuralNetFastAI_BAG_L2/ will be removed.\n",
      "Deleting model LightGBMLarge_BAG_L2. All files under AutogluonModels/ag-20211102_124534/models/LightGBMLarge_BAG_L2/ will be removed.\n",
      "Deleting model LightGBMXT_BAG_L3. All files under AutogluonModels/ag-20211102_124534/models/LightGBMXT_BAG_L3/ will be removed.\n",
      "Deleting model LightGBM_BAG_L3. All files under AutogluonModels/ag-20211102_124534/models/LightGBM_BAG_L3/ will be removed.\n",
      "Deleting model RandomForestMSE_BAG_L3. All files under AutogluonModels/ag-20211102_124534/models/RandomForestMSE_BAG_L3/ will be removed.\n",
      "Deleting model CatBoost_BAG_L3. All files under AutogluonModels/ag-20211102_124534/models/CatBoost_BAG_L3/ will be removed.\n",
      "Deleting model ExtraTreesMSE_BAG_L3. All files under AutogluonModels/ag-20211102_124534/models/ExtraTreesMSE_BAG_L3/ will be removed.\n",
      "Deleting model NeuralNetFastAI_BAG_L3. All files under AutogluonModels/ag-20211102_124534/models/NeuralNetFastAI_BAG_L3/ will be removed.\n",
      "Deleting model XGBoost_BAG_L3. All files under AutogluonModels/ag-20211102_124534/models/XGBoost_BAG_L3/ will be removed.\n",
      "Deleting model NeuralNetMXNet_BAG_L3. All files under AutogluonModels/ag-20211102_124534/models/NeuralNetMXNet_BAG_L3/ will be removed.\n",
      "Deleting model LightGBMLarge_BAG_L3. All files under AutogluonModels/ag-20211102_124534/models/LightGBMLarge_BAG_L3/ will be removed.\n",
      "Deleting model WeightedEnsemble_L4. All files under AutogluonModels/ag-20211102_124534/models/WeightedEnsemble_L4/ will be removed.\n",
      "TabularPredictor saved. To load, use: predictor = TabularPredictor.load(\"AutogluonModels/ag-20211102_124534/\")\n"
     ]
    }
   ],
   "source": [
    "predictor_new_hpo = TabularPredictor(label=\"count\",eval_metric=\"root_mean_squared_error\",learner_kwargs={\"ignored_columns\": [\"casual\", \"registered\"]})\\\n",
    "                    .fit(train_data=train,time_limit=1000,presets=\"best_quality\",keep_only_best =True,num_stack_levels =2,num_bag_folds=3)"
   ]
  },
  {
   "cell_type": "code",
   "execution_count": 62,
   "metadata": {},
   "outputs": [
    {
     "name": "stdout",
     "output_type": "stream",
     "text": [
      "*** Summary of fit() ***\n",
      "Estimated performance of each model:\n",
      "                     model   score_val  pred_time_val    fit_time  pred_time_val_marginal  fit_time_marginal  stack_level  can_infer  fit_order\n",
      "0      WeightedEnsemble_L3  -36.061491      10.945369  587.241735                0.000831           0.461393            3       True         16\n",
      "1          CatBoost_BAG_L2  -36.363904       9.056636  433.058219                0.026155          10.092103            2       True         12\n",
      "2     ExtraTreesMSE_BAG_L2  -36.447029       9.525326  430.686639                0.494846           7.720523            2       True         13\n",
      "3    NeuralNetMXNet_BAG_L2  -36.967278      10.346070  564.379024                1.315590         141.412908            2       True         15\n",
      "4           XGBoost_BAG_L2  -37.090989       9.107947  427.554808                0.077467           4.588692            2       True         14\n",
      "5          CatBoost_BAG_L1  -37.711131       0.129529   99.224751                0.129529          99.224751            1       True          6\n",
      "6          LightGBM_BAG_L1  -38.244079       1.206956    8.141482                1.206956           8.141482            1       True          4\n",
      "7     LightGBMLarge_BAG_L1  -38.408946       1.319676   18.104551                1.319676          18.104551            1       True         11\n",
      "8        LightGBMXT_BAG_L1  -38.756043       3.374439   21.172353                3.374439          21.172353            1       True          3\n",
      "9           XGBoost_BAG_L1  -39.132922       0.258759    9.875837                0.258759           9.875837            1       True          9\n",
      "10    ExtraTreesMSE_BAG_L1  -41.031078       0.412031    4.072541                0.412031           4.072541            1       True          7\n",
      "11  RandomForestMSE_BAG_L1  -41.324329       0.421985    9.784497                0.421985           9.784497            1       True          5\n",
      "12   NeuralNetMXNet_BAG_L1  -47.491412       1.245827  213.308706                1.245827         213.308706            1       True         10\n",
      "13  NeuralNetFastAI_BAG_L1  -48.929184       0.253462   39.227225                0.253462          39.227225            1       True          8\n",
      "14   KNeighborsDist_BAG_L1 -119.372602       0.204311    0.023584                0.204311           0.023584            1       True          2\n",
      "15   KNeighborsUnif_BAG_L1 -123.921631       0.203506    0.030590                0.203506           0.030590            1       True          1\n",
      "Number of models trained: 16\n",
      "Types of models trained:\n",
      "{'StackerEnsembleModel_TabularNeuralNet', 'StackerEnsembleModel_XGBoost', 'StackerEnsembleModel_RF', 'StackerEnsembleModel_CatBoost', 'StackerEnsembleModel_KNN', 'StackerEnsembleModel_XT', 'StackerEnsembleModel_NNFastAiTabular', 'StackerEnsembleModel_LGB', 'WeightedEnsembleModel'}\n",
      "Bagging used: True  (with 3 folds)\n",
      "Multi-layer stack-ensembling used: True  (with 3 levels)\n",
      "Feature Metadata (Processed):\n",
      "(raw dtype, special dtypes):\n",
      "('category', [])             : 2 | ['season', 'weather']\n",
      "('float', [])                : 3 | ['temp', 'atemp', 'windspeed']\n",
      "('int', [])                  : 4 | ['humidity', 'month', 'day', 'hour']\n",
      "('int', ['bool'])            : 3 | ['holiday', 'workingday', 'year']\n",
      "('int', ['datetime_as_int']) : 1 | ['datetime']\n",
      "Plot summary of models saved to file: AutogluonModels/ag-20211102_124534/SummaryOfModels.html\n",
      "*** End of fit() summary ***\n"
     ]
    },
    {
     "data": {
      "text/plain": [
       "{'model_types': {'KNeighborsUnif_BAG_L1': 'StackerEnsembleModel_KNN',\n",
       "  'KNeighborsDist_BAG_L1': 'StackerEnsembleModel_KNN',\n",
       "  'LightGBMXT_BAG_L1': 'StackerEnsembleModel_LGB',\n",
       "  'LightGBM_BAG_L1': 'StackerEnsembleModel_LGB',\n",
       "  'RandomForestMSE_BAG_L1': 'StackerEnsembleModel_RF',\n",
       "  'CatBoost_BAG_L1': 'StackerEnsembleModel_CatBoost',\n",
       "  'ExtraTreesMSE_BAG_L1': 'StackerEnsembleModel_XT',\n",
       "  'NeuralNetFastAI_BAG_L1': 'StackerEnsembleModel_NNFastAiTabular',\n",
       "  'XGBoost_BAG_L1': 'StackerEnsembleModel_XGBoost',\n",
       "  'NeuralNetMXNet_BAG_L1': 'StackerEnsembleModel_TabularNeuralNet',\n",
       "  'LightGBMLarge_BAG_L1': 'StackerEnsembleModel_LGB',\n",
       "  'CatBoost_BAG_L2': 'StackerEnsembleModel_CatBoost',\n",
       "  'ExtraTreesMSE_BAG_L2': 'StackerEnsembleModel_XT',\n",
       "  'XGBoost_BAG_L2': 'StackerEnsembleModel_XGBoost',\n",
       "  'NeuralNetMXNet_BAG_L2': 'StackerEnsembleModel_TabularNeuralNet',\n",
       "  'WeightedEnsemble_L3': 'WeightedEnsembleModel'},\n",
       " 'model_performance': {'KNeighborsUnif_BAG_L1': -123.92163053871576,\n",
       "  'KNeighborsDist_BAG_L1': -119.37260178212149,\n",
       "  'LightGBMXT_BAG_L1': -38.75604252949859,\n",
       "  'LightGBM_BAG_L1': -38.24407910846179,\n",
       "  'RandomForestMSE_BAG_L1': -41.324328695915895,\n",
       "  'CatBoost_BAG_L1': -37.71113090316791,\n",
       "  'ExtraTreesMSE_BAG_L1': -41.03107843469706,\n",
       "  'NeuralNetFastAI_BAG_L1': -48.92918394854144,\n",
       "  'XGBoost_BAG_L1': -39.1329222142943,\n",
       "  'NeuralNetMXNet_BAG_L1': -47.49141240839133,\n",
       "  'LightGBMLarge_BAG_L1': -38.40894613508363,\n",
       "  'CatBoost_BAG_L2': -36.36390404074355,\n",
       "  'ExtraTreesMSE_BAG_L2': -36.44702945984013,\n",
       "  'XGBoost_BAG_L2': -37.090988972470264,\n",
       "  'NeuralNetMXNet_BAG_L2': -36.96727785312566,\n",
       "  'WeightedEnsemble_L3': -36.061491363501155},\n",
       " 'model_best': 'WeightedEnsemble_L3',\n",
       " 'model_paths': {'KNeighborsUnif_BAG_L1': 'AutogluonModels/ag-20211102_124534/models/KNeighborsUnif_BAG_L1/',\n",
       "  'KNeighborsDist_BAG_L1': 'AutogluonModels/ag-20211102_124534/models/KNeighborsDist_BAG_L1/',\n",
       "  'LightGBMXT_BAG_L1': 'AutogluonModels/ag-20211102_124534/models/LightGBMXT_BAG_L1/',\n",
       "  'LightGBM_BAG_L1': 'AutogluonModels/ag-20211102_124534/models/LightGBM_BAG_L1/',\n",
       "  'RandomForestMSE_BAG_L1': 'AutogluonModels/ag-20211102_124534/models/RandomForestMSE_BAG_L1/',\n",
       "  'CatBoost_BAG_L1': 'AutogluonModels/ag-20211102_124534/models/CatBoost_BAG_L1/',\n",
       "  'ExtraTreesMSE_BAG_L1': 'AutogluonModels/ag-20211102_124534/models/ExtraTreesMSE_BAG_L1/',\n",
       "  'NeuralNetFastAI_BAG_L1': 'AutogluonModels/ag-20211102_124534/models/NeuralNetFastAI_BAG_L1/',\n",
       "  'XGBoost_BAG_L1': 'AutogluonModels/ag-20211102_124534/models/XGBoost_BAG_L1/',\n",
       "  'NeuralNetMXNet_BAG_L1': 'AutogluonModels/ag-20211102_124534/models/NeuralNetMXNet_BAG_L1/',\n",
       "  'LightGBMLarge_BAG_L1': 'AutogluonModels/ag-20211102_124534/models/LightGBMLarge_BAG_L1/',\n",
       "  'CatBoost_BAG_L2': 'AutogluonModels/ag-20211102_124534/models/CatBoost_BAG_L2/',\n",
       "  'ExtraTreesMSE_BAG_L2': 'AutogluonModels/ag-20211102_124534/models/ExtraTreesMSE_BAG_L2/',\n",
       "  'XGBoost_BAG_L2': 'AutogluonModels/ag-20211102_124534/models/XGBoost_BAG_L2/',\n",
       "  'NeuralNetMXNet_BAG_L2': 'AutogluonModels/ag-20211102_124534/models/NeuralNetMXNet_BAG_L2/',\n",
       "  'WeightedEnsemble_L3': 'AutogluonModels/ag-20211102_124534/models/WeightedEnsemble_L3/'},\n",
       " 'model_fit_times': {'KNeighborsUnif_BAG_L1': 0.030590057373046875,\n",
       "  'KNeighborsDist_BAG_L1': 0.023583650588989258,\n",
       "  'LightGBMXT_BAG_L1': 21.17235279083252,\n",
       "  'LightGBM_BAG_L1': 8.141481637954712,\n",
       "  'RandomForestMSE_BAG_L1': 9.784496784210205,\n",
       "  'CatBoost_BAG_L1': 99.22475075721741,\n",
       "  'ExtraTreesMSE_BAG_L1': 4.072540998458862,\n",
       "  'NeuralNetFastAI_BAG_L1': 39.227224826812744,\n",
       "  'XGBoost_BAG_L1': 9.875837326049805,\n",
       "  'NeuralNetMXNet_BAG_L1': 213.30870580673218,\n",
       "  'LightGBMLarge_BAG_L1': 18.104551076889038,\n",
       "  'CatBoost_BAG_L2': 10.092103004455566,\n",
       "  'ExtraTreesMSE_BAG_L2': 7.720522880554199,\n",
       "  'XGBoost_BAG_L2': 4.5886924266815186,\n",
       "  'NeuralNetMXNet_BAG_L2': 141.4129078388214,\n",
       "  'WeightedEnsemble_L3': 0.4613931179046631},\n",
       " 'model_pred_times': {'KNeighborsUnif_BAG_L1': 0.2035055160522461,\n",
       "  'KNeighborsDist_BAG_L1': 0.20431089401245117,\n",
       "  'LightGBMXT_BAG_L1': 3.374438762664795,\n",
       "  'LightGBM_BAG_L1': 1.206956386566162,\n",
       "  'RandomForestMSE_BAG_L1': 0.4219849109649658,\n",
       "  'CatBoost_BAG_L1': 0.12952876091003418,\n",
       "  'ExtraTreesMSE_BAG_L1': 0.4120314121246338,\n",
       "  'NeuralNetFastAI_BAG_L1': 0.2534618377685547,\n",
       "  'XGBoost_BAG_L1': 0.2587590217590332,\n",
       "  'NeuralNetMXNet_BAG_L1': 1.2458269596099854,\n",
       "  'LightGBMLarge_BAG_L1': 1.3196756839752197,\n",
       "  'CatBoost_BAG_L2': 0.026155471801757812,\n",
       "  'ExtraTreesMSE_BAG_L2': 0.4948456287384033,\n",
       "  'XGBoost_BAG_L2': 0.07746696472167969,\n",
       "  'NeuralNetMXNet_BAG_L2': 1.3155899047851562,\n",
       "  'WeightedEnsemble_L3': 0.0008311271667480469},\n",
       " 'num_bag_folds': 3,\n",
       " 'max_stack_level': 3,\n",
       " 'model_hyperparams': {'KNeighborsUnif_BAG_L1': {'use_orig_features': True,\n",
       "   'max_base_models': 25,\n",
       "   'max_base_models_per_type': 5,\n",
       "   'save_bag_folds': True,\n",
       "   'use_child_oof': True},\n",
       "  'KNeighborsDist_BAG_L1': {'use_orig_features': True,\n",
       "   'max_base_models': 25,\n",
       "   'max_base_models_per_type': 5,\n",
       "   'save_bag_folds': True,\n",
       "   'use_child_oof': True},\n",
       "  'LightGBMXT_BAG_L1': {'use_orig_features': True,\n",
       "   'max_base_models': 25,\n",
       "   'max_base_models_per_type': 5,\n",
       "   'save_bag_folds': True},\n",
       "  'LightGBM_BAG_L1': {'use_orig_features': True,\n",
       "   'max_base_models': 25,\n",
       "   'max_base_models_per_type': 5,\n",
       "   'save_bag_folds': True},\n",
       "  'RandomForestMSE_BAG_L1': {'use_orig_features': True,\n",
       "   'max_base_models': 25,\n",
       "   'max_base_models_per_type': 5,\n",
       "   'save_bag_folds': True,\n",
       "   'use_child_oof': True},\n",
       "  'CatBoost_BAG_L1': {'use_orig_features': True,\n",
       "   'max_base_models': 25,\n",
       "   'max_base_models_per_type': 5,\n",
       "   'save_bag_folds': True},\n",
       "  'ExtraTreesMSE_BAG_L1': {'use_orig_features': True,\n",
       "   'max_base_models': 25,\n",
       "   'max_base_models_per_type': 5,\n",
       "   'save_bag_folds': True,\n",
       "   'use_child_oof': True},\n",
       "  'NeuralNetFastAI_BAG_L1': {'use_orig_features': True,\n",
       "   'max_base_models': 25,\n",
       "   'max_base_models_per_type': 5,\n",
       "   'save_bag_folds': True},\n",
       "  'XGBoost_BAG_L1': {'use_orig_features': True,\n",
       "   'max_base_models': 25,\n",
       "   'max_base_models_per_type': 5,\n",
       "   'save_bag_folds': True},\n",
       "  'NeuralNetMXNet_BAG_L1': {'use_orig_features': True,\n",
       "   'max_base_models': 25,\n",
       "   'max_base_models_per_type': 5,\n",
       "   'save_bag_folds': True},\n",
       "  'LightGBMLarge_BAG_L1': {'use_orig_features': True,\n",
       "   'max_base_models': 25,\n",
       "   'max_base_models_per_type': 5,\n",
       "   'save_bag_folds': True},\n",
       "  'CatBoost_BAG_L2': {'use_orig_features': True,\n",
       "   'max_base_models': 25,\n",
       "   'max_base_models_per_type': 5,\n",
       "   'save_bag_folds': True},\n",
       "  'ExtraTreesMSE_BAG_L2': {'use_orig_features': True,\n",
       "   'max_base_models': 25,\n",
       "   'max_base_models_per_type': 5,\n",
       "   'save_bag_folds': True,\n",
       "   'use_child_oof': True},\n",
       "  'XGBoost_BAG_L2': {'use_orig_features': True,\n",
       "   'max_base_models': 25,\n",
       "   'max_base_models_per_type': 5,\n",
       "   'save_bag_folds': True},\n",
       "  'NeuralNetMXNet_BAG_L2': {'use_orig_features': True,\n",
       "   'max_base_models': 25,\n",
       "   'max_base_models_per_type': 5,\n",
       "   'save_bag_folds': True},\n",
       "  'WeightedEnsemble_L3': {'use_orig_features': False,\n",
       "   'max_base_models': 25,\n",
       "   'max_base_models_per_type': 5,\n",
       "   'save_bag_folds': True}},\n",
       " 'leaderboard':                      model   score_val  pred_time_val    fit_time  \\\n",
       " 0      WeightedEnsemble_L3  -36.061491      10.945369  587.241735   \n",
       " 1          CatBoost_BAG_L2  -36.363904       9.056636  433.058219   \n",
       " 2     ExtraTreesMSE_BAG_L2  -36.447029       9.525326  430.686639   \n",
       " 3    NeuralNetMXNet_BAG_L2  -36.967278      10.346070  564.379024   \n",
       " 4           XGBoost_BAG_L2  -37.090989       9.107947  427.554808   \n",
       " 5          CatBoost_BAG_L1  -37.711131       0.129529   99.224751   \n",
       " 6          LightGBM_BAG_L1  -38.244079       1.206956    8.141482   \n",
       " 7     LightGBMLarge_BAG_L1  -38.408946       1.319676   18.104551   \n",
       " 8        LightGBMXT_BAG_L1  -38.756043       3.374439   21.172353   \n",
       " 9           XGBoost_BAG_L1  -39.132922       0.258759    9.875837   \n",
       " 10    ExtraTreesMSE_BAG_L1  -41.031078       0.412031    4.072541   \n",
       " 11  RandomForestMSE_BAG_L1  -41.324329       0.421985    9.784497   \n",
       " 12   NeuralNetMXNet_BAG_L1  -47.491412       1.245827  213.308706   \n",
       " 13  NeuralNetFastAI_BAG_L1  -48.929184       0.253462   39.227225   \n",
       " 14   KNeighborsDist_BAG_L1 -119.372602       0.204311    0.023584   \n",
       " 15   KNeighborsUnif_BAG_L1 -123.921631       0.203506    0.030590   \n",
       " \n",
       "     pred_time_val_marginal  fit_time_marginal  stack_level  can_infer  \\\n",
       " 0                 0.000831           0.461393            3       True   \n",
       " 1                 0.026155          10.092103            2       True   \n",
       " 2                 0.494846           7.720523            2       True   \n",
       " 3                 1.315590         141.412908            2       True   \n",
       " 4                 0.077467           4.588692            2       True   \n",
       " 5                 0.129529          99.224751            1       True   \n",
       " 6                 1.206956           8.141482            1       True   \n",
       " 7                 1.319676          18.104551            1       True   \n",
       " 8                 3.374439          21.172353            1       True   \n",
       " 9                 0.258759           9.875837            1       True   \n",
       " 10                0.412031           4.072541            1       True   \n",
       " 11                0.421985           9.784497            1       True   \n",
       " 12                1.245827         213.308706            1       True   \n",
       " 13                0.253462          39.227225            1       True   \n",
       " 14                0.204311           0.023584            1       True   \n",
       " 15                0.203506           0.030590            1       True   \n",
       " \n",
       "     fit_order  \n",
       " 0          16  \n",
       " 1          12  \n",
       " 2          13  \n",
       " 3          15  \n",
       " 4          14  \n",
       " 5           6  \n",
       " 6           4  \n",
       " 7          11  \n",
       " 8           3  \n",
       " 9           9  \n",
       " 10          7  \n",
       " 11          5  \n",
       " 12         10  \n",
       " 13          8  \n",
       " 14          2  \n",
       " 15          1  }"
      ]
     },
     "execution_count": 62,
     "metadata": {},
     "output_type": "execute_result"
    }
   ],
   "source": [
    "predictor_new_hpo.fit_summary()"
   ]
  },
  {
   "cell_type": "code",
   "execution_count": 72,
   "metadata": {},
   "outputs": [],
   "source": [
    "# Remember to set all negative values to zero\n",
    "new_predictions_hyp = predictor_new_hpo.predict(test)\n",
    "new_predictions_hyp[new_predictions_hyp<0] = 0"
   ]
  },
  {
   "cell_type": "code",
   "execution_count": 74,
   "metadata": {},
   "outputs": [],
   "source": [
    "submission_new_hpo = pd.read_csv(\"sampleSubmission.csv\", parse_dates=[\"datetime\"])\n",
    "# Same submitting predictions\n",
    "submission_new_hpo[\"count\"] = new_predictions_hyp\n",
    "submission_new_hpo.to_csv(\"submission_new_hpo.csv\", index=False)"
   ]
  },
  {
   "cell_type": "code",
   "execution_count": 75,
   "metadata": {},
   "outputs": [
    {
     "name": "stdout",
     "output_type": "stream",
     "text": [
      "100%|█████████████████████████████████████████| 188k/188k [00:00<00:00, 749kB/s]\n",
      "Successfully submitted to Bike Sharing Demand"
     ]
    }
   ],
   "source": [
    "!kaggle competitions submit -c bike-sharing-demand -f submission_new_hpo.csv -m \"new features with hyperparameters\""
   ]
  },
  {
   "cell_type": "code",
   "execution_count": 76,
   "metadata": {},
   "outputs": [
    {
     "name": "stdout",
     "output_type": "stream",
     "text": [
      "fileName                     date                 description                        status    publicScore  privateScore  \n",
      "---------------------------  -------------------  ---------------------------------  --------  -----------  ------------  \n",
      "submission_new_hpo.csv       2021-11-02 13:07:11  new features with hyperparameters  complete  0.46396      0.46396       \n",
      "submission_new_features.csv  2021-11-02 12:34:08  new features                       complete  0.47027      0.47027       \n",
      "submission.csv               2021-11-02 11:48:27  first raw submission               complete  1.39194      1.39194       \n"
     ]
    }
   ],
   "source": [
    "!kaggle competitions submissions -c bike-sharing-demand | tail -n +1 | head -n 6"
   ]
  },
  {
   "cell_type": "markdown",
   "metadata": {},
   "source": [
    "#### New Score of `0.46396`"
   ]
  },
  {
   "cell_type": "markdown",
   "metadata": {},
   "source": [
    "## Step 7: Write a Report\n",
    "### Refer to the markdown file for the full report\n",
    "### Creating plots and table for report"
   ]
  },
  {
   "cell_type": "code",
   "execution_count": 98,
   "metadata": {},
   "outputs": [
    {
     "data": {
      "image/png": "[encoded data removed]",
      "text/plain": [
       "<Figure size 576x432 with 1 Axes>"
      ]
     },
     "metadata": {
      "needs_background": "light"
     },
     "output_type": "display_data"
    }
   ],
   "source": [
    "# Taking the top model score from each training run and creating a line plot to show improvement\n",
    "# You can create these in the notebook and save them to PNG or use some other tool (e.g. google sheets, excel)\n",
    "\n",
    "first_model = predictor.leaderboard(silent=True)['score_val'][0]\n",
    "second_model = predictor_new_features.leaderboard(silent=True)['score_val'][0]\n",
    "final_model = predictor_new_hpo.leaderboard(silent=True)['score_val'][0]\n",
    "\n",
    "\n",
    "fig = pd.DataFrame(\n",
    "    {\n",
    "        \"model\": [\"initial\", \"add_features\", \"hpo\"],\n",
    "        \"score\": [first_model,second_model, final_model]\n",
    "    }\n",
    ").plot(x=\"model\", y=\"score\", figsize=(8, 6)).get_figure()\n",
    "fig.savefig('model_train_score.jpeg')"
   ]
  },
  {
   "cell_type": "code",
   "execution_count": 99,
   "metadata": {},
   "outputs": [
    {
     "data": {
      "image/png": "[encoded data removed]",
      "text/plain": [
       "<Figure size 576x432 with 1 Axes>"
      ]
     },
     "metadata": {
      "needs_background": "light"
     },
     "output_type": "display_data"
    }
   ],
   "source": [
    "# Take the 3 kaggle scores and creating a line plot to show improvement\n",
    "fig = pd.DataFrame(\n",
    "    {\n",
    "        \"test_eval\": [\"initial\", \"add_features\", \"hpo\"],\n",
    "        \"score\": [1.39194, 0.47027, 0.46396]\n",
    "    }\n",
    ").plot(x=\"test_eval\", y=\"score\", figsize=(8, 6)).get_figure()\n",
    "fig.savefig('model_test_score.jpeg')"
   ]
  },
  {
   "cell_type": "markdown",
   "metadata": {},
   "source": [
    "### Hyperparameter table"
   ]
  },
  {
   "cell_type": "code",
   "execution_count": 100,
   "metadata": {},
   "outputs": [
    {
     "data": {
      "text/html": [
       "<div>\n",
       "<style scoped>\n",
       "    .dataframe tbody tr th:only-of-type {\n",
       "        vertical-align: middle;\n",
       "    }\n",
       "\n",
       "    .dataframe tbody tr th {\n",
       "        vertical-align: top;\n",
       "    }\n",
       "\n",
       "    .dataframe thead th {\n",
       "        text-align: right;\n",
       "    }\n",
       "</style>\n",
       "<table border=\"1\" class=\"dataframe\">\n",
       "  <thead>\n",
       "    <tr style=\"text-align: right;\">\n",
       "      <th></th>\n",
       "      <th>model</th>\n",
       "      <th>num_bag_folds</th>\n",
       "      <th>num_stack_levels</th>\n",
       "      <th>time_limit</th>\n",
       "      <th>score</th>\n",
       "    </tr>\n",
       "  </thead>\n",
       "  <tbody>\n",
       "    <tr>\n",
       "      <th>0</th>\n",
       "      <td>initial</td>\n",
       "      <td>0</td>\n",
       "      <td>0</td>\n",
       "      <td>600</td>\n",
       "      <td>1.39194</td>\n",
       "    </tr>\n",
       "    <tr>\n",
       "      <th>1</th>\n",
       "      <td>add_features</td>\n",
       "      <td>0</td>\n",
       "      <td>0</td>\n",
       "      <td>600</td>\n",
       "      <td>0.47027</td>\n",
       "    </tr>\n",
       "    <tr>\n",
       "      <th>2</th>\n",
       "      <td>hpo</td>\n",
       "      <td>3</td>\n",
       "      <td>2</td>\n",
       "      <td>1000</td>\n",
       "      <td>0.46396</td>\n",
       "    </tr>\n",
       "  </tbody>\n",
       "</table>\n",
       "</div>"
      ],
      "text/plain": [
       "          model  num_bag_folds  num_stack_levels  time_limit    score\n",
       "0       initial              0                 0         600  1.39194\n",
       "1  add_features              0                 0         600  0.47027\n",
       "2           hpo              3                 2        1000  0.46396"
      ]
     },
     "execution_count": 100,
     "metadata": {},
     "output_type": "execute_result"
    }
   ],
   "source": [
    "# The 3 hyperparameters we tuned with the kaggle score as the result\n",
    "pd.DataFrame({\n",
    "    \"model\": [\"initial\", \"add_features\", \"hpo\"],\n",
    "    \"num_bag_folds\": [0, 0, 3],\n",
    "    \"num_stack_levels\": [0, 0, 2],\n",
    "    \"time_limit\": [600, 600, 1000],\n",
    "    \"score\": [1.39194, 0.47027, 0.46396]\n",
    "})"
   ]
  }
 ],
 "metadata": {
  "instance_type": "ml.t3.medium",
  "kernelspec": {
   "display_name": "Python 3",
   "language": "python",
   "name": "python3"
  },
  "language_info": {
   "codemirror_mode": {
    "name": "ipython",
    "version": 3
   },
   "file_extension": ".py",
   "mimetype": "text/x-python",
   "name": "python",
   "nbconvert_exporter": "python",
   "pygments_lexer": "ipython3",
   "version": "3.8.10"
  }
 },
 "nbformat": 4,
 "nbformat_minor": 4
}
